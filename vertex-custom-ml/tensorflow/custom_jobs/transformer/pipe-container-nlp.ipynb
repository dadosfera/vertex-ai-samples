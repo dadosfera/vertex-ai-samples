{
 "cells": [
  {
   "cell_type": "markdown",
   "metadata": {},
   "source": [
    "## Initialize (Variables and Libraries)"
   ]
  },
  {
   "cell_type": "code",
   "execution_count": 1,
   "metadata": {},
   "outputs": [],
   "source": [
    "PROJECT_ID = \"vtxdemos\"\n",
    "STAGING_FOLDER_URI =  \"gs://vtxdemos-staging\"\n",
    "TRAIN_IMAGE_URI = \"gcr.io/vtxdemos/tensorflow-gpu-nlp-pipe:v1\"\n",
    "PRED_IMAGE_URI = \"us-docker.pkg.dev/vertex-ai/prediction/tf2-cpu.2-11:latest\"\n",
    "MODEL_URI = \"gs://vtxdemos-models/nlp\""
   ]
  },
  {
   "cell_type": "code",
   "execution_count": 2,
   "metadata": {},
   "outputs": [],
   "source": [
    "from google.cloud import aiplatform as aip"
   ]
  },
  {
   "cell_type": "markdown",
   "metadata": {},
   "source": [
    "## Creating Folder Structure for Training Script"
   ]
  },
  {
   "cell_type": "code",
   "execution_count": 9,
   "metadata": {},
   "outputs": [],
   "source": [
    "!rm -fr training\n",
    "!mkdir training"
   ]
  },
  {
   "cell_type": "code",
   "execution_count": 10,
   "metadata": {},
   "outputs": [
    {
     "name": "stdout",
     "output_type": "stream",
     "text": [
      "Writing training/train.py\n"
     ]
    }
   ],
   "source": [
    "%%writefile training/train.py\n",
    "#%%\n",
    "import os\n",
    "import numpy as np\n",
    "import tensorflow as tf\n",
    "import tensorflow_hub as hub\n",
    "from google.cloud import bigquery\n",
    "import tensorflow_datasets as tfds\n",
    "callback = tf.keras.callbacks.EarlyStopping(monitor='loss', patience=3)\n",
    "\n",
    "print(\"Version: \", tf.__version__)\n",
    "print(\"Eager mode: \", tf.executing_eagerly())\n",
    "print(\"Hub version: \", hub.__version__)\n",
    "print(\"GPU is\", \"available\" if tf.config.list_physical_devices('GPU') else \"NOT AVAILABLE\")\n",
    "\n",
    "client = bigquery.Client(project=\"vtxdemos\")\n",
    "\n",
    "## Loading testing dataset from bigquery\n",
    "sql = \"select * from `public.train_nlp`\"\n",
    "train_df = client.query(sql).to_dataframe()\n",
    "train_examples = np.array([i.encode('utf-8') for i in train_df['text']], dtype=\"object\")\n",
    "train_labels = train_df['labels'].to_numpy(dtype=int)\n",
    "\n",
    "## Loading testing dataset from bigquery\n",
    "sql = \"select * from `vtxdemos.public.train_nlp`\"\n",
    "test_df = client.query(sql).to_dataframe()\n",
    "test_examples = np.array([i.encode('utf-8') for i in test_df['text']], dtype=\"object\")\n",
    "test_labels = test_df['labels'].to_numpy(dtype=int)\n",
    "\n",
    "## Load pre-trained model (BERT)\n",
    "model = \"https://tfhub.dev/google/nnlm-en-dim50/2\"\n",
    "hub_layer = hub.KerasLayer(model, input_shape=[], dtype=tf.string, trainable=True)\n",
    "\n",
    "## Splitting datasets\n",
    "x_val = train_examples[:10000]\n",
    "partial_x_train = train_examples[10000:]\n",
    "\n",
    "y_val = train_labels[:10000]\n",
    "partial_y_train = train_labels[10000:]\n",
    "\n",
    "## Create new nn layers\n",
    "model = tf.keras.Sequential()\n",
    "model.add(hub_layer)\n",
    "model.add(tf.keras.layers.Dense(16, activation='relu'))\n",
    "model.add(tf.keras.layers.Dense(1))\n",
    "\n",
    "model.compile(optimizer='adam',\n",
    "              loss=tf.losses.BinaryCrossentropy(from_logits=True),\n",
    "              metrics=[tf.metrics.BinaryAccuracy(threshold=0.0, name='accuracy')])\n",
    "\n",
    "#%%\n",
    "history = model.fit(partial_x_train,\n",
    "                    partial_y_train,\n",
    "                    epochs=20,\n",
    "                    batch_size=512,\n",
    "                    validation_data=(x_val, y_val),\n",
    "                    verbose=1,\n",
    "                    callbacks=[callback])\n",
    "model.save(os.getenv('AIP_MODEL_DIR'))"
   ]
  },
  {
   "cell_type": "code",
   "execution_count": 11,
   "metadata": {},
   "outputs": [
    {
     "name": "stdout",
     "output_type": "stream",
     "text": [
      "Writing training/requirements.txt\n"
     ]
    }
   ],
   "source": [
    "%%writefile training/requirements.txt\n",
    "tensorflow==2.11.0\n",
    "tensorflow_hub\n",
    "tensorflow-datasets\n",
    "numpy\n",
    "pandas\n",
    "google-cloud-bigquery\n",
    "db-dtypes"
   ]
  },
  {
   "cell_type": "code",
   "execution_count": 12,
   "metadata": {},
   "outputs": [
    {
     "name": "stdout",
     "output_type": "stream",
     "text": [
      "Writing training/Dockerfile\n"
     ]
    }
   ],
   "source": [
    "%%writefile training/Dockerfile\n",
    "FROM nvidia/cuda:11.8.0-cudnn8-devel-ubuntu22.04\n",
    "ARG DEBIAN_FRONTEND=noninteractive\n",
    "\n",
    "COPY train.py train.py\n",
    "COPY requirements.txt requirements.txt\n",
    "RUN apt update -y\n",
    "RUN apt-get install -y python3.10 && \\\n",
    "     apt-get install -y python3-pip\n",
    "RUN pip install -r requirements.txt\n",
    "\n",
    "CMD [\"python3\", \"train.py\"]"
   ]
  },
  {
   "cell_type": "code",
   "execution_count": 13,
   "metadata": {},
   "outputs": [
    {
     "name": "stdout",
     "output_type": "stream",
     "text": [
      "Sending build context to Docker daemon  5.632kB\n",
      "Step 1/8 : FROM nvidia/cuda:11.8.0-cudnn8-devel-ubuntu22.04\n",
      " ---> fd00873d2a37\n",
      "Step 2/8 : ARG DEBIAN_FRONTEND=noninteractive\n",
      " ---> Using cache\n",
      " ---> 9e5c0c7ff153\n",
      "Step 3/8 : COPY train.py train.py\n",
      " ---> Using cache\n",
      " ---> d4799fbe429c\n",
      "Step 4/8 : COPY requirements.txt requirements.txt\n",
      " ---> Using cache\n",
      " ---> 6876f3ccf27d\n",
      "Step 5/8 : RUN apt update -y\n",
      " ---> Using cache\n",
      " ---> baabb2dc1168\n",
      "Step 6/8 : RUN apt-get install -y python3.10 &&      apt-get install -y python3-pip\n",
      " ---> Using cache\n",
      " ---> 6d948c304b6a\n",
      "Step 7/8 : RUN pip install -r requirements.txt\n",
      " ---> Using cache\n",
      " ---> 6583cf5048a1\n",
      "Step 8/8 : CMD [\"python3\", \"train.py\"]\n",
      " ---> Using cache\n",
      " ---> 2d186d2e6778\n",
      "Successfully built 2d186d2e6778\n",
      "Successfully tagged gcr.io/vtxdemos/tensorflow-gpu-nlp-pipe:v1\n",
      "\n",
      "Use 'docker scan' to run Snyk tests against images to find vulnerabilities and learn how to fix them\n",
      "The push refers to repository [gcr.io/vtxdemos/tensorflow-gpu-nlp-pipe]\n",
      "\n",
      "\u001b[1Bd5a56689: Preparing \n",
      "\u001b[1Becc4892a: Preparing \n",
      "\u001b[1B9d269ac0: Preparing \n",
      "\u001b[1Bcb77b88f: Preparing \n",
      "\u001b[1B1b007e86: Preparing \n",
      "\u001b[1B2eabba29: Preparing \n",
      "\u001b[1B9e83e652: Preparing \n",
      "\u001b[1B8f4121e3: Preparing \n",
      "\u001b[1Bac953428: Preparing \n",
      "\u001b[1B89f48870: Preparing \n",
      "\u001b[1Bd7cd1026: Preparing \n",
      "\u001b[1Bf5c5948a: Preparing \n",
      "\u001b[1B06a133b8: Preparing \n",
      "\u001b[1B1c199f2f: Preparing \n",
      "\u001b[1Bd1f80fca: Preparing \n",
      "\u001b[1Bf0edb23d: Preparing \n",
      "\u001b[1B2d88f679: Layer already exists \u001b[17A\u001b[2K\u001b[11A\u001b[2K\u001b[6A\u001b[2K\u001b[1A\u001b[2Kv1: digest: sha256:01488cafe79126500536c4bd211b808f969d7783c257f58338fc5ee065ea6403 size: 3896\n"
     ]
    }
   ],
   "source": [
    "!docker build -t $TRAIN_IMAGE_URI training/.\n",
    "!docker push $TRAIN_IMAGE_URI"
   ]
  },
  {
   "attachments": {},
   "cell_type": "markdown",
   "metadata": {},
   "source": [
    "## Create Vertex Pipelines"
   ]
  },
  {
   "cell_type": "code",
   "execution_count": 36,
   "metadata": {},
   "outputs": [],
   "source": [
    "from kfp import compiler\n",
    "from kfp.dsl import component, pipeline\n",
    "from kfp.components import importer_node\n",
    "from google_cloud_pipeline_components.v1 import custom_job, model, endpoint\n",
    "from google_cloud_pipeline_components.types import artifact_types\n",
    "\n",
    "\n",
    "\n",
    "worker_pool_specs = [\n",
    "    {\n",
    "        \"machine_spec\": {\n",
    "            \"machine_type\" : \"n1-standard-8\",\n",
    "            \"accelerator_type\": \"NVIDIA_TESLA_T4\",\n",
    "            \"accelerator_count\": 1\n",
    "        },\n",
    "        \"replica_count\": \"1\",\n",
    "        \"container_spec\": {\n",
    "            \"image_uri\" : TRAIN_IMAGE_URI\n",
    "        }\n",
    "    }\n",
    "]\n",
    "\n",
    "@pipeline(name='pipe-tf-nlp')\n",
    "def pipeline(\n",
    "    project_id : str,\n",
    "    model_uri: str,\n",
    "    pred_image_uri: str,\n",
    "    prefix_name: str\n",
    "):\n",
    "    custom_train_job = custom_job.component.custom_training_job(\n",
    "        display_name=f\"{prefix_name}-train\",\n",
    "        project=project_id,\n",
    "        worker_pool_specs=worker_pool_specs,\n",
    "        base_output_directory=model_uri\n",
    "    )\n",
    "    importer_spec = importer_node.importer(\n",
    "        artifact_uri=f\"{MODEL_URI}/model\",\n",
    "        artifact_class=artifact_types.UnmanagedContainerModel,\n",
    "        metadata={\n",
    "            \"containerSpec\": {\n",
    "                \"imageUri\": pred_image_uri\n",
    "            },\n",
    "        }).after(custom_train_job)\n",
    "    model_upload_job = model.ModelUploadOp(\n",
    "        display_name=f\"{prefix_name}-model\",\n",
    "        project=project_id,\n",
    "        unmanaged_container_model=importer_spec.outputs[\"artifact\"])\n",
    "    endpoint_create_job = endpoint.EndpointCreateOp(\n",
    "        display_name=f\"{prefix_name}-endpoint\",\n",
    "        project=project_id,\n",
    "    )\n",
    "    endpoint_deploy_job = endpoint.ModelDeployOp(\n",
    "        deployed_model_display_name=f\"{prefix_name}-model-deployed\",\n",
    "        endpoint=endpoint_create_job.outputs[\"endpoint\"],\n",
    "        model=model_upload_job.outputs[\"model\"],\n",
    "        dedicated_resources_machine_type=\"n1-standard-4\",\n",
    "        dedicated_resources_min_replica_count=1,\n",
    "        dedicated_resources_max_replica_count=1,\n",
    "    )\n",
    "\n",
    "    \n",
    "    "
   ]
  },
  {
   "attachments": {},
   "cell_type": "markdown",
   "metadata": {},
   "source": [
    "## Create Compiled File from Pipelines"
   ]
  },
  {
   "cell_type": "code",
   "execution_count": 37,
   "metadata": {},
   "outputs": [],
   "source": [
    "compiler.Compiler().compile(\n",
    "    pipeline_func=pipeline,\n",
    "    package_path='pipe_tf_nlp.yaml')"
   ]
  },
  {
   "cell_type": "code",
   "execution_count": 38,
   "metadata": {},
   "outputs": [],
   "source": [
    "from kfp.registry import RegistryClient\n",
    "\n",
    "client = RegistryClient(host=f\"https://us-central1-kfp.pkg.dev/vtxdemos/kfp-repo\")"
   ]
  },
  {
   "attachments": {},
   "cell_type": "markdown",
   "metadata": {},
   "source": [
    "## Create Template for Graphical Interface (Sharing Artifact Template) [Optional]"
   ]
  },
  {
   "cell_type": "code",
   "execution_count": 39,
   "metadata": {},
   "outputs": [],
   "source": [
    "templateName, versionName = client.upload_pipeline(\n",
    "  file_name=\"pipe_tf_nlp.yaml\",\n",
    "  tags=[\"v2\", \"latest\"],\n",
    "  extra_headers={\"description\":\"This is an example pipeline template.\"})"
   ]
  },
  {
   "attachments": {},
   "cell_type": "markdown",
   "metadata": {},
   "source": [
    "## Send Pipeline Job"
   ]
  },
  {
   "cell_type": "code",
   "execution_count": 40,
   "metadata": {},
   "outputs": [],
   "source": [
    "from google.cloud import aiplatform\n",
    "\n",
    "# Initialize the aiplatform package\n",
    "aiplatform.init(\n",
    "    project=\"vtxdemos\",\n",
    "    location='us-central1',\n",
    "    staging_bucket=STAGING_FOLDER_URI)\n",
    "\n",
    "# Create a job via version id.\n",
    "job = aiplatform.PipelineJob(\n",
    "    display_name=\"pipe-tf-nlp\",\n",
    "    template_path=\"pipe_tf_nlp.yaml\",\n",
    "    parameter_values={\n",
    "        \"project_id\" : PROJECT_ID,\n",
    "        \"model_uri\": MODEL_URI,\n",
    "        \"pred_image_uri\": PRED_IMAGE_URI,\n",
    "        \"prefix_name\": \"pipe-nlp-tf2\"\n",
    "    },\n",
    "    )\n",
    "\n",
    "job.submit()"
   ]
  },
  {
   "attachments": {},
   "cell_type": "markdown",
   "metadata": {},
   "source": [
    "[](images/transformer-pipe.png)"
   ]
  },
  {
   "attachments": {},
   "cell_type": "markdown",
   "metadata": {},
   "source": [
    "<center><img src=\"images/transformer-pipe.png\"/></center>\n"
   ]
  }
 ],
 "metadata": {
  "kernelspec": {
   "display_name": "vertex",
   "language": "python",
   "name": "python3"
  },
  "language_info": {
   "codemirror_mode": {
    "name": "ipython",
    "version": 3
   },
   "file_extension": ".py",
   "mimetype": "text/x-python",
   "name": "python",
   "nbconvert_exporter": "python",
   "pygments_lexer": "ipython3",
   "version": "3.9.0"
  },
  "orig_nbformat": 4
 },
 "nbformat": 4,
 "nbformat_minor": 2
}
