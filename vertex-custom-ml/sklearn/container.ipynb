{
 "cells": [
  {
   "cell_type": "markdown",
   "metadata": {},
   "source": [
    "# Vertex Tabular Binary Classification with .CustomJob() / Container"
   ]
  },
  {
   "attachments": {},
   "cell_type": "markdown",
   "metadata": {},
   "source": [
    "<table align=\"left\">\n",
    "  <td>\n",
    "    <a href=\"https://colab.research.google.com/github/jchavezar/vertex-ai-samples/blob/main/vertex-custom-ml/sklearn/container.ipynb\">\n",
    "      <img src=\"https://cloud.google.com/ml-engine/images/colab-logo-32px.png\" alt=\"Colab logo\"> Run in Colab\n",
    "    </a>\n",
    "  </td>\n",
    "</table>"
   ]
  },
  {
   "attachments": {},
   "cell_type": "markdown",
   "metadata": {},
   "source": [
    "**Use case: predict if a customer will buy on return visit.**\n",
    "\n",
    "The ecommerce dataset has different training features:\n",
    "- latest_ecommerce_progress\n",
    "- bounces\n",
    "- time_on_site\n",
    "- pageviews\n",
    "- source\n",
    "- medium\n",
    "- channel_grouping\n",
    "- device_category\n",
    "- country\n",
    "\n",
    "The label: will_buy_on_return_visit\n",
    "\n",
    "Data is imbalanced"
   ]
  },
  {
   "attachments": {},
   "cell_type": "markdown",
   "metadata": {},
   "source": [
    "## Colab Only"
   ]
  },
  {
   "cell_type": "markdown",
   "metadata": {},
   "source": [
    "*Uncomment and execute if colab*"
   ]
  },
  {
   "cell_type": "code",
   "execution_count": null,
   "metadata": {},
   "outputs": [],
   "source": [
    "#! pip3 install --upgrade google-cloud-aiplatform -q google-cloud-bigquery db-dtypes"
   ]
  },
  {
   "cell_type": "code",
   "execution_count": null,
   "metadata": {},
   "outputs": [],
   "source": [
    "# Automatically restart kernel after installs so that your environment can access the new packages\n",
    "# import IPython\n",
    "\n",
    "# app = IPython.Application.instance()\n",
    "# app.kernel.do_shutdown(True)"
   ]
  },
  {
   "cell_type": "code",
   "execution_count": null,
   "metadata": {},
   "outputs": [],
   "source": [
    "# from google.colab import auth\n",
    "# auth.authenticate_user()"
   ]
  },
  {
   "attachments": {},
   "cell_type": "markdown",
   "metadata": {},
   "source": [
    "## Import Libraries"
   ]
  },
  {
   "cell_type": "code",
   "execution_count": 3,
   "metadata": {},
   "outputs": [],
   "source": [
    "from google.cloud import aiplatform as aip"
   ]
  },
  {
   "cell_type": "markdown",
   "metadata": {},
   "source": [
    "## Variables"
   ]
  },
  {
   "cell_type": "code",
   "execution_count": 4,
   "metadata": {},
   "outputs": [],
   "source": [
    "IMAGE_TRAIN_URI = \"gcr.io/jchavezar-demo/sklearn-train\"\n",
    "IMAGE_PREDICTION_URI = \"gcr.io/jchavezar-demo/ecommerce:fast-onnx\"\n",
    "MODEL_URI = \"gs://vtx-models/ecommerce/sklearn\""
   ]
  },
  {
   "attachments": {},
   "cell_type": "markdown",
   "metadata": {},
   "source": [
    "## Initialize Vertex Project"
   ]
  },
  {
   "attachments": {},
   "cell_type": "markdown",
   "metadata": {},
   "source": [
    "*Remember to change project and staging_bucket*"
   ]
  },
  {
   "cell_type": "code",
   "execution_count": 6,
   "metadata": {},
   "outputs": [],
   "source": [
    "aip.init(project='jchavezar-demo', staging_bucket='gs://vtx-staging')\n"
   ]
  },
  {
   "attachments": {},
   "cell_type": "markdown",
   "metadata": {},
   "source": [
    "## Train your Model using Vertex (Containers)"
   ]
  },
  {
   "cell_type": "code",
   "execution_count": 9,
   "metadata": {},
   "outputs": [
    {
     "name": "stderr",
     "output_type": "stream",
     "text": [
      "/home/sockcop/.local/lib/python3.9/site-packages/google/auth/_default.py:83: UserWarning: Your application has authenticated using end user credentials from Google Cloud SDK without a quota project. You might receive a \"quota exceeded\" or \"API not enabled\" error. We recommend you rerun `gcloud auth application-default login` and make sure a quota project is added. Or you can use service accounts instead. For more information about service accounts, see https://cloud.google.com/docs/authentication/\n",
      "  warnings.warn(_CLOUD_SDK_CREDENTIALS_WARNING)\n"
     ]
    },
    {
     "name": "stdout",
     "output_type": "stream",
     "text": [
      "Creating CustomJob\n",
      "CustomJob created. Resource name: projects/569083142710/locations/us-central1/customJobs/746408553757016064\n",
      "To use this CustomJob in another session:\n",
      "custom_job = aiplatform.CustomJob.get('projects/569083142710/locations/us-central1/customJobs/746408553757016064')\n",
      "View Custom Job:\n",
      "https://console.cloud.google.com/ai/platform/locations/us-central1/training/746408553757016064?project=569083142710\n",
      "CustomJob projects/569083142710/locations/us-central1/customJobs/746408553757016064 current state:\n",
      "JobState.JOB_STATE_PENDING\n",
      "CustomJob projects/569083142710/locations/us-central1/customJobs/746408553757016064 current state:\n",
      "JobState.JOB_STATE_PENDING\n",
      "CustomJob projects/569083142710/locations/us-central1/customJobs/746408553757016064 current state:\n",
      "JobState.JOB_STATE_PENDING\n",
      "CustomJob projects/569083142710/locations/us-central1/customJobs/746408553757016064 current state:\n",
      "JobState.JOB_STATE_PENDING\n",
      "CustomJob projects/569083142710/locations/us-central1/customJobs/746408553757016064 current state:\n",
      "JobState.JOB_STATE_PENDING\n",
      "CustomJob projects/569083142710/locations/us-central1/customJobs/746408553757016064 current state:\n",
      "JobState.JOB_STATE_PENDING\n",
      "CustomJob projects/569083142710/locations/us-central1/customJobs/746408553757016064 current state:\n",
      "JobState.JOB_STATE_PENDING\n",
      "CustomJob projects/569083142710/locations/us-central1/customJobs/746408553757016064 current state:\n",
      "JobState.JOB_STATE_PENDING\n",
      "CustomJob projects/569083142710/locations/us-central1/customJobs/746408553757016064 current state:\n",
      "JobState.JOB_STATE_PENDING\n",
      "CustomJob projects/569083142710/locations/us-central1/customJobs/746408553757016064 current state:\n",
      "JobState.JOB_STATE_PENDING\n",
      "CustomJob projects/569083142710/locations/us-central1/customJobs/746408553757016064 current state:\n",
      "JobState.JOB_STATE_RUNNING\n",
      "CustomJob projects/569083142710/locations/us-central1/customJobs/746408553757016064 current state:\n",
      "JobState.JOB_STATE_RUNNING\n",
      "CustomJob projects/569083142710/locations/us-central1/customJobs/746408553757016064 current state:\n",
      "JobState.JOB_STATE_RUNNING\n",
      "CustomJob projects/569083142710/locations/us-central1/customJobs/746408553757016064 current state:\n",
      "JobState.JOB_STATE_RUNNING\n",
      "CustomJob projects/569083142710/locations/us-central1/customJobs/746408553757016064 current state:\n",
      "JobState.JOB_STATE_RUNNING\n",
      "CustomJob projects/569083142710/locations/us-central1/customJobs/746408553757016064 current state:\n",
      "JobState.JOB_STATE_RUNNING\n",
      "CustomJob projects/569083142710/locations/us-central1/customJobs/746408553757016064 current state:\n",
      "JobState.JOB_STATE_SUCCEEDED\n",
      "CustomJob run completed. Resource name: projects/569083142710/locations/us-central1/customJobs/746408553757016064\n"
     ]
    }
   ],
   "source": [
    "worker_pool_specs=[\n",
    "    {\n",
    "        \"machine_spec\": {\n",
    "            \"machine_type\": \"n1-standard-4\"\n",
    "        },\n",
    "        \"replica_count\" : 1,\n",
    "        \"container_spec\": {\n",
    "            \"image_uri\": IMAGE_TRAIN_URI\n",
    "        }\n",
    "    }\n",
    "]\n",
    "\n",
    "my_job = aip.CustomJob(\n",
    "    display_name = \"sklearn-customjob-train\",\n",
    "    worker_pool_specs = worker_pool_specs,\n",
    "    base_output_dir = MODEL_URI,\n",
    ")\n",
    "\n",
    "my_job.run()"
   ]
  },
  {
   "attachments": {},
   "cell_type": "markdown",
   "metadata": {},
   "source": [
    "## Upload Model to Model Registry"
   ]
  },
  {
   "cell_type": "code",
   "execution_count": 10,
   "metadata": {},
   "outputs": [
    {
     "name": "stderr",
     "output_type": "stream",
     "text": [
      "/home/sockcop/.local/lib/python3.9/site-packages/google/auth/_default.py:83: UserWarning: Your application has authenticated using end user credentials from Google Cloud SDK without a quota project. You might receive a \"quota exceeded\" or \"API not enabled\" error. We recommend you rerun `gcloud auth application-default login` and make sure a quota project is added. Or you can use service accounts instead. For more information about service accounts, see https://cloud.google.com/docs/authentication/\n",
      "  warnings.warn(_CLOUD_SDK_CREDENTIALS_WARNING)\n"
     ]
    },
    {
     "name": "stdout",
     "output_type": "stream",
     "text": [
      "Creating Model\n",
      "Create Model backing LRO: projects/569083142710/locations/us-central1/models/6683396822599204864/operations/6213083816194473984\n"
     ]
    },
    {
     "name": "stderr",
     "output_type": "stream",
     "text": [
      "/home/sockcop/.local/lib/python3.9/site-packages/google/auth/_default.py:83: UserWarning: Your application has authenticated using end user credentials from Google Cloud SDK without a quota project. You might receive a \"quota exceeded\" or \"API not enabled\" error. We recommend you rerun `gcloud auth application-default login` and make sure a quota project is added. Or you can use service accounts instead. For more information about service accounts, see https://cloud.google.com/docs/authentication/\n",
      "  warnings.warn(_CLOUD_SDK_CREDENTIALS_WARNING)\n",
      "/home/sockcop/.local/lib/python3.9/site-packages/google/auth/_default.py:83: UserWarning: Your application has authenticated using end user credentials from Google Cloud SDK without a quota project. You might receive a \"quota exceeded\" or \"API not enabled\" error. We recommend you rerun `gcloud auth application-default login` and make sure a quota project is added. Or you can use service accounts instead. For more information about service accounts, see https://cloud.google.com/docs/authentication/\n",
      "  warnings.warn(_CLOUD_SDK_CREDENTIALS_WARNING)\n"
     ]
    },
    {
     "name": "stdout",
     "output_type": "stream",
     "text": [
      "Model created. Resource name: projects/569083142710/locations/us-central1/models/6683396822599204864@1\n",
      "To use this Model in another session:\n",
      "model = aiplatform.Model('projects/569083142710/locations/us-central1/models/6683396822599204864@1')\n"
     ]
    }
   ],
   "source": [
    "model = aip.Model.upload(\n",
    "    display_name='sklearn-ecommerce-1',\n",
    "    artifact_uri=MODEL_URI,\n",
    "    serving_container_image_uri=IMAGE_PREDICTION_URI,\n",
    "    serving_container_predict_route='/predict',\n",
    "    serving_container_health_route='/health'\n",
    ")"
   ]
  },
  {
   "cell_type": "markdown",
   "metadata": {},
   "source": [
    "## Deploy Model for Online Prediction (Vertex Endpoints)"
   ]
  },
  {
   "cell_type": "code",
   "execution_count": 11,
   "metadata": {},
   "outputs": [
    {
     "name": "stdout",
     "output_type": "stream",
     "text": [
      "Creating Endpoint\n",
      "Create Endpoint backing LRO: projects/569083142710/locations/us-central1/endpoints/1510944480843268096/operations/1903138972800909312\n",
      "Endpoint created. Resource name: projects/569083142710/locations/us-central1/endpoints/1510944480843268096\n",
      "To use this Endpoint in another session:\n",
      "endpoint = aiplatform.Endpoint('projects/569083142710/locations/us-central1/endpoints/1510944480843268096')\n",
      "Deploying model to Endpoint : projects/569083142710/locations/us-central1/endpoints/1510944480843268096\n",
      "Deploy Endpoint model backing LRO: projects/569083142710/locations/us-central1/endpoints/1510944480843268096/operations/8345538239754403840\n"
     ]
    },
    {
     "ename": "FailedPrecondition",
     "evalue": "400 Model server terminated: model server container terminated: exit_code: \t 1\nreason: \"Error\"\nstarted_at {\n  seconds: 1677298024\n}\nfinished_at {\n  seconds: 1677298026\n}\n. Model server logs can be found at https://console.cloud.google.com/logs/viewer?project=569083142710&resource=aiplatform.googleapis.com%252FEndpoint&advancedFilter=resource.type%3D%22aiplatform.googleapis.com%2FEndpoint%22%0Aresource.labels.endpoint_id%3D%221510944480843268096%22%0Aresource.labels.location%3D%22us-central1%22.",
     "output_type": "error",
     "traceback": [
      "\u001b[0;31m---------------------------------------------------------------------------\u001b[0m",
      "\u001b[0;31mFailedPrecondition\u001b[0m                        Traceback (most recent call last)",
      "Cell \u001b[0;32mIn[11], line 1\u001b[0m\n\u001b[0;32m----> 1\u001b[0m endpoint \u001b[39m=\u001b[39m model\u001b[39m.\u001b[39;49mdeploy(\n\u001b[1;32m      2\u001b[0m     deployed_model_display_name\u001b[39m=\u001b[39;49m\u001b[39m'\u001b[39;49m\u001b[39msklearn-ecommerce\u001b[39;49m\u001b[39m'\u001b[39;49m,\n\u001b[1;32m      3\u001b[0m     machine_type\u001b[39m=\u001b[39;49m\u001b[39m'\u001b[39;49m\u001b[39mn1-standard-2\u001b[39;49m\u001b[39m'\u001b[39;49m,\n\u001b[1;32m      4\u001b[0m     min_replica_count\u001b[39m=\u001b[39;49m\u001b[39m1\u001b[39;49m,\n\u001b[1;32m      5\u001b[0m     max_replica_count\u001b[39m=\u001b[39;49m\u001b[39m1\u001b[39;49m\n\u001b[1;32m      6\u001b[0m )\n",
      "File \u001b[0;32m~/.local/lib/python3.9/site-packages/google/cloud/aiplatform/models.py:3297\u001b[0m, in \u001b[0;36mModel.deploy\u001b[0;34m(self, endpoint, deployed_model_display_name, traffic_percentage, traffic_split, machine_type, min_replica_count, max_replica_count, accelerator_type, accelerator_count, service_account, explanation_metadata, explanation_parameters, metadata, encryption_spec_key_name, network, sync, deploy_request_timeout, autoscaling_target_cpu_utilization, autoscaling_target_accelerator_duty_cycle)\u001b[0m\n\u001b[1;32m   3286\u001b[0m         \u001b[39mraise\u001b[39;00m \u001b[39mValueError\u001b[39;00m(\n\u001b[1;32m   3287\u001b[0m             \u001b[39m\"\u001b[39m\u001b[39mTraffic splitting is not yet supported for PrivateEndpoint. \u001b[39m\u001b[39m\"\u001b[39m\n\u001b[1;32m   3288\u001b[0m             \u001b[39m\"\u001b[39m\u001b[39mTry calling deploy() without providing `traffic_split`. \u001b[39m\u001b[39m\"\u001b[39m\n\u001b[1;32m   3289\u001b[0m             \u001b[39m\"\u001b[39m\u001b[39mA maximum of one model can be deployed to each private Endpoint.\u001b[39m\u001b[39m\"\u001b[39m\n\u001b[1;32m   3290\u001b[0m         )\n\u001b[1;32m   3292\u001b[0m explanation_spec \u001b[39m=\u001b[39m _explanation_utils\u001b[39m.\u001b[39mcreate_and_validate_explanation_spec(\n\u001b[1;32m   3293\u001b[0m     explanation_metadata\u001b[39m=\u001b[39mexplanation_metadata,\n\u001b[1;32m   3294\u001b[0m     explanation_parameters\u001b[39m=\u001b[39mexplanation_parameters,\n\u001b[1;32m   3295\u001b[0m )\n\u001b[0;32m-> 3297\u001b[0m \u001b[39mreturn\u001b[39;00m \u001b[39mself\u001b[39;49m\u001b[39m.\u001b[39;49m_deploy(\n\u001b[1;32m   3298\u001b[0m     endpoint\u001b[39m=\u001b[39;49mendpoint,\n\u001b[1;32m   3299\u001b[0m     deployed_model_display_name\u001b[39m=\u001b[39;49mdeployed_model_display_name,\n\u001b[1;32m   3300\u001b[0m     traffic_percentage\u001b[39m=\u001b[39;49mtraffic_percentage,\n\u001b[1;32m   3301\u001b[0m     traffic_split\u001b[39m=\u001b[39;49mtraffic_split,\n\u001b[1;32m   3302\u001b[0m     machine_type\u001b[39m=\u001b[39;49mmachine_type,\n\u001b[1;32m   3303\u001b[0m     min_replica_count\u001b[39m=\u001b[39;49mmin_replica_count,\n\u001b[1;32m   3304\u001b[0m     max_replica_count\u001b[39m=\u001b[39;49mmax_replica_count,\n\u001b[1;32m   3305\u001b[0m     accelerator_type\u001b[39m=\u001b[39;49maccelerator_type,\n\u001b[1;32m   3306\u001b[0m     accelerator_count\u001b[39m=\u001b[39;49maccelerator_count,\n\u001b[1;32m   3307\u001b[0m     service_account\u001b[39m=\u001b[39;49mservice_account,\n\u001b[1;32m   3308\u001b[0m     explanation_spec\u001b[39m=\u001b[39;49mexplanation_spec,\n\u001b[1;32m   3309\u001b[0m     metadata\u001b[39m=\u001b[39;49mmetadata,\n\u001b[1;32m   3310\u001b[0m     encryption_spec_key_name\u001b[39m=\u001b[39;49mencryption_spec_key_name\n\u001b[1;32m   3311\u001b[0m     \u001b[39mor\u001b[39;49;00m initializer\u001b[39m.\u001b[39;49mglobal_config\u001b[39m.\u001b[39;49mencryption_spec_key_name,\n\u001b[1;32m   3312\u001b[0m     network\u001b[39m=\u001b[39;49mnetwork,\n\u001b[1;32m   3313\u001b[0m     sync\u001b[39m=\u001b[39;49msync,\n\u001b[1;32m   3314\u001b[0m     deploy_request_timeout\u001b[39m=\u001b[39;49mdeploy_request_timeout,\n\u001b[1;32m   3315\u001b[0m     autoscaling_target_cpu_utilization\u001b[39m=\u001b[39;49mautoscaling_target_cpu_utilization,\n\u001b[1;32m   3316\u001b[0m     autoscaling_target_accelerator_duty_cycle\u001b[39m=\u001b[39;49mautoscaling_target_accelerator_duty_cycle,\n\u001b[1;32m   3317\u001b[0m )\n",
      "File \u001b[0;32m~/.local/lib/python3.9/site-packages/google/cloud/aiplatform/base.py:810\u001b[0m, in \u001b[0;36moptional_sync.<locals>.optional_run_in_thread.<locals>.wrapper\u001b[0;34m(*args, **kwargs)\u001b[0m\n\u001b[1;32m    808\u001b[0m     \u001b[39mif\u001b[39;00m \u001b[39mself\u001b[39m:\n\u001b[1;32m    809\u001b[0m         VertexAiResourceNounWithFutureManager\u001b[39m.\u001b[39mwait(\u001b[39mself\u001b[39m)\n\u001b[0;32m--> 810\u001b[0m     \u001b[39mreturn\u001b[39;00m method(\u001b[39m*\u001b[39;49margs, \u001b[39m*\u001b[39;49m\u001b[39m*\u001b[39;49mkwargs)\n\u001b[1;32m    812\u001b[0m \u001b[39m# callbacks to call within the Future (in same Thread)\u001b[39;00m\n\u001b[1;32m    813\u001b[0m internal_callbacks \u001b[39m=\u001b[39m []\n",
      "File \u001b[0;32m~/.local/lib/python3.9/site-packages/google/cloud/aiplatform/models.py:3460\u001b[0m, in \u001b[0;36mModel._deploy\u001b[0;34m(self, endpoint, deployed_model_display_name, traffic_percentage, traffic_split, machine_type, min_replica_count, max_replica_count, accelerator_type, accelerator_count, service_account, explanation_spec, metadata, encryption_spec_key_name, network, sync, deploy_request_timeout, autoscaling_target_cpu_utilization, autoscaling_target_accelerator_duty_cycle)\u001b[0m\n\u001b[1;32m   3449\u001b[0m         endpoint \u001b[39m=\u001b[39m PrivateEndpoint\u001b[39m.\u001b[39mcreate(\n\u001b[1;32m   3450\u001b[0m             display_name\u001b[39m=\u001b[39mdisplay_name,\n\u001b[1;32m   3451\u001b[0m             network\u001b[39m=\u001b[39mnetwork,\n\u001b[0;32m   (...)\u001b[0m\n\u001b[1;32m   3455\u001b[0m             encryption_spec_key_name\u001b[39m=\u001b[39mencryption_spec_key_name,\n\u001b[1;32m   3456\u001b[0m         )\n\u001b[1;32m   3458\u001b[0m _LOGGER\u001b[39m.\u001b[39mlog_action_start_against_resource(\u001b[39m\"\u001b[39m\u001b[39mDeploying model to\u001b[39m\u001b[39m\"\u001b[39m, \u001b[39m\"\u001b[39m\u001b[39m\"\u001b[39m, endpoint)\n\u001b[0;32m-> 3460\u001b[0m endpoint\u001b[39m.\u001b[39;49m_deploy_call(\n\u001b[1;32m   3461\u001b[0m     endpoint\u001b[39m.\u001b[39;49mapi_client,\n\u001b[1;32m   3462\u001b[0m     endpoint\u001b[39m.\u001b[39;49mresource_name,\n\u001b[1;32m   3463\u001b[0m     \u001b[39mself\u001b[39;49m,\n\u001b[1;32m   3464\u001b[0m     endpoint\u001b[39m.\u001b[39;49m_gca_resource\u001b[39m.\u001b[39;49mtraffic_split,\n\u001b[1;32m   3465\u001b[0m     network\u001b[39m=\u001b[39;49mnetwork,\n\u001b[1;32m   3466\u001b[0m     deployed_model_display_name\u001b[39m=\u001b[39;49mdeployed_model_display_name,\n\u001b[1;32m   3467\u001b[0m     traffic_percentage\u001b[39m=\u001b[39;49mtraffic_percentage,\n\u001b[1;32m   3468\u001b[0m     traffic_split\u001b[39m=\u001b[39;49mtraffic_split,\n\u001b[1;32m   3469\u001b[0m     machine_type\u001b[39m=\u001b[39;49mmachine_type,\n\u001b[1;32m   3470\u001b[0m     min_replica_count\u001b[39m=\u001b[39;49mmin_replica_count,\n\u001b[1;32m   3471\u001b[0m     max_replica_count\u001b[39m=\u001b[39;49mmax_replica_count,\n\u001b[1;32m   3472\u001b[0m     accelerator_type\u001b[39m=\u001b[39;49maccelerator_type,\n\u001b[1;32m   3473\u001b[0m     accelerator_count\u001b[39m=\u001b[39;49maccelerator_count,\n\u001b[1;32m   3474\u001b[0m     service_account\u001b[39m=\u001b[39;49mservice_account,\n\u001b[1;32m   3475\u001b[0m     explanation_spec\u001b[39m=\u001b[39;49mexplanation_spec,\n\u001b[1;32m   3476\u001b[0m     metadata\u001b[39m=\u001b[39;49mmetadata,\n\u001b[1;32m   3477\u001b[0m     deploy_request_timeout\u001b[39m=\u001b[39;49mdeploy_request_timeout,\n\u001b[1;32m   3478\u001b[0m     autoscaling_target_cpu_utilization\u001b[39m=\u001b[39;49mautoscaling_target_cpu_utilization,\n\u001b[1;32m   3479\u001b[0m     autoscaling_target_accelerator_duty_cycle\u001b[39m=\u001b[39;49mautoscaling_target_accelerator_duty_cycle,\n\u001b[1;32m   3480\u001b[0m )\n\u001b[1;32m   3482\u001b[0m _LOGGER\u001b[39m.\u001b[39mlog_action_completed_against_resource(\u001b[39m\"\u001b[39m\u001b[39mmodel\u001b[39m\u001b[39m\"\u001b[39m, \u001b[39m\"\u001b[39m\u001b[39mdeployed\u001b[39m\u001b[39m\"\u001b[39m, endpoint)\n\u001b[1;32m   3484\u001b[0m endpoint\u001b[39m.\u001b[39m_sync_gca_resource()\n",
      "File \u001b[0;32m~/.local/lib/python3.9/site-packages/google/cloud/aiplatform/models.py:1231\u001b[0m, in \u001b[0;36mEndpoint._deploy_call\u001b[0;34m(cls, api_client, endpoint_resource_name, model, endpoint_resource_traffic_split, network, deployed_model_display_name, traffic_percentage, traffic_split, machine_type, min_replica_count, max_replica_count, accelerator_type, accelerator_count, service_account, explanation_spec, metadata, deploy_request_timeout, autoscaling_target_cpu_utilization, autoscaling_target_accelerator_duty_cycle)\u001b[0m\n\u001b[1;32m   1219\u001b[0m operation_future \u001b[39m=\u001b[39m api_client\u001b[39m.\u001b[39mdeploy_model(\n\u001b[1;32m   1220\u001b[0m     endpoint\u001b[39m=\u001b[39mendpoint_resource_name,\n\u001b[1;32m   1221\u001b[0m     deployed_model\u001b[39m=\u001b[39mdeployed_model,\n\u001b[0;32m   (...)\u001b[0m\n\u001b[1;32m   1224\u001b[0m     timeout\u001b[39m=\u001b[39mdeploy_request_timeout,\n\u001b[1;32m   1225\u001b[0m )\n\u001b[1;32m   1227\u001b[0m _LOGGER\u001b[39m.\u001b[39mlog_action_started_against_resource_with_lro(\n\u001b[1;32m   1228\u001b[0m     \u001b[39m\"\u001b[39m\u001b[39mDeploy\u001b[39m\u001b[39m\"\u001b[39m, \u001b[39m\"\u001b[39m\u001b[39mmodel\u001b[39m\u001b[39m\"\u001b[39m, \u001b[39mcls\u001b[39m, operation_future\n\u001b[1;32m   1229\u001b[0m )\n\u001b[0;32m-> 1231\u001b[0m operation_future\u001b[39m.\u001b[39;49mresult()\n",
      "File \u001b[0;32m~/.local/lib/python3.9/site-packages/google/api_core/future/polling.py:261\u001b[0m, in \u001b[0;36mPollingFuture.result\u001b[0;34m(self, timeout, retry, polling)\u001b[0m\n\u001b[1;32m    256\u001b[0m \u001b[39mself\u001b[39m\u001b[39m.\u001b[39m_blocking_poll(timeout\u001b[39m=\u001b[39mtimeout, retry\u001b[39m=\u001b[39mretry, polling\u001b[39m=\u001b[39mpolling)\n\u001b[1;32m    258\u001b[0m \u001b[39mif\u001b[39;00m \u001b[39mself\u001b[39m\u001b[39m.\u001b[39m_exception \u001b[39mis\u001b[39;00m \u001b[39mnot\u001b[39;00m \u001b[39mNone\u001b[39;00m:\n\u001b[1;32m    259\u001b[0m     \u001b[39m# pylint: disable=raising-bad-type\u001b[39;00m\n\u001b[1;32m    260\u001b[0m     \u001b[39m# Pylint doesn't recognize that this is valid in this case.\u001b[39;00m\n\u001b[0;32m--> 261\u001b[0m     \u001b[39mraise\u001b[39;00m \u001b[39mself\u001b[39m\u001b[39m.\u001b[39m_exception\n\u001b[1;32m    263\u001b[0m \u001b[39mreturn\u001b[39;00m \u001b[39mself\u001b[39m\u001b[39m.\u001b[39m_result\n",
      "\u001b[0;31mFailedPrecondition\u001b[0m: 400 Model server terminated: model server container terminated: exit_code: \t 1\nreason: \"Error\"\nstarted_at {\n  seconds: 1677298024\n}\nfinished_at {\n  seconds: 1677298026\n}\n. Model server logs can be found at https://console.cloud.google.com/logs/viewer?project=569083142710&resource=aiplatform.googleapis.com%252FEndpoint&advancedFilter=resource.type%3D%22aiplatform.googleapis.com%2FEndpoint%22%0Aresource.labels.endpoint_id%3D%221510944480843268096%22%0Aresource.labels.location%3D%22us-central1%22."
     ]
    }
   ],
   "source": [
    "endpoint = model.deploy(\n",
    "    deployed_model_display_name='sklearn-ecommerce',\n",
    "    machine_type='n1-standard-2',\n",
    "    min_replica_count=1,\n",
    "    max_replica_count=1\n",
    ")"
   ]
  },
  {
   "attachments": {},
   "cell_type": "markdown",
   "metadata": {},
   "source": [
    "## Delete and Clean Components"
   ]
  },
  {
   "cell_type": "code",
   "execution_count": null,
   "metadata": {},
   "outputs": [],
   "source": [
    "endpoint.undeploy()\n",
    "model.delete"
   ]
  }
 ],
 "metadata": {
  "kernelspec": {
   "display_name": "Python 3",
   "language": "python",
   "name": "python3"
  },
  "language_info": {
   "codemirror_mode": {
    "name": "ipython",
    "version": 3
   },
   "file_extension": ".py",
   "mimetype": "text/x-python",
   "name": "python",
   "nbconvert_exporter": "python",
   "pygments_lexer": "ipython3",
   "version": "3.9.2"
  },
  "orig_nbformat": 4,
  "vscode": {
   "interpreter": {
    "hash": "916dbcbb3f70747c44a77c7bcd40155683ae19c65e1c03b4aa3499c5328201f1"
   }
  }
 },
 "nbformat": 4,
 "nbformat_minor": 2
}
