{
  "cells": [
    {
      "cell_type": "markdown",
      "source": [
        "# Libraries\n",
        "\n"
      ],
      "metadata": {
        "id": "lQOtBjrrJ8OP"
      },
      "id": "lQOtBjrrJ8OP"
    },
    {
      "cell_type": "code",
      "id": "ltsnJuvAzfE97jGf9MlUs2O0",
      "metadata": {
        "tags": [],
        "id": "ltsnJuvAzfE97jGf9MlUs2O0",
        "executionInfo": {
          "status": "ok",
          "timestamp": 1721397272821,
          "user_tz": 240,
          "elapsed": 11767,
          "user": {
            "displayName": "",
            "userId": ""
          }
        }
      },
      "source": [
        "import json\n",
        "import scann\n",
        "import base64\n",
        "import vertexai\n",
        "import numpy as np\n",
        "import pandas as pd\n",
        "from google.cloud import storage\n",
        "from vertexai.language_models import TextEmbeddingInput, TextEmbeddingModel\n",
        "from vertexai.generative_models import GenerativeModel, Part, FinishReason\n",
        "import vertexai.preview.generative_models as generative_models"
      ],
      "execution_count": 28,
      "outputs": []
    },
    {
      "cell_type": "markdown",
      "source": [
        "# Variables"
      ],
      "metadata": {
        "id": "oWhYUjiBJ_u-"
      },
      "id": "oWhYUjiBJ_u-"
    },
    {
      "cell_type": "code",
      "source": [
        "project_id = \"vtxdemos\"\n",
        "model_id = \"gemini-1.5-pro-001\"\n",
        "emb_model_id = \"text-embedding-004\"\n",
        "bucket_id = \"vtxdemos-vsearch-datasets\"\n",
        "bucket_folder = \"profile_synthetic_data\""
      ],
      "metadata": {
        "id": "LFf--W4CPDgw",
        "executionInfo": {
          "status": "ok",
          "timestamp": 1721412041967,
          "user_tz": 240,
          "elapsed": 220,
          "user": {
            "displayName": "",
            "userId": ""
          }
        }
      },
      "id": "LFf--W4CPDgw",
      "execution_count": 146,
      "outputs": []
    },
    {
      "cell_type": "markdown",
      "source": [
        "# Synthetic Data"
      ],
      "metadata": {
        "id": "Wt8j5RPH_NVi"
      },
      "id": "Wt8j5RPH_NVi"
    },
    {
      "cell_type": "markdown",
      "source": [
        "Because we are creating synthetic data, this could take long time."
      ],
      "metadata": {
        "id": "4qSe4M3ECelR"
      },
      "id": "4qSe4M3ECelR"
    },
    {
      "cell_type": "code",
      "source": [
        "generation_config = {\n",
        "    \"max_output_tokens\": 8192,\n",
        "    \"temperature\": 2,\n",
        "    \"top_p\": 0.95,\n",
        "    \"response_mime_type\": \"application/json\"\n",
        "}\n",
        "\n",
        "safety_settings = {\n",
        "    generative_models.HarmCategory.HARM_CATEGORY_HATE_SPEECH: generative_models.HarmBlockThreshold.BLOCK_NONE,\n",
        "    generative_models.HarmCategory.HARM_CATEGORY_DANGEROUS_CONTENT: generative_models.HarmBlockThreshold.BLOCK_NONE,\n",
        "    generative_models.HarmCategory.HARM_CATEGORY_SEXUALLY_EXPLICIT: generative_models.HarmBlockThreshold.BLOCK_NONE,\n",
        "    generative_models.HarmCategory.HARM_CATEGORY_HARASSMENT: generative_models.HarmBlockThreshold.BLOCK_NONE,\n",
        "}\n",
        "\n",
        "model = GenerativeModel(\n",
        "    model_id,\n",
        ")\n",
        "prompt = \"\"\"\n",
        "Your mission is to create false user profiles with the following schema:\n",
        "['id', 'name', 'first_name', 'last_name', 'email', 'job_title', 'company', 'location', 'experiences', 'education', 'skills', 'languages', 'created_at', 'updated_at']\n",
        "\n",
        "<rules>\n",
        "The output should be a JSON format where the key name is the same as the schema.\n",
        "Create 20 rows with key, value pairs.\n",
        "Use random synthetic data for the value.\n",
        "</rules>\n",
        "\n",
        "\n",
        "\"\"\"\n",
        "\n",
        "response = model.generate_content(\n",
        "    [prompt],\n",
        "    generation_config=generation_config,\n",
        "    safety_settings=safety_settings,\n",
        ")\n",
        "\n",
        "print(response.text)"
      ],
      "metadata": {
        "colab": {
          "base_uri": "https://localhost:8080/"
        },
        "id": "xYxZsN_O_MlH",
        "executionInfo": {
          "status": "ok",
          "timestamp": 1721410817598,
          "user_tz": 240,
          "elapsed": 77037,
          "user": {
            "displayName": "",
            "userId": ""
          }
        },
        "outputId": "ee4cfc0e-ceeb-4b83-ee46-0078fd8f0efe"
      },
      "id": "xYxZsN_O_MlH",
      "execution_count": 117,
      "outputs": [
        {
          "output_type": "stream",
          "name": "stdout",
          "text": [
            "{\"id\": [\"e8c5d4a4-3fc7-41bd-92d5-878947a43224\", \"39d6f10a-084c-4374-b11c-1e97b14584b9\", \"d2003255-8e20-45b6-9f0f-0985c8c5e488\", \"7a187e0e-e127-4892-a74c-a230e7d40d43\", \"13268b3a-9f44-4400-a63f-241a8a35028c\", \"4864a703-703d-4b4b-bc63-94b32c92457b\", \"82686d18-3602-4c1b-a058-88d7d0b29f77\", \"944a776a-3811-4508-9857-c11d2c0260b3\", \"82f0518c-4e4e-4890-a7d7-c95c4ff9e4c9\", \"0b40371c-925c-485c-a42e-393e1086f95b\", \"b8713743-607b-4797-8a48-c715a762d564\", \"802f919b-774e-4c8c-a999-9b8c301b6703\", \"e59b93f7-6553-4208-b43f-6a094d3e0c4c\", \"3a417d72-7778-4250-8250-c6962d678609\", \"d297710a-c4a4-4c15-b528-4d54a78e327b\", \"14d5803a-033b-4679-81f3-899b88e5b626\", \"38886f49-b051-470b-a89b-3439397b9546\", \"1291db7b-1592-4986-a04f-c832a5824d1d\", \"525c52e3-865e-4445-a87f-7c06946c3547\", \"db48168e-1a3c-4276-8904-1231a4115a9f\"], \"name\": [\"Benjamin Harris\", \"Tyler Lawson\", \"Austin Martin\", \"Charles Thompson\", \"Melissa Davis\", \"Michael White\", \"Emily Thomas\", \"Elizabeth Anderson\", \"Kevin Garcia\", \"Thomas Wilson\", \"John Williams\", \"Michael Rodriguez\", \"Ashley Hernandez\", \"David Garcia\", \"Amanda Clark\", \"Amanda Gonzalez\", \"Matthew Williams\", \"Jessica Lewis\", \"Jessica Garcia\", \"Kevin Thomas\"], \"first_name\": [\"Benjamin\", \"Tyler\", \"Austin\", \"Charles\", \"Melissa\", \"Michael\", \"Emily\", \"Elizabeth\", \"Kevin\", \"Thomas\", \"John\", \"Michael\", \"Ashley\", \"David\", \"Amanda\", \"Amanda\", \"Matthew\", \"Jessica\", \"Jessica\", \"Kevin\"], \"last_name\": [\"Harris\", \"Lawson\", \"Martin\", \"Thompson\", \"Davis\", \"White\", \"Thomas\", \"Anderson\", \"Garcia\", \"Wilson\", \"Williams\", \"Rodriguez\", \"Hernandez\", \"Garcia\", \"Clark\", \"Gonzalez\", \"Williams\", \"Lewis\", \"Garcia\", \"Thomas\"], \"email\": [\"benjaminharris@example.com\", \"tylerlawson@example.com\", \"austinmartin@example.com\", \"charlesthompson@example.com\", \"melissadavis@example.com\", \"michaelwhite@example.com\", \"emilythomas@example.com\", \"elizabethanderson@example.com\", \"kevingarcia@example.com\", \"thomaswilson@example.com\", \"johnwilliams@example.com\", \"michaelrodriguez@example.com\", \"ashleyhernandez@example.com\", \"davidgarcia@example.com\", \"amandaclark@example.com\", \"amandagonzalez@example.com\", \"matthewwilliams@example.com\", \"jessicalewis@example.com\", \"jessicagarcia@example.com\", \"kevinthomas@example.com\"], \"job_title\": [\"Software Engineer\", \"Data Scientist\", \"Product Manager\", \"Marketing Manager\", \"Sales Manager\", \"Human Resources Manager\", \"Financial Analyst\", \"Project Manager\", \"Business Analyst\", \"Operations Manager\", \"Customer Service Representative\", \"Technical Writer\", \"Web Developer\", \"UX Designer\", \"Graphic Designer\", \"Accountant\", \"Administrative Assistant\", \"Recruiter\", \"Sales Representative\", \"Marketing Specialist\"], \"company\": [\"Google\", \"Amazon\", \"Facebook\", \"Apple\", \"Microsoft\", \"Tesla\", \"SpaceX\", \"Netflix\", \"Disney\", \"Uber\", \"Lyft\", \"Airbnb\", \"Dropbox\", \"Pinterest\", \"Spotify\", \"Twitter\", \"Instagram\", \"Snapchat\", \"TikTok\", \"Zoom\"], \"location\": [\"New York City\", \"Los Angeles\", \"Chicago\", \"Houston\", \"Phoenix\", \"Philadelphia\", \"San Antonio\", \"San Diego\", \"Dallas\", \"San Jose\", \"Austin\", \"Jacksonville\", \"Fort Worth\", \"Columbus\", \"Charlotte\", \"Indianapolis\", \"San Francisco\", \"Seattle\", \"Denver\", \"Washington, D.C.\"], \"experiences\": [[\"Software Engineer at Google (2020-Present)\", \"Software Engineer Intern at Microsoft (2019)\"], [\"Data Scientist at Amazon (2018-Present)\", \"Data Science Intern at Facebook (2017)\"], [\"Product Manager at Facebook (2019-Present)\", \"Product Management Intern at Apple (2018)\"], [\"Marketing Manager at Apple (2020-Present)\", \"Marketing Intern at Google (2019)\"], [\"Sales Manager at Microsoft (2018-Present)\", \"Sales Intern at Amazon (2017)\"], [\"Human Resources Manager at Tesla (2019-Present)\", \"Human Resources Intern at SpaceX (2018)\"], [\"Financial Analyst at SpaceX (2020-Present)\", \"Finance Intern at Netflix (2019)\"], [\"Project Manager at Netflix (2018-Present)\", \"Project Management Intern at Disney (2017)\"], [\"Business Analyst at Disney (2019-Present)\", \"Business Analyst Intern at Uber (2018)\"], [\"Operations Manager at Uber (2020-Present)\", \"Operations Intern at Lyft (2019)\"], [\"Customer Service Representative at Lyft (2018-Present)\"], [\"Technical Writer at Airbnb (2019-Present)\"], [\"Web Developer at Dropbox (2020-Present)\"], [\"UX Designer at Pinterest (2018-Present)\"], [\"Graphic Designer at Spotify (2019-Present)\"], [\"Accountant at Twitter (2020-Present)\"], [\"Administrative Assistant at Instagram (2018-Present)\"], [\"Recruiter at Snapchat (2019-Present)\"], [\"Sales Representative at TikTok (2020-Present)\"], [\"Marketing Specialist at Zoom (2018-Present)\"]], \"education\": [[\"Master of Science in Computer Science, Stanford University (2019)\", \"Bachelor of Science in Computer Science, University of California, Berkeley (2017)\"], [\"Master of Science in Data Science, Carnegie Mellon University (2018)\", \"Bachelor of Science in Mathematics, University of California, Los Angeles (2016)\"], [\"Master of Business Administration, Harvard Business School (2019)\", \"Bachelor of Arts in Economics, Stanford University (2017)\"], [\"Master of Science in Marketing, Northwestern University (2020)\", \"Bachelor of Arts in Communications, University of California, Berkeley (2018)\"], [\"Bachelor of Science in Business Administration, University of Pennsylvania (2018)\"], [\"Master of Science in Human Resources Management, Cornell University (2019)\", \"Bachelor of Arts in Psychology, New York University (2017)\"], [\"Master of Science in Finance, Massachusetts Institute of Technology (2020)\", \"Bachelor of Science in Mathematics, University of California, Berkeley (2018)\"], [\"Master of Science in Project Management, Northwestern University (2018)\", \"Bachelor of Science in Civil Engineering, Stanford University (2016)\"], [\"Master of Science in Business Analytics, University of Texas at Austin (2019)\", \"Bachelor of Science in Economics, University of California, Los Angeles (2017)\"], [\"Master of Business Administration, Columbia Business School (2020)\", \"Bachelor of Science in Industrial Engineering, Purdue University (2018)\"], [\"Associate of Arts, Miami Dade College (2018)\"], [\"Bachelor of Arts in English, University of Florida (2019)\"], [\"Bachelor of Science in Computer Science, Georgia Institute of Technology (2020)\"], [\"Bachelor of Fine Arts in Design, Rhode Island School of Design (2018)\"], [\"Bachelor of Fine Arts in Graphic Design, Parsons School of Design (2019)\"], [\"Bachelor of Science in Accounting, University of Illinois at Urbana-Champaign (2020)\"], [\"Associate of Arts, Houston Community College (2018)\"], [\"Bachelor of Arts in Psychology, Arizona State University (2019)\"], [\"Bachelor of Science in Marketing, Texas A&M University (2020)\"], [\"Bachelor of Arts in Communications, University of Southern California (2018)\"]], \"skills\": [[\"Python\", \"Java\", \"C++\", \"SQL\"], [\"Python\", \"R\", \"SQL\", \"Machine Learning\"], [\"Product Management\", \"Market Research\", \"Data Analysis\"], [\"Marketing\", \"Social Media Marketing\", \"Content Marketing\"], [\"Sales\", \"Account Management\", \"Customer Relationship Management\"], [\"Human Resources\", \"Recruiting\", \"Employee Relations\"], [\"Financial Analysis\", \"Financial Modeling\", \"Investment Banking\"], [\"Project Management\", \"Agile Methodologies\", \"Risk Management\"], [\"Business Analysis\", \"Data Analysis\", \"Process Improvement\"], [\"Operations Management\", \"Supply Chain Management\", \"Logistics\"], [\"Customer Service\", \"Technical Support\", \"Problem Solving\"], [\"Technical Writing\", \"Documentation\", \"Content Creation\"], [\"Web Development\", \"HTML\", \"CSS\", \"JavaScript\"], [\"UX Design\", \"User Research\", \"Wireframing\"], [\"Graphic Design\", \"Adobe Creative Suite\", \"Typography\"], [\"Accounting\", \"Financial Reporting\", \"Tax Preparation\"], [\"Administrative Support\", \"Microsoft Office Suite\", \"Calendar Management\"], [\"Recruiting\", \"Talent Acquisition\", \"Applicant Tracking Systems\"], [\"Sales\", \"Cold Calling\", \"Lead Generation\"], [\"Marketing\", \"Digital Marketing\", \"Email Marketing\"]], \"languages\": [[\"English\"], [\"English\", \"Spanish\"], [\"English\"], [\"English\", \"French\"], [\"English\"], [\"English\"], [\"English\"], [\"English\"], [\"English\", \"Mandarin Chinese\"], [\"English\"], [\"English\", \"Spanish\"], [\"English\"], [\"English\"], [\"English\", \"German\"], [\"English\"], [\"English\"], [\"English\"], [\"English\", \"Spanish\"], [\"English\"], [\"English\", \"French\"]], \"created_at\": [\"2023-11-15T10:21:34.567Z\", \"2022-07-11T06:33:05.856Z\", \"2022-01-21T22:44:27.008Z\", \"2023-01-04T13:35:36.490Z\", \"2022-11-27T08:37:48.496Z\", \"2022-02-17T18:50:48.447Z\", \"2023-10-21T08:28:58.059Z\", \"2023-08-14T16:53:04.791Z\", \"2022-09-28T11:17:39.439Z\", \"2022-03-22T22:49:33.076Z\", \"2023-02-02T08:39:53.685Z\", \"2022-12-23T13:42:38.547Z\", \"2023-05-28T20:10:09.344Z\", \"2022-04-10T12:50:08.147Z\", \"2023-03-14T07:42:23.278Z\", \"2023-06-05T00:40:39.148Z\", \"2022-08-02T15:36:30.515Z\", \"2023-09-06T13:15:51.755Z\", \"2022-05-25T19:25:56.307Z\", \"2023-07-01T02:46:25.810Z\"], \"updated_at\": [\"2023-11-16T10:21:34.567Z\", \"2022-07-12T06:33:05.856Z\", \"2022-01-22T22:44:27.008Z\", \"2023-01-05T13:35:36.490Z\", \"2022-11-28T08:37:48.496Z\", \"2022-02-18T18:50:48.447Z\", \"2023-10-22T08:28:58.059Z\", \"2023-08-15T16:53:04.791Z\", \"2022-09-29T11:17:39.439Z\", \"2022-03-23T22:49:33.076Z\", \"2023-02-03T08:39:53.685Z\", \"2022-12-24T13:42:38.547Z\", \"2023-05-29T20:10:09.344Z\", \"2022-04-11T12:50:08.147Z\", \"2023-03-15T07:42:23.278Z\", \"2023-06-06T00:40:39.148Z\", \"2022-08-03T15:36:30.515Z\", \"2023-09-07T13:15:51.755Z\", \"2022-05-26T19:25:56.307Z\", \"2023-07-02T02:46:25.810Z\"]}\n",
            "\n"
          ]
        }
      ]
    },
    {
      "cell_type": "code",
      "source": [
        "output = json.loads(response.text)"
      ],
      "metadata": {
        "id": "Q58SQoYzD2x8",
        "executionInfo": {
          "status": "ok",
          "timestamp": 1721410998796,
          "user_tz": 240,
          "elapsed": 274,
          "user": {
            "displayName": "",
            "userId": ""
          }
        }
      },
      "id": "Q58SQoYzD2x8",
      "execution_count": 120,
      "outputs": []
    },
    {
      "cell_type": "markdown",
      "source": [
        "# From Structured Data to Natural Language"
      ],
      "metadata": {
        "id": "TaAIjnozF3gh"
      },
      "id": "TaAIjnozF3gh"
    },
    {
      "cell_type": "markdown",
      "source": [
        "\n",
        "\n",
        "> This is for when you have real large dataset, if is a demo and the data is synthetic this step can be skipped.\n",
        "\n"
      ],
      "metadata": {
        "id": "M1Uf1ym8FCNu"
      },
      "id": "M1Uf1ym8FCNu"
    },
    {
      "cell_type": "code",
      "source": [
        "vertexai.init(project=project_id, location=\"us-central1\")\n",
        "model = GenerativeModel(\n",
        "    model_id,\n",
        "    system_instruction=[\n",
        "    \"\"\"\n",
        "    Without missing any word/details transform the following dictionary as a 500 token paragraph (chunks) separated by breaklines.\n",
        "    \"\"\"\n",
        "    ]\n",
        ")\n",
        "emb_model = TextEmbeddingModel.from_pretrained(emb_model_id)"
      ],
      "metadata": {
        "id": "L3THBFZnPEt0",
        "executionInfo": {
          "status": "ok",
          "timestamp": 1721411914013,
          "user_tz": 240,
          "elapsed": 232,
          "user": {
            "displayName": "",
            "userId": ""
          }
        }
      },
      "id": "L3THBFZnPEt0",
      "execution_count": 143,
      "outputs": []
    },
    {
      "cell_type": "code",
      "source": [
        "generation_config = {\n",
        "    \"max_output_tokens\": 8192,\n",
        "    \"temperature\": 2,\n",
        "    \"top_p\": 0.95,\n",
        "}\n",
        "\n",
        "def generate_structure(dictionary: str):\n",
        "  prompt = f\"\"\"\n",
        "  <dictionary>\n",
        "  {dictionary}\n",
        "  <dictionary>\n",
        "\n",
        "  \"\"\"\n",
        "\n",
        "  responses = model.generate_content(\n",
        "      [prompt],\n",
        "      generation_config=generation_config,\n",
        "      stream=True,\n",
        "  )\n",
        "  gemini_response = []\n",
        "  try:\n",
        "    for response in responses:\n",
        "      print(response.text)\n",
        "      gemini_response.append(response.text)\n",
        "  except:\n",
        "    print(responses)\n",
        "    return \"error\"\n",
        "\n",
        "  return \"\".join(gemini_response)\n"
      ],
      "metadata": {
        "id": "MdX4F5d3PGP5",
        "executionInfo": {
          "status": "ok",
          "timestamp": 1721411915976,
          "user_tz": 240,
          "elapsed": 193,
          "user": {
            "displayName": "",
            "userId": ""
          }
        }
      },
      "id": "MdX4F5d3PGP5",
      "execution_count": 144,
      "outputs": []
    },
    {
      "cell_type": "code",
      "source": [
        "_dataset = []\n",
        "# Iterate through each \"row\" (index)\n",
        "for i in range(len(output['id'])):\n",
        "    row_data = {}\n",
        "    # Iterate through each key (column)\n",
        "    for key in output:\n",
        "        row_data[key] = output[key][i]\n",
        "\n",
        "    # Now row_data contains the key-value pairs for the current row\n",
        "    _dataset.append(row_data)"
      ],
      "metadata": {
        "id": "3ffu3WMqHTsF",
        "executionInfo": {
          "status": "ok",
          "timestamp": 1721411673897,
          "user_tz": 240,
          "elapsed": 225,
          "user": {
            "displayName": "",
            "userId": ""
          }
        }
      },
      "id": "3ffu3WMqHTsF",
      "execution_count": 137,
      "outputs": []
    },
    {
      "cell_type": "code",
      "source": [
        "for n, profile in enumerate(_dataset):\n",
        "  _re = generate_structure(str(profile))\n",
        "  if _re == \"error\":\n",
        "    break\n",
        "  _re_for_emb = _re.split(\"\\n\\n\")\n",
        "  inputs = [TextEmbeddingInput(text, \"RETRIEVAL_DOCUMENT\") for text in _re_for_emb]\n",
        "  embeddings = emb_model.get_embeddings(inputs)\n",
        "  _dataset[n][\"description\"] = _re\n",
        "  _dataset[n][\"embeddings\"] = embeddings[0].values"
      ],
      "metadata": {
        "colab": {
          "base_uri": "https://localhost:8080/"
        },
        "id": "4jjntIrnPH0J",
        "executionInfo": {
          "status": "ok",
          "timestamp": 1721412041260,
          "user_tz": 240,
          "elapsed": 115976,
          "user": {
            "displayName": "",
            "userId": ""
          }
        },
        "outputId": "eccf9882-c7e8-4366-9270-b3afe31b3898"
      },
      "id": "4jjntIrnPH0J",
      "execution_count": 145,
      "outputs": [
        {
          "output_type": "stream",
          "name": "stdout",
          "text": [
            "Benjamin\n",
            " Harris is a Software Engineer at Google, based in New York City. His journey\n",
            " includes a Software Engineer Intern role at Microsoft in 2019. \n",
            "\n",
            "\n",
            "Benjamin holds a Master of Science in Computer Science from Stanford University, which he earned in 2019, and a Bachelor of Science in Computer Science\n",
            " from the University of California, Berkeley, obtained in 2017. His skillset boasts proficiency in Python, Java, C++, and SQL. While\n",
            " he primarily communicates in English, Benjamin's expertise shines through in his technical abilities.\n",
            "\n",
            "His professional identity is further encapsulated in his record, bearing the unique identifier 'e8c5d4a4-3fc7-41\n",
            "bd-92d5-878947a43224'. \n",
            "\n",
            "This information, accurate as of its last update on 2023-11-16T10:2\n",
            "1:34.567Z, provides a glimpse into Benjamin's qualifications. Notably, a set of embeddings, represented by a lengthy string of numerical values, further enriches his profile. This numerical fingerprint, capturing the essence of his skills and experiences, enables sophisticated data analysis and knowledge discovery. \n",
            "\n",
            "\n",
            "Tyler\n",
            " Lawson, with an ID of 39d6f10a-\n",
            "084c-4374-b11c-1\n",
            "e97b14584b9, is a Data Scientist at Amazon based in Los Angeles. His email address is tylerlawson@\n",
            "example.com.\n",
            "\n",
            "Tyler has a strong background in data science, with experience as a Data Scientist at Amazon since 2018. Prior to his\n",
            " current role, he completed a Data Science Internship at Facebook in 2017.\n",
            "\n",
            "He holds a Master of Science in Data Science from Carnegie Mellon University, which he earned in 2018. Tyler also earned a Bachelor\n",
            " of Science in Mathematics from the University of California, Los Angeles, in 2016.\n",
            "\n",
            "His technical skills include proficiency in Python, R, SQL, and Machine Learning.  Tyler is bilingual and fluent in both English and Spanish\n",
            ".\n",
            "\n",
            "This information was first recorded on July 11th, 2022, at 06:33:05.856Z and last updated a day later on July 12th, 2022, at 06:33:05\n",
            ".856Z.\n",
            "\n",
            "\n",
            "This\n",
            " document details information about an individual named Austin Martin, identifiable by the unique ID '\n",
            "d2003255-8e20-45\n",
            "b6-9f0f-0985c8c5e488'. Austin currently holds the position of Product Manager at Facebook,\n",
            " based in Chicago. His professional journey includes a previous role as a Product Management Intern at Apple in 2018. \n",
            "\n",
            "Austin's email address\n",
            " is austinmartin@example.com. On his educational front, he has earned a Master of Business Administration degree from Harvard Business School in 2019 and a Bachelor of Arts degree in Economics from Stanford University in 201\n",
            "7.  \n",
            "\n",
            "He possesses a strong skillset comprising Product Management, Market Research, and Data Analysis, and he is proficient in English. This record was initially created on January 21st, 2022 at 1\n",
            "0:44:27 PM UTC and last updated on January 22nd, 2022, at the same time. \n",
            "\n",
            "\n",
            "Charles\n",
            " Thompson (id: 7a187e0e-e1\n",
            "27-4892-a74c-a23\n",
            "0e7d40d43) is a Marketing Manager at Apple, based in Houston. He can be reached at charlesthompson@example.\n",
            "com. \n",
            "\n",
            "Charles has a strong background in marketing, with experience as both a Marketing Manager and a Marketing Intern. He began his career as a Marketing Intern\n",
            " at Google in 2019. Currently, he holds the position of Marketing Manager at Apple, a role he has held since 2020.\n",
            "\n",
            "His academic credentials include a Master of Science in Marketing from Northwestern University,\n",
            " which he completed in 2020, and a Bachelor of Arts in Communications from the University of California, Berkeley, obtained in 2018.\n",
            "\n",
            "Charles possesses a diverse skillset encompassing Marketing, Social Media Marketing, and\n",
            " Content Marketing. He is fluent in English and French.\n",
            "\n",
            "His profile was created on January 4th, 2023 at 13:35:36.490Z and last updated on January 5th, 2023 at 13:35:\n",
            "36.490Z.\n",
            "\n",
            "\n",
            "Melissa\n",
            " Davis, with the unique ID 13268b3a-\n",
            "9f44-4400-a63f-2\n",
            "41a8a35028c, is a Sales Manager at Microsoft, based in Phoenix. Her email address is melissadavis@\n",
            "example.com. Melissa has considerable experience in sales, having worked as a Sales Manager at Microsoft since 2018 and prior to that, as a\n",
            " Sales Intern at Amazon in 2017.\n",
            "\n",
            "She holds a Bachelor of Science in Business Administration, which she received from the University of Pennsylvania in 2018. Melissa possesses a strong skillset in Sales, Account Management\n",
            ", and Customer Relationship Management. Her primary language is English. \n",
            "\n",
            "Melissa's profile was created on November 27th, 2022, at 08:37:48.496 UTC\n",
            " and was last updated on November 28th, 2022, at 08:37:48.496 UTC. \n",
            "\n",
            "\n",
            "Michael\n",
            " White, with the unique ID 4864a703-\n",
            "703d-4b4b-bc63-94\n",
            "b32c92457b, currently holds the position of Human Resources Manager at Tesla in Philadelphia. He can be reached at michaelwhite@\n",
            "example.com.\n",
            "\n",
            "Michael's professional journey includes his current role at Tesla, which he began in 2019, and a previous internship as\n",
            " a Human Resources Intern at SpaceX in 2018.\n",
            "\n",
            "His academic background is marked by a Master of Science in Human Resources Management from Cornell University, obtained in 2019, and a Bachelor of Arts in Psychology from\n",
            " New York University, completed in 2017.\n",
            "\n",
            "His expertise lies in the areas of Human Resources, Recruiting, and Employee Relations. Michael is proficient in English.\n",
            "\n",
            "This profile was created on February 17, 2\n",
            "022, at 18:50:48.447Z and was last updated on February 18, 2022, at 18:50:48.447Z. \n",
            "\n",
            "\n",
            "Emily\n",
            " Thomas, with the ID 82686d18-3\n",
            "602-4c1b-a058-88\n",
            "d7d0b29f77, is a Financial Analyst at SpaceX, based in San Antonio.  She can be reached at emilythomas@\n",
            "example.com.  Her professional journey includes her current role as a Financial Analyst at SpaceX, which she began in 2020, and a prior\n",
            " experience as a Finance Intern at Netflix in 2019.\n",
            "\n",
            "Emily holds a Master of Science in Finance from the Massachusetts Institute of Technology, which she earned in 2020.  She also completed her Bachelor of Science\n",
            " in Mathematics at the University of California, Berkeley, in 2018.\n",
            "\n",
            "Her skillset encompasses Financial Analysis, Financial Modeling, and Investment Banking.  She is proficient in English.  Her profile was created on October 2\n",
            "1, 2023, at 08:28:58.059Z and last updated on October 22, 2023, at 08:28:58.059Z. \n",
            "\n",
            "\n",
            "Elizabeth\n",
            " Anderson, with the unique ID 944a776a-\n",
            "3811-4508-9857-c\n",
            "11d2c0260b3, is a highly accomplished individual currently residing in San Diego. Holding the position of Project Manager at the renowned\n",
            " entertainment company Netflix, Elizabeth has garnered valuable experience in her field. Her professional journey commenced with an internship in Project Management at Disney in 2017.\n",
            "  \n",
            "\n",
            "Following her internship, Elizabeth joined Netflix in 2018 as a Project Manager, a role she continues to excel in. Her educational background is equally impressive, boasting a Master of Science degree in Project Management from Northwestern University,\n",
            " obtained in 2018.  Prior to that, she earned a Bachelor of Science degree in Civil Engineering from Stanford University in 2016, demonstrating her diverse academic foundation.  \n",
            "\n",
            "Elizabeth possesses a strong command of English\n",
            " and a remarkable skillset in project management. Her expertise encompasses Project Management, Agile Methodologies, and Risk Management.  This information was recorded on August 14, 2023, at 16:53:04.791Z and last updated on August 15,\n",
            " 2023, at 16:53:04.791Z. \n",
            "\n",
            "\n",
            "Kevin\n",
            " Garcia is a Business Analyst at Disney, based in Dallas.  With a strong\n",
            " background in business analysis and data analysis, Kevin brings a wealth of experience to his\n",
            " role.\n",
            "\n",
            "Kevin's professional journey includes a successful stint as a Business Analyst at Disney, a position he has held since 2019. Prior\n",
            " to joining Disney, he honed his skills as a Business Analyst Intern at Uber in 2018, gaining valuable industry exposure.\n",
            "\n",
            "His academic credentials are\n",
            " equally impressive. Kevin holds a Master of Science in Business Analytics from the University of Texas at Austin, which he earned in 2019. His foundation in business and economics stems from his Bachelor of Science in Economics degree from the University\n",
            " of California, Los Angeles, obtained in 2017.\n",
            "\n",
            "Beyond his technical skills in Business Analysis, Data Analysis, and Process Improvement, Kevin is also multilingual, fluent in both English and Mandarin Chinese. His comprehensive skillset makes\n",
            " him a valuable asset to any organization.\n",
            "\n",
            "This information about Kevin Garcia was first recorded on September 28th, 2022 and last updated on September 29th, 2022.  His unique identification number is 82f0518c-4e4\n",
            "e-4890-a7d7-c95c4ff9e4c9. You can reach Kevin via email at kevingarcia@example.com. \n",
            "\n",
            "\n",
            "Thomas\n",
            " Wilson (ID: 0b40371c-92\n",
            "5c-485c-a42e-393\n",
            "e1086f95b) is currently employed as an Operations Manager at Uber, located in San Jose. He can be reached at thomaswilson\n",
            "@example.com.\n",
            "\n",
            "Thomas holds a Master of Business Administration (MBA) from Columbia Business School, which he completed in 2020. Prior\n",
            " to that, he earned a Bachelor of Science in Industrial Engineering from Purdue University, graduating in 2018. \n",
            "\n",
            "His work experience includes an Operations Internship at Lyft in 2019.  He possesses a strong skill\n",
            "set in Operations Management, Supply Chain Management, and Logistics.  Thomas is proficient in English. \n",
            "\n",
            "His profile was created on March 22nd, 2022, at 10:49:33\n",
            " PM UTC and last updated on March 23rd, 2022, at 10:49:33 PM UTC. \n",
            "\n",
            "\n",
            "This\n",
            " is a record for an individual with the unique ID \"b8713\n",
            "743-607b-4797-8a\n",
            "48-c715a762d564\". The individual's name is John Williams, with \"John\" being the first\n",
            " name and \"Williams\" being the last name. Their contact information includes the email address \"johnwilliams@example.com\".\n",
            "\n",
            "John's professional life includes\n",
            " the job title of \"Customer Service Representative\" at the company \"Lyft,\" located in \"Austin.\" Their work history shows they've held this role at Lyft from 2018 to the present.\n",
            "\n",
            "Education-wise,\n",
            " John holds an \"Associate of Arts\" degree from \"Miami Dade College,\" obtained in 2018. Their skillset encompasses \"Customer Service,\" \"Technical Support,\" and \"Problem Solving.\" Additionally, John is proficient in \"English\n",
            "\" and \"Spanish.\"\n",
            "\n",
            "This record was first created on \"2023-02-02\" at \"08:39:53.685Z\" and last updated on \"2023-02-03\" at \"08:39:\n",
            "53.685Z.\" \n",
            "\n",
            "\n",
            "Michael\n",
            " Rodriguez, with an ID of 802f919b-\n",
            "774e-4c8c-a999-9\n",
            "b8c301b6703, is a Technical Writer at Airbnb based in Jacksonville.  \n",
            "\n",
            "His email address is michaelrodriguez@\n",
            "example.com.  \n",
            "\n",
            "Michael's work experience includes his current role as Technical Writer at Airbnb, which he has held since 2019.\n",
            "  \n",
            "\n",
            "He holds a Bachelor of Arts in English from the University of Florida, which he obtained in 2019.  \n",
            "\n",
            "His skillset encompasses Technical Writing, Documentation, and Content Creation.  \n",
            "\n",
            "Michael is proficient in English\n",
            ".  \n",
            "\n",
            "His profile was created on December 23rd, 2022, at 13:42:38.547Z and last updated on December 24th, 20\n",
            "22, at 13:42:38.547Z.\n",
            "\n",
            "\n",
            "Ashley\n",
            " Hernandez, with a unique ID of e59b93f7-\n",
            "6553-4208-b43f-6\n",
            "a094d3e0c4c, is a Web Developer currently working at Dropbox in Fort Worth. Ashley's professional journey is highlighted by\n",
            " her role as a Web Developer at Dropbox, a position she has held since 2020. \n",
            "\n",
            "Her academic background includes a Bachelor of Science in\n",
            " Computer Science, which she earned from the Georgia Institute of Technology in 2020.  Ashley's skillset comprises Web Development, HTML, CSS, and JavaScript, reflecting her technical proficiency. She is fluent in English, facilitating\n",
            " effective communication in her professional sphere. \n",
            "\n",
            "Ashley's profile information, recorded on May 28, 2023, at 20:10:09.344 UTC, was last updated the\n",
            " following day, May 29, 2023, at the same time.  \n",
            "\n",
            "\n",
            "David\n",
            " Garcia is a UX Designer at Pinterest based in Columbus. With a strong background in\n",
            " design, evidenced by his Bachelor of Fine Arts in Design from the Rhode Island School\n",
            " of Design (2018), David has been honing his skills in the field since 2018. \n",
            "\n",
            "His expertise lies in UX Design\n",
            ", User Research, and Wireframing, making him a valuable asset to the Pinterest team. Fluent in both English and German, David brings a global perspective to his\n",
            " work. \n",
            "\n",
            "This information, stored under the unique ID '3a417d72-7778-4250-8250-c6962d67860\n",
            "9', represents his professional profile as of his last update on April 11, 2022, a day after its initial creation on April 10, 2022.\n",
            "\n",
            "\n",
            "Amanda\n",
            " Clark is a Graphic Designer based in Charlotte. With a strong background in visual communication\n",
            ", Amanda currently works at Spotify, a position she has held since 20\n",
            "19. \n",
            "\n",
            "Her design journey began at Parsons School of Design, where she earned a Bachelor of Fine Arts in Graphic Design in 2019\n",
            ". This education equipped her with a comprehensive understanding of design principles and a keen eye for aesthetics. \n",
            "\n",
            "At Spotify, Amanda leverages her expertise in Graphic Design\n",
            ", Adobe Creative Suite, and Typography to create visually compelling and engaging designs. Her work contributes to the company's overall brand identity and user experience.\n",
            "\n",
            "Fluent in English, Amanda is a highly effective communicator, able to articulate her design ideas\n",
            " clearly and collaborate seamlessly with colleagues and clients.  \n",
            "\n",
            "This profile was created on March 14, 2023, and last updated on March 15, 2023. It provides a snapshot of Amanda\n",
            "'s professional background and skills, showcasing her as a talented and dedicated Graphic Designer. \n",
            "\n",
            "\n",
            "Amanda\n",
            " Gonzalez, with the unique ID 14d5803a-\n",
            "033b-4679-81f3-8\n",
            "99b88e5b626, holds the position of Accountant at Twitter in Indianapolis.  She began her role in 202\n",
            "0 and continues to excel in this position today.  Amanda's expertise lies in the fields of Accounting, Financial Reporting, and Tax Preparation.\n",
            "\n",
            "Her impressive\n",
            " academic background includes a Bachelor of Science in Accounting, which she obtained from the University of Illinois at Urbana-Champaign in 2020.  Amanda is fluent in English.\n",
            "\n",
            "For any inquiries or further correspondence, she can be reached\n",
            " at amandagonzalez@example.com.  This profile was initially created on June 5th, 2023, at 12:40:39 AM and was last updated the following day,\n",
            " June 6th, 2023, at the same time.\n",
            "\n",
            "\n",
            "Matthew\n",
            " Williams, with a unique ID of 38886f49\n",
            "-b051-470b-a89b-\n",
            "3439397b9546, currently works as an Administrative Assistant at Instagram in San Francisco.  His email address is matthe\n",
            "wwilliams@example.com. Matthew's professional journey includes his role as an Administrative Assistant at Instagram, which he started in 2018\n",
            " and continues to hold. \n",
            "\n",
            "On the educational front, Matthew earned an Associate of Arts degree from Houston Community College in 2018. His skillset encompasses Administrative Support, proficiency in Microsoft Office Suite, and Calendar Management. He\n",
            " is fluent in English.\n",
            "\n",
            "Matthew's profile information was created on August 2nd, 2022, at 15:36:30.515Z and last updated on August 3rd\n",
            ", 2022, at 15:36:30.515Z. \n",
            "\n",
            "\n",
            "Jessica\n",
            " Lewis (ID: 1291db7b-159\n",
            "2-4986-a04f-c832\n",
            "a5824d1d) is a Recruiter at Snapchat based in Seattle.  She has held this role since 2019.\n",
            " Jessica can be reached at jessicalewis@example.com.\n",
            "\n",
            "In terms of her work history, Jessica's experience includes her current role as\n",
            " Recruiter at Snapchat, which she began in 2019.  \n",
            "\n",
            "Jessica's educational background includes a Bachelor of Arts in Psychology from Arizona State University, earned in 2019.  \n",
            "\n",
            "She possesses a strong\n",
            " skillset in Recruiting, Talent Acquisition, and Applicant Tracking Systems.  Furthermore, Jessica is fluent in both English and Spanish.\n",
            "\n",
            "Jessica's profile was created on September 6th, 2023, at 1:\n",
            "15:51 PM UTC and last updated on September 7th, 2023, at 1:15:51 PM UTC. \n",
            "\n",
            "\n",
            "This\n",
            " data represents a user profile with the unique ID \"525c52\n",
            "e3-865e-4445-a87\n",
            "f-7c06946c3547\". The individual's name is Jessica Garcia, with Jessica as her first name and Garcia\n",
            " as her last name. Her email address is jessicagarcia@example.com. \n",
            "\n",
            "Jessica holds the position of Sales Representative at TikTok, a\n",
            " company based in Denver. Her professional experience includes her current role as Sales Representative at TikTok, which she has held since 2020. \n",
            "\n",
            "In terms of education, Jessica obtained a Bachelor of Science degree in Marketing from Texas A\n",
            "&M University in 2020. Her skillset encompasses Sales, Cold Calling, and Lead Generation. \n",
            "\n",
            "Jessica is proficient in English. The profile was created on May 25, 2022, at\n",
            " 19:25:56.307 UTC and last updated on May 26, 2022, at 19:25:56.307 UTC.\n",
            "\n",
            "\n",
            "Kevin\n",
            " Thomas, with the unique ID db48168e-1a\n",
            "3c-4276-8904-123\n",
            "1a4115a9f, is a Marketing Specialist currently employed at Zoom in Washington, D.C. His email address is kevinthomas@\n",
            "example.com. \n",
            "\n",
            "Kevin holds a Bachelor of Arts in Communications from the University of Southern California, graduating in 2018. He began his\n",
            " role as a Marketing Specialist at Zoom the same year and continues in this position to the present day. \n",
            "\n",
            "His skillset encompasses Marketing, Digital Marketing, and Email Marketing. He is proficient in both English and French. \n",
            "\n",
            "Kevin'\n",
            "s profile was created on July 1st, 2023, at 02:46:25.810Z and last updated a day later on July 2nd, 2023\n",
            ", at 02:46:25.810Z. \n",
            "\n",
            "\n"
          ]
        }
      ]
    },
    {
      "cell_type": "markdown",
      "source": [
        "# Store In Google Cloud Storage\n",
        "\n"
      ],
      "metadata": {
        "id": "-XmUAP3QJgYF"
      },
      "id": "-XmUAP3QJgYF"
    },
    {
      "cell_type": "code",
      "source": [
        "client = storage.Client()\n",
        "bucket = client.get_bucket(bucket_id)\n",
        "bucket.blob(f\"{bucket_folder}/dataset.json\").upload_from_string(json.dumps(_dataset), content_type=\"application/json\")"
      ],
      "metadata": {
        "id": "IKoxFR9XJaha",
        "executionInfo": {
          "status": "ok",
          "timestamp": 1721412054030,
          "user_tz": 240,
          "elapsed": 448,
          "user": {
            "displayName": "",
            "userId": ""
          }
        }
      },
      "id": "IKoxFR9XJaha",
      "execution_count": 147,
      "outputs": []
    }
  ],
  "metadata": {
    "kernelspec": {
      "display_name": "Python 3",
      "language": "python",
      "name": "python3"
    },
    "language_info": {
      "codemirror_mode": {
        "name": "ipython",
        "version": 3
      },
      "file_extension": ".py",
      "mimetype": "text/x-python",
      "name": "python",
      "nbconvert_exporter": "python",
      "pygments_lexer": "ipython3",
      "version": "3.10.10"
    },
    "colab": {
      "provenance": [],
      "name": "jesusarguelles (Jul 19, 2024, 9:43:24 AM)"
    }
  },
  "nbformat": 4,
  "nbformat_minor": 5
}