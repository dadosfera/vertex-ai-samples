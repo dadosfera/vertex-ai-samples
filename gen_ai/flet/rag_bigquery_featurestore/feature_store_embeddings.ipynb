{
  "cells": [
    {
      "cell_type": "markdown",
      "source": [
        "# Create and Store Embeddings Using BigQuery + FeatureStore"
      ],
      "metadata": {
        "id": "cy45DZaRm7eY"
      },
      "id": "cy45DZaRm7eY"
    },
    {
      "cell_type": "markdown",
      "source": [
        "## Import Libraries"
      ],
      "metadata": {
        "id": "T3_e-qoQmIPR"
      },
      "id": "T3_e-qoQmIPR"
    },
    {
      "cell_type": "code",
      "source": [
        "from google.cloud import bigquery, aiplatform\n",
        "from google.cloud.aiplatform_v1.types import NearestNeighborQuery\n",
        "from vertexai.resources.preview import feature_store\n",
        "from vertexai.language_models import TextEmbeddingInput, TextEmbeddingModel"
      ],
      "metadata": {
        "id": "4r8zcv4SGda6"
      },
      "id": "4r8zcv4SGda6",
      "execution_count": null,
      "outputs": []
    },
    {
      "cell_type": "markdown",
      "source": [
        "## Set Variables"
      ],
      "metadata": {
        "id": "_dLVAJt6mMZ6"
      },
      "id": "_dLVAJt6mMZ6"
    },
    {
      "cell_type": "code",
      "source": [
        "project_id = \"jesusarguelles-sandbox\" # @param {type: \"string\"}\n",
        "embeddings_datable = \"jesusarguelles-sandbox.demos.hackernews_table_emb\" # @param {type: \"string\"}\n",
        "feature_store_online_id = \"fs_hckn\"  # @param {type: \"string\"}"
      ],
      "metadata": {
        "id": "jIY0Sz5wGgE1"
      },
      "id": "jIY0Sz5wGgE1",
      "execution_count": null,
      "outputs": []
    },
    {
      "cell_type": "markdown",
      "source": [
        "## Initialization"
      ],
      "metadata": {
        "id": "5yNfYspLmPRL"
      },
      "id": "5yNfYspLmPRL"
    },
    {
      "cell_type": "code",
      "source": [
        "aiplatform.init(project=project_id, location=\"us-central1\")\n",
        "bq_client = bigquery.Client(project=project_id)\n",
        "emb_model = TextEmbeddingModel.from_pretrained(\"text-embedding-004\")"
      ],
      "metadata": {
        "id": "zczVP1QeGjal"
      },
      "id": "zczVP1QeGjal",
      "execution_count": null,
      "outputs": []
    },
    {
      "cell_type": "markdown",
      "source": [
        "## Create Table with Embeddings"
      ],
      "metadata": {
        "id": "xfoecQMbmTdV"
      },
      "id": "xfoecQMbmTdV"
    },
    {
      "cell_type": "code",
      "source": [
        "# Query recommendted to avoid throttling\n",
        "sql_query = \"\"\"\n",
        "-- *** Updating the fields below is required ***\n",
        "-- The name of the source table\n",
        "DECLARE source_table DEFAULT 'bigquery-public-data.bbc_news.fulltext';\n",
        "-- The name of the target table\n",
        "DECLARE target_table DEFAULT 'target_dataset.news_body_embeddings';\n",
        "-- The name of the ML model to use for the ML operation\n",
        "DECLARE ml_model DEFAULT 'target_dataset.embedding_model';\n",
        "-- The STRING column from the source table passed to GENERATE_EMBEDDING()\n",
        "DECLARE content_column DEFAULT 'body';\n",
        "-- The unique key columns from the source table. These columns are used to identify new rows present\n",
        "-- in the source table and not the target table. '*' is not supported.\n",
        "DECLARE key_columns DEFAULT ARRAY['filename'];\n",
        "-- *** End of section ***\n",
        "\n",
        "-- *** Updating the fields below is optional ***\n",
        "-- The number of rows to process per child job. A larger value will reduce the overhead of multiple\n",
        "-- child jobs, but needs to be small enough to complete in a single job run.\n",
        "DECLARE batch_size DEFAULT 80000;\n",
        "-- The time to wait before the script terminates\n",
        "DECLARE termination_time_secs DEFAULT(23 * 60 * 60);\n",
        "-- An optional where clause to apply to the source table\n",
        "DECLARE where_clause DEFAULT 'TRUE';\n",
        "-- The columns to project from the source table to the target table\n",
        "DECLARE projection_columns DEFAULT ARRAY['*'];\n",
        "-- The ML options to use for the ML operation\n",
        "DECLARE ml_options DEFAULT 'STRUCT(TRUE AS flatten_json_output)';\n",
        "-- *** End of section ***\n",
        "\n",
        "-- *** Updating the fields below should be quite rare ***\n",
        "-- The ML query to use for the ML operation, requires the unique key\n",
        "DECLARE\n",
        "  ml_query\n",
        "    DEFAULT\n",
        "      FORMAT(\n",
        "        'SELECT %s, %s AS content FROM `%s` WHERE %s',\n",
        "        ARRAY_TO_STRING(projection_columns, ','),\n",
        "        content_column,\n",
        "        source_table,\n",
        "        where_clause);\n",
        "\n",
        "-- The filter condition for accepting the ML result into the target table\n",
        "DECLARE\n",
        "  accept_filter\n",
        "    DEFAULT 'ml_generate_embedding_status' || \" NOT LIKE 'A retryable error occurred:%'\";\n",
        "\n",
        "DECLARE\n",
        "  key_cols_filter\n",
        "    DEFAULT(\n",
        "      SELECT\n",
        "        STRING_AGG('S.' || KEY || ' = T.' || KEY, ' AND ')\n",
        "      FROM\n",
        "        UNNEST(key_columns) AS KEY\n",
        "    );\n",
        "-- *** End of section ***\n",
        "\n",
        "-- Create the target table first if it does not exist\n",
        "EXECUTE\n",
        "  IMMEDIATE\n",
        "    FORMAT(\n",
        "      '''\n",
        "CREATE TABLE IF NOT EXISTS `%s` AS\n",
        "  (SELECT *\n",
        "   FROM ML.GENERATE_EMBEDDING (MODEL `%s`,\n",
        "           (SELECT *\n",
        "            FROM (%s)\n",
        "            LIMIT 10), %s)\n",
        "   WHERE %s)''',\n",
        "      target_table,\n",
        "      ml_model,\n",
        "      ml_query,\n",
        "      ml_options,\n",
        "      accept_filter);\n",
        "\n",
        "-- Iteratively populate the target table\n",
        "REPEAT\n",
        "DROP TABLE IF EXISTS _SESSION.embedding_batch;\n",
        "\n",
        "-- Identify new rows in the source table to generate embeddings\n",
        "-- For throughput reasons, materialize these rows into a temp table before calling GENERATE_EMBEDDING()\n",
        "EXECUTE\n",
        "  IMMEDIATE\n",
        "    FORMAT(\n",
        "      '''\n",
        "      CREATE TEMP TABLE _SESSION.embedding_batch AS\n",
        "      (SELECT *\n",
        "          FROM (%s) AS S\n",
        "          WHERE NOT EXISTS (SELECT * FROM %s AS T WHERE %s) LIMIT %d)\n",
        "    ''',\n",
        "      ml_query,\n",
        "      target_table,\n",
        "      key_cols_filter,\n",
        "      batch_size);\n",
        "\n",
        "-- Generate embeddings for these rows and insert them into the target table\n",
        "EXECUTE\n",
        "  IMMEDIATE\n",
        "    FORMAT(\n",
        "      '''\n",
        "        INSERT `%s`\n",
        "        SELECT *\n",
        "            FROM ML.GENERATE_EMBEDDING (MODEL `%s`,\n",
        "                    TABLE _SESSION.embedding_batch, %s)\n",
        "            WHERE %s\n",
        "        ''',\n",
        "      target_table,\n",
        "      ml_model,\n",
        "      ml_options,\n",
        "      accept_filter);\n",
        "\n",
        "UNTIL(\n",
        "  SELECT\n",
        "    @@row_count\n",
        ")\n",
        "= 0\n",
        "OR TIMESTAMP_DIFF(CURRENT_TIMESTAMP(), @@script.creation_time, SECOND)\n",
        "  >= termination_time_secs\n",
        "    END\n",
        "      REPEAT;\n",
        "\"\"\""
      ],
      "metadata": {
        "id": "VjLUtl9HmW4G"
      },
      "id": "VjLUtl9HmW4G",
      "execution_count": null,
      "outputs": []
    },
    {
      "cell_type": "code",
      "id": "jzP4V3rgCpqcoEpdkhOFpUXG",
      "metadata": {
        "tags": [],
        "id": "jzP4V3rgCpqcoEpdkhOFpUXG"
      },
      "source": [
        "sql_query = \"\"\"\n",
        "CREATE OR REPLACE TABLE `jesusarguelles-sandbox.demos.hackernews_table_emb` AS\n",
        "SELECT *\n",
        "FROM ML.GENERATE_EMBEDDING(\n",
        "  MODEL `jesusarguelles-sandbox.demos.embeddings`,\n",
        "  (SELECT text as content FROM jesusarguelles-sandbox.demos.hackernews_table),\n",
        "  STRUCT(TRUE AS flatten_json_output,\n",
        "    'RETRIEVAL_DOCUMENT' AS task_type)\n",
        ");\n",
        "\n",
        "\"\"\"\n",
        "job = bq_client.query(sql_query)\n",
        "job.result()"
      ],
      "execution_count": null,
      "outputs": []
    },
    {
      "cell_type": "markdown",
      "source": [
        "## Creating Features Store from BigQuery"
      ],
      "metadata": {
        "id": "Dfi8HjiMGrgW"
      },
      "id": "Dfi8HjiMGrgW"
    },
    {
      "cell_type": "code",
      "source": [
        "sql_query = f\"\"\"\n",
        "SELECT * FROM {embeddings_datable}\n",
        "\"\"\"\n",
        "job = bq_client.query(sql_query)\n",
        "res = job.result()"
      ],
      "metadata": {
        "id": "FvOldfCCG9qK"
      },
      "id": "FvOldfCCG9qK",
      "execution_count": null,
      "outputs": []
    },
    {
      "cell_type": "code",
      "source": [
        "sql_query = f\"\"\"\n",
        "CREATE OR REPLACE TABLE `jesusarguelles-sandbox.demos.hackernews_table_emb_with_id` AS\n",
        "SELECT\n",
        "    ml_generate_embedding_result as embedding,\n",
        "    content,\n",
        "    CAST(ROW_NUMBER() OVER() AS STRING) AS unique_id\n",
        "FROM\n",
        "    `{embeddings_datable}`\n",
        "WHERE ARRAY_LENGTH(ml_generate_embedding_result) = 768\n",
        ";\n",
        "\"\"\"\n",
        "job = bq_client.query(sql_query)\n",
        "res = job.result()"
      ],
      "metadata": {
        "id": "T0xAZzMMR07f"
      },
      "id": "T0xAZzMMR07f",
      "execution_count": null,
      "outputs": []
    },
    {
      "cell_type": "markdown",
      "source": [
        "### Creating Online Store"
      ],
      "metadata": {
        "id": "-IDIFyTuHiQa"
      },
      "id": "-IDIFyTuHiQa"
    },
    {
      "cell_type": "code",
      "source": [
        "fos = feature_store.FeatureOnlineStore.create_optimized_store(\n",
        "    feature_store_online_id\n",
        ")"
      ],
      "metadata": {
        "id": "WzbKqjZ3HnfQ",
        "colab": {
          "base_uri": "https://localhost:8080/"
        },
        "executionInfo": {
          "status": "ok",
          "timestamp": 1723074842439,
          "user_tz": 240,
          "elapsed": 295893,
          "user": {
            "displayName": "",
            "userId": ""
          }
        },
        "outputId": "ba2e7e88-5cac-4f44-9cdc-09b77ef33131"
      },
      "id": "WzbKqjZ3HnfQ",
      "execution_count": null,
      "outputs": [
        {
          "output_type": "stream",
          "name": "stderr",
          "text": [
            "INFO:vertexai.resources.preview.feature_store.feature_online_store:Creating FeatureOnlineStore\n",
            "INFO:vertexai.resources.preview.feature_store.feature_online_store:Create FeatureOnlineStore backing LRO: projects/390227712642/locations/us-central1/featureOnlineStores/fs_hckn/operations/6929764564833665024\n",
            "INFO:vertexai.resources.preview.feature_store.feature_online_store:FeatureOnlineStore created. Resource name: projects/390227712642/locations/us-central1/featureOnlineStores/fs_hckn\n",
            "INFO:vertexai.resources.preview.feature_store.feature_online_store:To use this FeatureOnlineStore in another session:\n",
            "INFO:vertexai.resources.preview.feature_store.feature_online_store:feature_online_store = aiplatform.FeatureOnlineStore('projects/390227712642/locations/us-central1/featureOnlineStores/fs_hckn')\n"
          ]
        }
      ]
    },
    {
      "cell_type": "code",
      "source": [
        "sql_query = \"\"\"\n",
        "SELECT ARRAY_LENGTH(embedding) AS embedding_dim FROM `jesusarguelles-sandbox.demos.hackernews_table_emb_with_id` LIMIT 1\n",
        "\"\"\"\n",
        "job = bq_client.query(sql_query)\n",
        "res = job.result()"
      ],
      "metadata": {
        "id": "q6gB_GIRcSBb"
      },
      "id": "q6gB_GIRcSBb",
      "execution_count": null,
      "outputs": []
    },
    {
      "cell_type": "code",
      "source": [
        "for i in res:\n",
        "  print(i)"
      ],
      "metadata": {
        "colab": {
          "base_uri": "https://localhost:8080/"
        },
        "id": "6VEvEs7lcZaR",
        "executionInfo": {
          "status": "ok",
          "timestamp": 1723077901178,
          "user_tz": 240,
          "elapsed": 169,
          "user": {
            "displayName": "",
            "userId": ""
          }
        },
        "outputId": "a920555c-c77f-4efe-b50f-424695b00c37"
      },
      "id": "6VEvEs7lcZaR",
      "execution_count": null,
      "outputs": [
        {
          "output_type": "stream",
          "name": "stdout",
          "text": [
            "Row((768,), {'embedding_dim': 0})\n"
          ]
        }
      ]
    },
    {
      "cell_type": "markdown",
      "source": [
        "## Create Feature View Instance"
      ],
      "metadata": {
        "id": "46gJqyfGP1F6"
      },
      "id": "46gJqyfGP1F6"
    },
    {
      "cell_type": "code",
      "source": [
        "bigquery_source = feature_store.utils.FeatureViewBigQuerySource(\n",
        "        uri=\"bq://jesusarguelles-sandbox.demos.hackernews_table_emb_with_id\",\n",
        "        entity_id_columns=[\"unique_id\"],\n",
        "    )\n",
        "index_config = feature_store.utils.IndexConfig(\n",
        "    embedding_column=\"embedding\",\n",
        "    dimensions=768,\n",
        "    algorithm_config=feature_store.utils.TreeAhConfig(),\n",
        ")\n",
        "\n",
        "fv = fos.create_feature_view(\n",
        "    name=\"hacker_news_f_view\",\n",
        "    source=bigquery_source,\n",
        "    index_config=index_config,\n",
        ")"
      ],
      "metadata": {
        "colab": {
          "base_uri": "https://localhost:8080/"
        },
        "id": "2CLN9txrPwog",
        "executionInfo": {
          "status": "ok",
          "timestamp": 1723079242123,
          "user_tz": 240,
          "elapsed": 1046,
          "user": {
            "displayName": "",
            "userId": ""
          }
        },
        "outputId": "7019a81d-09fe-447e-bb0c-4d0c31b362cb"
      },
      "id": "2CLN9txrPwog",
      "execution_count": null,
      "outputs": [
        {
          "output_type": "stream",
          "name": "stderr",
          "text": [
            "INFO:vertexai.resources.preview.feature_store.feature_online_store:Creating FeatureView\n",
            "INFO:vertexai.resources.preview.feature_store.feature_online_store:Create FeatureView backing LRO: projects/390227712642/locations/us-central1/featureOnlineStores/fs_hckn/featureViews/hacker_news_f_view/operations/1921058091755896832\n",
            "INFO:vertexai.resources.preview.feature_store.feature_online_store:FeatureView created. Resource name: projects/390227712642/locations/us-central1/featureOnlineStores/fs_hckn/featureViews/hacker_news_f_view\n",
            "INFO:vertexai.resources.preview.feature_store.feature_online_store:To use this FeatureView in another session:\n",
            "INFO:vertexai.resources.preview.feature_store.feature_online_store:feature_view = aiplatform.FeatureView('projects/390227712642/locations/us-central1/featureOnlineStores/fs_hckn/featureViews/hacker_news_f_view')\n"
          ]
        }
      ]
    },
    {
      "cell_type": "code",
      "source": [
        "sync_response = fv.sync()"
      ],
      "metadata": {
        "id": "5swQzm8-Uwjo"
      },
      "id": "5swQzm8-Uwjo",
      "execution_count": null,
      "outputs": []
    },
    {
      "cell_type": "code",
      "source": [
        "import time\n",
        "\n",
        "while True:\n",
        "    feature_view_sync = fv.get_sync(\n",
        "        sync_response.resource_name.split(\"/\")[9]\n",
        "    ).gca_resource\n",
        "    if feature_view_sync.run_time.end_time.seconds > 0:\n",
        "        status = \"Succeed\" if feature_view_sync.final_status.code == 0 else \"Failed\"\n",
        "        print(f\"Sync {status} for {feature_view_sync.name}. \\n {feature_view_sync}\")\n",
        "        # wait a little more for the job to properly shutdown\n",
        "        time.sleep(30)\n",
        "        break\n",
        "    else:\n",
        "        print(\"Sync ongoing, waiting for 30 seconds.\")\n",
        "    time.sleep(30)"
      ],
      "metadata": {
        "colab": {
          "base_uri": "https://localhost:8080/"
        },
        "id": "VlBDPBCcZTqg",
        "executionInfo": {
          "status": "ok",
          "timestamp": 1723080484082,
          "user_tz": 240,
          "elapsed": 1235376,
          "user": {
            "displayName": "",
            "userId": ""
          }
        },
        "outputId": "3b473e4b-f87c-4a6f-c878-a74d750e32d3"
      },
      "id": "VlBDPBCcZTqg",
      "execution_count": null,
      "outputs": [
        {
          "output_type": "stream",
          "name": "stdout",
          "text": [
            "Sync ongoing, waiting for 30 seconds.\n",
            "Sync ongoing, waiting for 30 seconds.\n",
            "Sync ongoing, waiting for 30 seconds.\n",
            "Sync ongoing, waiting for 30 seconds.\n",
            "Sync ongoing, waiting for 30 seconds.\n",
            "Sync ongoing, waiting for 30 seconds.\n",
            "Sync ongoing, waiting for 30 seconds.\n",
            "Sync ongoing, waiting for 30 seconds.\n",
            "Sync ongoing, waiting for 30 seconds.\n",
            "Sync ongoing, waiting for 30 seconds.\n",
            "Sync ongoing, waiting for 30 seconds.\n",
            "Sync ongoing, waiting for 30 seconds.\n",
            "Sync ongoing, waiting for 30 seconds.\n",
            "Sync ongoing, waiting for 30 seconds.\n",
            "Sync ongoing, waiting for 30 seconds.\n",
            "Sync ongoing, waiting for 30 seconds.\n",
            "Sync ongoing, waiting for 30 seconds.\n",
            "Sync ongoing, waiting for 30 seconds.\n",
            "Sync ongoing, waiting for 30 seconds.\n",
            "Sync ongoing, waiting for 30 seconds.\n",
            "Sync ongoing, waiting for 30 seconds.\n",
            "Sync ongoing, waiting for 30 seconds.\n",
            "Sync ongoing, waiting for 30 seconds.\n",
            "Sync ongoing, waiting for 30 seconds.\n",
            "Sync ongoing, waiting for 30 seconds.\n",
            "Sync ongoing, waiting for 30 seconds.\n",
            "Sync ongoing, waiting for 30 seconds.\n",
            "Sync ongoing, waiting for 30 seconds.\n",
            "Sync ongoing, waiting for 30 seconds.\n",
            "Sync ongoing, waiting for 30 seconds.\n",
            "Sync ongoing, waiting for 30 seconds.\n",
            "Sync ongoing, waiting for 30 seconds.\n",
            "Sync ongoing, waiting for 30 seconds.\n",
            "Sync ongoing, waiting for 30 seconds.\n",
            "Sync ongoing, waiting for 30 seconds.\n",
            "Sync ongoing, waiting for 30 seconds.\n",
            "Sync ongoing, waiting for 30 seconds.\n",
            "Sync ongoing, waiting for 30 seconds.\n",
            "Sync ongoing, waiting for 30 seconds.\n",
            "Sync Succeed for projects/390227712642/locations/us-central1/featureOnlineStores/fs_hckn/featureViews/hacker_news_f_view/featureViewSyncs/1833225752854659072. \n",
            " name: \"projects/390227712642/locations/us-central1/featureOnlineStores/fs_hckn/featureViews/hacker_news_f_view/featureViewSyncs/1833225752854659072\"\n",
            "create_time {\n",
            "  seconds: 1723079247\n",
            "  nanos: 137072000\n",
            "}\n",
            "final_status {\n",
            "}\n",
            "run_time {\n",
            "  start_time {\n",
            "    seconds: 1723079247\n",
            "    nanos: 137072000\n",
            "  }\n",
            "  end_time {\n",
            "    seconds: 1723080431\n",
            "    nanos: 739096000\n",
            "  }\n",
            "}\n",
            "sync_summary {\n",
            "  row_synced: 2998803\n",
            "  total_slot: 1626594\n",
            "}\n",
            "\n"
          ]
        }
      ]
    },
    {
      "cell_type": "code",
      "source": [
        "query = \"Excellent piece\"\n",
        "inputs = [TextEmbeddingInput(query, \"RETRIEVAL_DOCUMENT\")]\n",
        "embeddings = emb_model.get_embeddings(inputs)"
      ],
      "metadata": {
        "id": "Fg0-hf6lXWbA"
      },
      "id": "Fg0-hf6lXWbA",
      "execution_count": null,
      "outputs": []
    },
    {
      "cell_type": "code",
      "source": [
        "emb=embeddings[0].values"
      ],
      "metadata": {
        "id": "QY4tQBTMm-Ds"
      },
      "id": "QY4tQBTMm-Ds",
      "execution_count": null,
      "outputs": []
    },
    {
      "cell_type": "code",
      "source": [
        "r = fv.search(\n",
        "    embedding_value = emb,\n",
        "    neighbor_count = 5,\n",
        "    return_full_entity=True,  # returning entities with metadata\n",
        ").to_dict()"
      ],
      "metadata": {
        "id": "MH9sSs1eV5RG"
      },
      "id": "MH9sSs1eV5RG",
      "execution_count": null,
      "outputs": []
    },
    {
      "cell_type": "code",
      "source": [
        "for n in r[\"neighbors\"]:\n",
        "  for feature in n[\"entity_key_values\"][\"key_values\"][\"features\"]:\n",
        "    if feature[\"name\"] == \"content\":\n",
        "      print(feature[\"value\"])"
      ],
      "metadata": {
        "colab": {
          "base_uri": "https://localhost:8080/"
        },
        "id": "48_HmhiEYE-5",
        "executionInfo": {
          "status": "ok",
          "timestamp": 1723081382485,
          "user_tz": 240,
          "elapsed": 140,
          "user": {
            "displayName": "",
            "userId": ""
          }
        },
        "outputId": "b5283c92-b137-4bf8-a456-76ebe397421c"
      },
      "id": "48_HmhiEYE-5",
      "execution_count": null,
      "outputs": [
        {
          "output_type": "stream",
          "name": "stdout",
          "text": [
            "{'string_value': 'An excellent piece.'}\n",
            "{'string_value': 'Excellent piece of work.'}\n",
            "{'string_value': 'Amazing piece of work'}\n",
            "{'string_value': 'Very well done.'}\n",
            "{'string_value': 'This is a really good piece. Thanks!'}\n"
          ]
        }
      ]
    },
    {
      "cell_type": "code",
      "source": [
        "r[\"neighbors\"][0][\"entity_id\"]"
      ],
      "metadata": {
        "colab": {
          "base_uri": "https://localhost:8080/",
          "height": 35
        },
        "id": "aT0TVO-iob5F",
        "executionInfo": {
          "status": "ok",
          "timestamp": 1723081531182,
          "user_tz": 240,
          "elapsed": 161,
          "user": {
            "displayName": "",
            "userId": ""
          }
        },
        "outputId": "4ef8d206-215f-4e12-cff2-7ea4cc7ab965"
      },
      "id": "aT0TVO-iob5F",
      "execution_count": null,
      "outputs": [
        {
          "output_type": "execute_result",
          "data": {
            "text/plain": [
              "'320373'"
            ],
            "application/vnd.google.colaboratory.intrinsic+json": {
              "type": "string"
            }
          },
          "metadata": {},
          "execution_count": 116
        }
      ]
    },
    {
      "cell_type": "code",
      "source": [
        "fview = \"projects/390227712642/locations/us-central1/featureOnlineStores/fs_hckn/featureViews/hacker_news_f_view\"\n",
        "fv = feature_store.FeatureView(name=fview)"
      ],
      "metadata": {
        "id": "z_x2fsiBDSiZ"
      },
      "id": "z_x2fsiBDSiZ",
      "execution_count": null,
      "outputs": []
    },
    {
      "cell_type": "code",
      "source": [
        "r = fv.search(\n",
        "    embedding_value = emb,\n",
        "    neighbor_count = 5,\n",
        "    return_full_entity=True,  # returning entities with metadata\n",
        ").to_dict()"
      ],
      "metadata": {
        "colab": {
          "base_uri": "https://localhost:8080/"
        },
        "id": "-wcRuIZ_Dydj",
        "executionInfo": {
          "status": "ok",
          "timestamp": 1723088386236,
          "user_tz": 240,
          "elapsed": 413,
          "user": {
            "displayName": "",
            "userId": ""
          }
        },
        "outputId": "ccf7c77b-3b2a-48c9-8198-c3287653ca08"
      },
      "id": "-wcRuIZ_Dydj",
      "execution_count": null,
      "outputs": [
        {
          "output_type": "stream",
          "name": "stderr",
          "text": [
            "INFO:vertexai.resources.preview.feature_store.feature_view:Public endpoint for the optimized online store fs_hckn is 2091622959750840320.us-central1-390227712642.featurestore.vertexai.goog\n"
          ]
        }
      ]
    },
    {
      "cell_type": "markdown",
      "source": [
        "## List FeatureView"
      ],
      "metadata": {
        "id": "y7myovvkE0ge"
      },
      "id": "y7myovvkE0ge"
    },
    {
      "cell_type": "code",
      "source": [
        "feature_store.FeatureView.list(feature_online_store_id=\"fs_hckn\")"
      ],
      "metadata": {
        "colab": {
          "base_uri": "https://localhost:8080/"
        },
        "id": "Etjb1obVEphW",
        "executionInfo": {
          "status": "ok",
          "timestamp": 1723088444165,
          "user_tz": 240,
          "elapsed": 309,
          "user": {
            "displayName": "",
            "userId": ""
          }
        },
        "outputId": "62c703ad-3bd1-4cac-e887-216811c31b7c"
      },
      "id": "Etjb1obVEphW",
      "execution_count": null,
      "outputs": [
        {
          "output_type": "execute_result",
          "data": {
            "text/plain": [
              "[<vertexai.resources.preview.feature_store.feature_view.FeatureView object at 0x7f689b7d9e40> \n",
              " resource name: projects/390227712642/locations/us-central1/featureOnlineStores/fs_hckn/featureViews/hacker_news_f_view]"
            ]
          },
          "metadata": {},
          "execution_count": 135
        }
      ]
    }
  ],
  "metadata": {
    "kernelspec": {
      "display_name": "Python 3",
      "language": "python",
      "name": "python3"
    },
    "language_info": {
      "codemirror_mode": {
        "name": "ipython",
        "version": 3
      },
      "file_extension": ".py",
      "mimetype": "text/x-python",
      "name": "python",
      "nbconvert_exporter": "python",
      "pygments_lexer": "ipython3",
      "version": "3.10.10"
    },
    "colab": {
      "provenance": [],
      "name": "feature_store_embeddings"
    }
  },
  "nbformat": 4,
  "nbformat_minor": 5
}