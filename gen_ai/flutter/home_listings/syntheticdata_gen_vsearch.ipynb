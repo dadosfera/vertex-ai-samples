{
 "cells": [
  {
   "cell_type": "code",
   "execution_count": 2,
   "id": "DdrhSUp1zfZW",
   "metadata": {
    "colab": {
     "base_uri": "https://localhost:8080/"
    },
    "executionInfo": {
     "elapsed": 9275,
     "status": "ok",
     "timestamp": 1716090013353,
     "user": {
      "displayName": "",
      "userId": ""
     },
     "user_tz": 420
    },
    "id": "DdrhSUp1zfZW",
    "outputId": "212bbe47-1ba5-4eb0-bbea-911a12a2faaa",
    "scrolled": true
   },
   "outputs": [
    {
     "name": "stdout",
     "output_type": "stream",
     "text": [
      "Requirement already satisfied: google-cloud-aiplatform in /Users/jesusarguelles/IdeaProjects/vertex-ai-samples/vtx/lib/python3.11/site-packages (1.59.0)\r\n",
      "Requirement already satisfied: google-api-core!=2.0.*,!=2.1.*,!=2.2.*,!=2.3.*,!=2.4.*,!=2.5.*,!=2.6.*,!=2.7.*,<3.0.0dev,>=1.34.1 in /Users/jesusarguelles/IdeaProjects/vertex-ai-samples/vtx/lib/python3.11/site-packages (from google-api-core[grpc]!=2.0.*,!=2.1.*,!=2.2.*,!=2.3.*,!=2.4.*,!=2.5.*,!=2.6.*,!=2.7.*,<3.0.0dev,>=1.34.1->google-cloud-aiplatform) (2.19.1)\r\n",
      "Requirement already satisfied: google-auth<3.0.0dev,>=2.14.1 in /Users/jesusarguelles/IdeaProjects/vertex-ai-samples/vtx/lib/python3.11/site-packages (from google-cloud-aiplatform) (2.32.0)\r\n",
      "Requirement already satisfied: proto-plus<2.0.0dev,>=1.22.3 in /Users/jesusarguelles/IdeaProjects/vertex-ai-samples/vtx/lib/python3.11/site-packages (from google-cloud-aiplatform) (1.24.0)\r\n",
      "Requirement already satisfied: protobuf!=3.20.0,!=3.20.1,!=4.21.0,!=4.21.1,!=4.21.2,!=4.21.3,!=4.21.4,!=4.21.5,<5.0.0dev,>=3.19.5 in /Users/jesusarguelles/IdeaProjects/vertex-ai-samples/vtx/lib/python3.11/site-packages (from google-cloud-aiplatform) (4.25.3)\r\n",
      "Requirement already satisfied: packaging>=14.3 in /Users/jesusarguelles/IdeaProjects/vertex-ai-samples/vtx/lib/python3.11/site-packages (from google-cloud-aiplatform) (24.1)\r\n",
      "Requirement already satisfied: google-cloud-storage<3.0.0dev,>=1.32.0 in /Users/jesusarguelles/IdeaProjects/vertex-ai-samples/vtx/lib/python3.11/site-packages (from google-cloud-aiplatform) (2.17.0)\r\n",
      "Requirement already satisfied: google-cloud-bigquery!=3.20.0,<4.0.0dev,>=1.15.0 in /Users/jesusarguelles/IdeaProjects/vertex-ai-samples/vtx/lib/python3.11/site-packages (from google-cloud-aiplatform) (3.25.0)\r\n",
      "Requirement already satisfied: google-cloud-resource-manager<3.0.0dev,>=1.3.3 in /Users/jesusarguelles/IdeaProjects/vertex-ai-samples/vtx/lib/python3.11/site-packages (from google-cloud-aiplatform) (1.12.4)\r\n",
      "Requirement already satisfied: shapely<3.0.0dev in /Users/jesusarguelles/IdeaProjects/vertex-ai-samples/vtx/lib/python3.11/site-packages (from google-cloud-aiplatform) (2.0.5)\r\n",
      "Requirement already satisfied: pydantic<3 in /Users/jesusarguelles/IdeaProjects/vertex-ai-samples/vtx/lib/python3.11/site-packages (from google-cloud-aiplatform) (2.8.2)\r\n",
      "Requirement already satisfied: docstring-parser<1 in /Users/jesusarguelles/IdeaProjects/vertex-ai-samples/vtx/lib/python3.11/site-packages (from google-cloud-aiplatform) (0.16)\r\n",
      "Requirement already satisfied: googleapis-common-protos<2.0.dev0,>=1.56.2 in /Users/jesusarguelles/IdeaProjects/vertex-ai-samples/vtx/lib/python3.11/site-packages (from google-api-core!=2.0.*,!=2.1.*,!=2.2.*,!=2.3.*,!=2.4.*,!=2.5.*,!=2.6.*,!=2.7.*,<3.0.0dev,>=1.34.1->google-api-core[grpc]!=2.0.*,!=2.1.*,!=2.2.*,!=2.3.*,!=2.4.*,!=2.5.*,!=2.6.*,!=2.7.*,<3.0.0dev,>=1.34.1->google-cloud-aiplatform) (1.63.2)\r\n",
      "Requirement already satisfied: requests<3.0.0.dev0,>=2.18.0 in /Users/jesusarguelles/IdeaProjects/vertex-ai-samples/vtx/lib/python3.11/site-packages (from google-api-core!=2.0.*,!=2.1.*,!=2.2.*,!=2.3.*,!=2.4.*,!=2.5.*,!=2.6.*,!=2.7.*,<3.0.0dev,>=1.34.1->google-api-core[grpc]!=2.0.*,!=2.1.*,!=2.2.*,!=2.3.*,!=2.4.*,!=2.5.*,!=2.6.*,!=2.7.*,<3.0.0dev,>=1.34.1->google-cloud-aiplatform) (2.32.3)\r\n",
      "Requirement already satisfied: grpcio<2.0dev,>=1.33.2 in /Users/jesusarguelles/IdeaProjects/vertex-ai-samples/vtx/lib/python3.11/site-packages (from google-api-core[grpc]!=2.0.*,!=2.1.*,!=2.2.*,!=2.3.*,!=2.4.*,!=2.5.*,!=2.6.*,!=2.7.*,<3.0.0dev,>=1.34.1->google-cloud-aiplatform) (1.65.1)\r\n",
      "Requirement already satisfied: grpcio-status<2.0.dev0,>=1.33.2 in /Users/jesusarguelles/IdeaProjects/vertex-ai-samples/vtx/lib/python3.11/site-packages (from google-api-core[grpc]!=2.0.*,!=2.1.*,!=2.2.*,!=2.3.*,!=2.4.*,!=2.5.*,!=2.6.*,!=2.7.*,<3.0.0dev,>=1.34.1->google-cloud-aiplatform) (1.62.2)\r\n",
      "Requirement already satisfied: cachetools<6.0,>=2.0.0 in /Users/jesusarguelles/IdeaProjects/vertex-ai-samples/vtx/lib/python3.11/site-packages (from google-auth<3.0.0dev,>=2.14.1->google-cloud-aiplatform) (5.4.0)\r\n",
      "Requirement already satisfied: pyasn1-modules>=0.2.1 in /Users/jesusarguelles/IdeaProjects/vertex-ai-samples/vtx/lib/python3.11/site-packages (from google-auth<3.0.0dev,>=2.14.1->google-cloud-aiplatform) (0.4.0)\r\n",
      "Requirement already satisfied: rsa<5,>=3.1.4 in /Users/jesusarguelles/IdeaProjects/vertex-ai-samples/vtx/lib/python3.11/site-packages (from google-auth<3.0.0dev,>=2.14.1->google-cloud-aiplatform) (4.9)\r\n",
      "Requirement already satisfied: google-cloud-core<3.0.0dev,>=1.6.0 in /Users/jesusarguelles/IdeaProjects/vertex-ai-samples/vtx/lib/python3.11/site-packages (from google-cloud-bigquery!=3.20.0,<4.0.0dev,>=1.15.0->google-cloud-aiplatform) (2.4.1)\r\n",
      "Requirement already satisfied: google-resumable-media<3.0dev,>=0.6.0 in /Users/jesusarguelles/IdeaProjects/vertex-ai-samples/vtx/lib/python3.11/site-packages (from google-cloud-bigquery!=3.20.0,<4.0.0dev,>=1.15.0->google-cloud-aiplatform) (2.7.1)\r\n",
      "Requirement already satisfied: python-dateutil<3.0dev,>=2.7.2 in /Users/jesusarguelles/IdeaProjects/vertex-ai-samples/vtx/lib/python3.11/site-packages (from google-cloud-bigquery!=3.20.0,<4.0.0dev,>=1.15.0->google-cloud-aiplatform) (2.9.0.post0)\r\n",
      "Requirement already satisfied: grpc-google-iam-v1<1.0.0dev,>=0.12.4 in /Users/jesusarguelles/IdeaProjects/vertex-ai-samples/vtx/lib/python3.11/site-packages (from google-cloud-resource-manager<3.0.0dev,>=1.3.3->google-cloud-aiplatform) (0.13.1)\r\n",
      "Requirement already satisfied: google-crc32c<2.0dev,>=1.0 in /Users/jesusarguelles/IdeaProjects/vertex-ai-samples/vtx/lib/python3.11/site-packages (from google-cloud-storage<3.0.0dev,>=1.32.0->google-cloud-aiplatform) (1.5.0)\r\n",
      "Requirement already satisfied: annotated-types>=0.4.0 in /Users/jesusarguelles/IdeaProjects/vertex-ai-samples/vtx/lib/python3.11/site-packages (from pydantic<3->google-cloud-aiplatform) (0.7.0)\r\n",
      "Requirement already satisfied: pydantic-core==2.20.1 in /Users/jesusarguelles/IdeaProjects/vertex-ai-samples/vtx/lib/python3.11/site-packages (from pydantic<3->google-cloud-aiplatform) (2.20.1)\r\n",
      "Requirement already satisfied: typing-extensions>=4.6.1 in /Users/jesusarguelles/IdeaProjects/vertex-ai-samples/vtx/lib/python3.11/site-packages (from pydantic<3->google-cloud-aiplatform) (4.12.2)\r\n",
      "Requirement already satisfied: numpy<3,>=1.14 in /Users/jesusarguelles/IdeaProjects/vertex-ai-samples/vtx/lib/python3.11/site-packages (from shapely<3.0.0dev->google-cloud-aiplatform) (2.0.0)\r\n",
      "Requirement already satisfied: pyasn1<0.7.0,>=0.4.6 in /Users/jesusarguelles/IdeaProjects/vertex-ai-samples/vtx/lib/python3.11/site-packages (from pyasn1-modules>=0.2.1->google-auth<3.0.0dev,>=2.14.1->google-cloud-aiplatform) (0.6.0)\r\n",
      "Requirement already satisfied: six>=1.5 in /Users/jesusarguelles/IdeaProjects/vertex-ai-samples/vtx/lib/python3.11/site-packages (from python-dateutil<3.0dev,>=2.7.2->google-cloud-bigquery!=3.20.0,<4.0.0dev,>=1.15.0->google-cloud-aiplatform) (1.16.0)\r\n",
      "Requirement already satisfied: charset-normalizer<4,>=2 in /Users/jesusarguelles/IdeaProjects/vertex-ai-samples/vtx/lib/python3.11/site-packages (from requests<3.0.0.dev0,>=2.18.0->google-api-core!=2.0.*,!=2.1.*,!=2.2.*,!=2.3.*,!=2.4.*,!=2.5.*,!=2.6.*,!=2.7.*,<3.0.0dev,>=1.34.1->google-api-core[grpc]!=2.0.*,!=2.1.*,!=2.2.*,!=2.3.*,!=2.4.*,!=2.5.*,!=2.6.*,!=2.7.*,<3.0.0dev,>=1.34.1->google-cloud-aiplatform) (3.3.2)\r\n",
      "Requirement already satisfied: idna<4,>=2.5 in /Users/jesusarguelles/IdeaProjects/vertex-ai-samples/vtx/lib/python3.11/site-packages (from requests<3.0.0.dev0,>=2.18.0->google-api-core!=2.0.*,!=2.1.*,!=2.2.*,!=2.3.*,!=2.4.*,!=2.5.*,!=2.6.*,!=2.7.*,<3.0.0dev,>=1.34.1->google-api-core[grpc]!=2.0.*,!=2.1.*,!=2.2.*,!=2.3.*,!=2.4.*,!=2.5.*,!=2.6.*,!=2.7.*,<3.0.0dev,>=1.34.1->google-cloud-aiplatform) (3.7)\r\n",
      "Requirement already satisfied: urllib3<3,>=1.21.1 in /Users/jesusarguelles/IdeaProjects/vertex-ai-samples/vtx/lib/python3.11/site-packages (from requests<3.0.0.dev0,>=2.18.0->google-api-core!=2.0.*,!=2.1.*,!=2.2.*,!=2.3.*,!=2.4.*,!=2.5.*,!=2.6.*,!=2.7.*,<3.0.0dev,>=1.34.1->google-api-core[grpc]!=2.0.*,!=2.1.*,!=2.2.*,!=2.3.*,!=2.4.*,!=2.5.*,!=2.6.*,!=2.7.*,<3.0.0dev,>=1.34.1->google-cloud-aiplatform) (2.2.2)\r\n",
      "Requirement already satisfied: certifi>=2017.4.17 in /Users/jesusarguelles/IdeaProjects/vertex-ai-samples/vtx/lib/python3.11/site-packages (from requests<3.0.0.dev0,>=2.18.0->google-api-core!=2.0.*,!=2.1.*,!=2.2.*,!=2.3.*,!=2.4.*,!=2.5.*,!=2.6.*,!=2.7.*,<3.0.0dev,>=1.34.1->google-api-core[grpc]!=2.0.*,!=2.1.*,!=2.2.*,!=2.3.*,!=2.4.*,!=2.5.*,!=2.6.*,!=2.7.*,<3.0.0dev,>=1.34.1->google-cloud-aiplatform) (2024.7.4)\r\n",
      "Requirement already satisfied: google-cloud-storage in /Users/jesusarguelles/IdeaProjects/vertex-ai-samples/vtx/lib/python3.11/site-packages (2.17.0)\r\n",
      "Requirement already satisfied: google-auth<3.0dev,>=2.26.1 in /Users/jesusarguelles/IdeaProjects/vertex-ai-samples/vtx/lib/python3.11/site-packages (from google-cloud-storage) (2.32.0)\r\n",
      "Requirement already satisfied: google-api-core<3.0.0dev,>=2.15.0 in /Users/jesusarguelles/IdeaProjects/vertex-ai-samples/vtx/lib/python3.11/site-packages (from google-cloud-storage) (2.19.1)\r\n",
      "Requirement already satisfied: google-cloud-core<3.0dev,>=2.3.0 in /Users/jesusarguelles/IdeaProjects/vertex-ai-samples/vtx/lib/python3.11/site-packages (from google-cloud-storage) (2.4.1)\r\n",
      "Requirement already satisfied: google-resumable-media>=2.6.0 in /Users/jesusarguelles/IdeaProjects/vertex-ai-samples/vtx/lib/python3.11/site-packages (from google-cloud-storage) (2.7.1)\r\n",
      "Requirement already satisfied: requests<3.0.0dev,>=2.18.0 in /Users/jesusarguelles/IdeaProjects/vertex-ai-samples/vtx/lib/python3.11/site-packages (from google-cloud-storage) (2.32.3)\r\n",
      "Requirement already satisfied: google-crc32c<2.0dev,>=1.0 in /Users/jesusarguelles/IdeaProjects/vertex-ai-samples/vtx/lib/python3.11/site-packages (from google-cloud-storage) (1.5.0)\r\n",
      "Requirement already satisfied: googleapis-common-protos<2.0.dev0,>=1.56.2 in /Users/jesusarguelles/IdeaProjects/vertex-ai-samples/vtx/lib/python3.11/site-packages (from google-api-core<3.0.0dev,>=2.15.0->google-cloud-storage) (1.63.2)\r\n",
      "Requirement already satisfied: protobuf!=3.20.0,!=3.20.1,!=4.21.0,!=4.21.1,!=4.21.2,!=4.21.3,!=4.21.4,!=4.21.5,<6.0.0.dev0,>=3.19.5 in /Users/jesusarguelles/IdeaProjects/vertex-ai-samples/vtx/lib/python3.11/site-packages (from google-api-core<3.0.0dev,>=2.15.0->google-cloud-storage) (4.25.3)\r\n",
      "Requirement already satisfied: proto-plus<2.0.0dev,>=1.22.3 in /Users/jesusarguelles/IdeaProjects/vertex-ai-samples/vtx/lib/python3.11/site-packages (from google-api-core<3.0.0dev,>=2.15.0->google-cloud-storage) (1.24.0)\r\n",
      "Requirement already satisfied: cachetools<6.0,>=2.0.0 in /Users/jesusarguelles/IdeaProjects/vertex-ai-samples/vtx/lib/python3.11/site-packages (from google-auth<3.0dev,>=2.26.1->google-cloud-storage) (5.4.0)\r\n",
      "Requirement already satisfied: pyasn1-modules>=0.2.1 in /Users/jesusarguelles/IdeaProjects/vertex-ai-samples/vtx/lib/python3.11/site-packages (from google-auth<3.0dev,>=2.26.1->google-cloud-storage) (0.4.0)\r\n",
      "Requirement already satisfied: rsa<5,>=3.1.4 in /Users/jesusarguelles/IdeaProjects/vertex-ai-samples/vtx/lib/python3.11/site-packages (from google-auth<3.0dev,>=2.26.1->google-cloud-storage) (4.9)\r\n",
      "Requirement already satisfied: charset-normalizer<4,>=2 in /Users/jesusarguelles/IdeaProjects/vertex-ai-samples/vtx/lib/python3.11/site-packages (from requests<3.0.0dev,>=2.18.0->google-cloud-storage) (3.3.2)\r\n",
      "Requirement already satisfied: idna<4,>=2.5 in /Users/jesusarguelles/IdeaProjects/vertex-ai-samples/vtx/lib/python3.11/site-packages (from requests<3.0.0dev,>=2.18.0->google-cloud-storage) (3.7)\r\n",
      "Requirement already satisfied: urllib3<3,>=1.21.1 in /Users/jesusarguelles/IdeaProjects/vertex-ai-samples/vtx/lib/python3.11/site-packages (from requests<3.0.0dev,>=2.18.0->google-cloud-storage) (2.2.2)\r\n",
      "Requirement already satisfied: certifi>=2017.4.17 in /Users/jesusarguelles/IdeaProjects/vertex-ai-samples/vtx/lib/python3.11/site-packages (from requests<3.0.0dev,>=2.18.0->google-cloud-storage) (2024.7.4)\r\n",
      "Requirement already satisfied: pyasn1<0.7.0,>=0.4.6 in /Users/jesusarguelles/IdeaProjects/vertex-ai-samples/vtx/lib/python3.11/site-packages (from pyasn1-modules>=0.2.1->google-auth<3.0dev,>=2.26.1->google-cloud-storage) (0.6.0)\r\n",
      "Requirement already satisfied: gcsfs in /Users/jesusarguelles/IdeaProjects/vertex-ai-samples/vtx/lib/python3.11/site-packages (2024.6.1)\r\n",
      "Requirement already satisfied: aiohttp!=4.0.0a0,!=4.0.0a1 in /Users/jesusarguelles/IdeaProjects/vertex-ai-samples/vtx/lib/python3.11/site-packages (from gcsfs) (3.9.5)\r\n",
      "Requirement already satisfied: decorator>4.1.2 in /Users/jesusarguelles/IdeaProjects/vertex-ai-samples/vtx/lib/python3.11/site-packages (from gcsfs) (5.1.1)\r\n",
      "Requirement already satisfied: fsspec==2024.6.1 in /Users/jesusarguelles/IdeaProjects/vertex-ai-samples/vtx/lib/python3.11/site-packages (from gcsfs) (2024.6.1)\r\n",
      "Requirement already satisfied: google-auth>=1.2 in /Users/jesusarguelles/IdeaProjects/vertex-ai-samples/vtx/lib/python3.11/site-packages (from gcsfs) (2.32.0)\r\n",
      "Requirement already satisfied: google-auth-oauthlib in /Users/jesusarguelles/IdeaProjects/vertex-ai-samples/vtx/lib/python3.11/site-packages (from gcsfs) (1.2.1)\r\n",
      "Requirement already satisfied: google-cloud-storage in /Users/jesusarguelles/IdeaProjects/vertex-ai-samples/vtx/lib/python3.11/site-packages (from gcsfs) (2.17.0)\r\n",
      "Requirement already satisfied: requests in /Users/jesusarguelles/IdeaProjects/vertex-ai-samples/vtx/lib/python3.11/site-packages (from gcsfs) (2.32.3)\r\n",
      "Requirement already satisfied: aiosignal>=1.1.2 in /Users/jesusarguelles/IdeaProjects/vertex-ai-samples/vtx/lib/python3.11/site-packages (from aiohttp!=4.0.0a0,!=4.0.0a1->gcsfs) (1.3.1)\r\n",
      "Requirement already satisfied: attrs>=17.3.0 in /Users/jesusarguelles/IdeaProjects/vertex-ai-samples/vtx/lib/python3.11/site-packages (from aiohttp!=4.0.0a0,!=4.0.0a1->gcsfs) (23.2.0)\r\n",
      "Requirement already satisfied: frozenlist>=1.1.1 in /Users/jesusarguelles/IdeaProjects/vertex-ai-samples/vtx/lib/python3.11/site-packages (from aiohttp!=4.0.0a0,!=4.0.0a1->gcsfs) (1.4.1)\r\n",
      "Requirement already satisfied: multidict<7.0,>=4.5 in /Users/jesusarguelles/IdeaProjects/vertex-ai-samples/vtx/lib/python3.11/site-packages (from aiohttp!=4.0.0a0,!=4.0.0a1->gcsfs) (6.0.5)\r\n",
      "Requirement already satisfied: yarl<2.0,>=1.0 in /Users/jesusarguelles/IdeaProjects/vertex-ai-samples/vtx/lib/python3.11/site-packages (from aiohttp!=4.0.0a0,!=4.0.0a1->gcsfs) (1.9.4)\r\n",
      "Requirement already satisfied: cachetools<6.0,>=2.0.0 in /Users/jesusarguelles/IdeaProjects/vertex-ai-samples/vtx/lib/python3.11/site-packages (from google-auth>=1.2->gcsfs) (5.4.0)\r\n",
      "Requirement already satisfied: pyasn1-modules>=0.2.1 in /Users/jesusarguelles/IdeaProjects/vertex-ai-samples/vtx/lib/python3.11/site-packages (from google-auth>=1.2->gcsfs) (0.4.0)\r\n",
      "Requirement already satisfied: rsa<5,>=3.1.4 in /Users/jesusarguelles/IdeaProjects/vertex-ai-samples/vtx/lib/python3.11/site-packages (from google-auth>=1.2->gcsfs) (4.9)\r\n",
      "Requirement already satisfied: requests-oauthlib>=0.7.0 in /Users/jesusarguelles/IdeaProjects/vertex-ai-samples/vtx/lib/python3.11/site-packages (from google-auth-oauthlib->gcsfs) (2.0.0)\r\n",
      "Requirement already satisfied: google-api-core<3.0.0dev,>=2.15.0 in /Users/jesusarguelles/IdeaProjects/vertex-ai-samples/vtx/lib/python3.11/site-packages (from google-cloud-storage->gcsfs) (2.19.1)\r\n",
      "Requirement already satisfied: google-cloud-core<3.0dev,>=2.3.0 in /Users/jesusarguelles/IdeaProjects/vertex-ai-samples/vtx/lib/python3.11/site-packages (from google-cloud-storage->gcsfs) (2.4.1)\r\n",
      "Requirement already satisfied: google-resumable-media>=2.6.0 in /Users/jesusarguelles/IdeaProjects/vertex-ai-samples/vtx/lib/python3.11/site-packages (from google-cloud-storage->gcsfs) (2.7.1)\r\n",
      "Requirement already satisfied: google-crc32c<2.0dev,>=1.0 in /Users/jesusarguelles/IdeaProjects/vertex-ai-samples/vtx/lib/python3.11/site-packages (from google-cloud-storage->gcsfs) (1.5.0)\r\n",
      "Requirement already satisfied: charset-normalizer<4,>=2 in /Users/jesusarguelles/IdeaProjects/vertex-ai-samples/vtx/lib/python3.11/site-packages (from requests->gcsfs) (3.3.2)\r\n",
      "Requirement already satisfied: idna<4,>=2.5 in /Users/jesusarguelles/IdeaProjects/vertex-ai-samples/vtx/lib/python3.11/site-packages (from requests->gcsfs) (3.7)\r\n",
      "Requirement already satisfied: urllib3<3,>=1.21.1 in /Users/jesusarguelles/IdeaProjects/vertex-ai-samples/vtx/lib/python3.11/site-packages (from requests->gcsfs) (2.2.2)\r\n",
      "Requirement already satisfied: certifi>=2017.4.17 in /Users/jesusarguelles/IdeaProjects/vertex-ai-samples/vtx/lib/python3.11/site-packages (from requests->gcsfs) (2024.7.4)\r\n",
      "Requirement already satisfied: googleapis-common-protos<2.0.dev0,>=1.56.2 in /Users/jesusarguelles/IdeaProjects/vertex-ai-samples/vtx/lib/python3.11/site-packages (from google-api-core<3.0.0dev,>=2.15.0->google-cloud-storage->gcsfs) (1.63.2)\r\n",
      "Requirement already satisfied: protobuf!=3.20.0,!=3.20.1,!=4.21.0,!=4.21.1,!=4.21.2,!=4.21.3,!=4.21.4,!=4.21.5,<6.0.0.dev0,>=3.19.5 in /Users/jesusarguelles/IdeaProjects/vertex-ai-samples/vtx/lib/python3.11/site-packages (from google-api-core<3.0.0dev,>=2.15.0->google-cloud-storage->gcsfs) (4.25.3)\r\n",
      "Requirement already satisfied: proto-plus<2.0.0dev,>=1.22.3 in /Users/jesusarguelles/IdeaProjects/vertex-ai-samples/vtx/lib/python3.11/site-packages (from google-api-core<3.0.0dev,>=2.15.0->google-cloud-storage->gcsfs) (1.24.0)\r\n",
      "Requirement already satisfied: pyasn1<0.7.0,>=0.4.6 in /Users/jesusarguelles/IdeaProjects/vertex-ai-samples/vtx/lib/python3.11/site-packages (from pyasn1-modules>=0.2.1->google-auth>=1.2->gcsfs) (0.6.0)\r\n",
      "Requirement already satisfied: oauthlib>=3.0.0 in /Users/jesusarguelles/IdeaProjects/vertex-ai-samples/vtx/lib/python3.11/site-packages (from requests-oauthlib>=0.7.0->google-auth-oauthlib->gcsfs) (3.2.2)\r\n"
     ]
    }
   ],
   "source": [
    "!pip install --upgrade google-cloud-aiplatform\n",
    "!pip install --upgrade google-cloud-storage\n",
    "!pip install --upgrade gcsfs"
   ]
  },
  {
   "cell_type": "code",
   "execution_count": 19,
   "id": "S_i31YOozesA",
   "metadata": {
    "executionInfo": {
     "elapsed": 2,
     "status": "ok",
     "timestamp": 1716090013353,
     "user": {
      "displayName": "",
      "userId": ""
     },
     "user_tz": 420
    },
    "id": "S_i31YOozesA",
    "tags": []
   },
   "outputs": [],
   "source": [
    "# Variables\n",
    "PROJECT_ID = \"vtxdemos\" # @param {type:\"string\"}\n",
    "VERTEX_LOCATION = \"us-central1\" # @param {type:\"string\"}\n",
    "OUTPUT_IMAGE_PATH = \"vtxdemos-abnb-images\" # @param {type:\"string\"}\n",
    "\n",
    "BQ_DATASET_ID = 'abnb_metadata' # @param {type:\"string\"}\n",
    "\n",
    "# Replace with your table ID\n",
    "BQ_TABLE_ID = 'sytheticdb' # @param {type:\"string\"}\n",
    "\n",
    "NUMBER_OF_IMAGES_TO_GENERATE = 20 # @param {type:\"integer\"}"
   ]
  },
  {
   "cell_type": "markdown",
   "id": "wx0T3qPFIPOe",
   "metadata": {
    "id": "wx0T3qPFIPOe"
   },
   "source": [
    "# Imports"
   ]
  },
  {
   "cell_type": "code",
   "execution_count": 20,
   "id": "63A8-yVyHo7k",
   "metadata": {
    "executionInfo": {
     "elapsed": 2697,
     "status": "ok",
     "timestamp": 1716090016049,
     "user": {
      "displayName": "",
      "userId": ""
     },
     "user_tz": 420
    },
    "id": "63A8-yVyHo7k",
    "tags": []
   },
   "outputs": [],
   "source": [
    "import base64\n",
    "import vertexai\n",
    "from vertexai.generative_models import GenerativeModel, Part, FinishReason\n",
    "from vertexai.preview.vision_models import ImageGenerationModel\n",
    "import json\n",
    "import math\n",
    "import matplotlib.pyplot as plt\n",
    "import subprocess\n",
    "import time\n",
    "import random\n",
    "import uuid\n",
    "import datetime\n",
    "import base64\n",
    "import io\n",
    "from google.cloud import bigquery\n",
    "import pandas as pd\n",
    "from PIL import Image\n",
    "import vertexai.preview.generative_models as generative_models"
   ]
  },
  {
   "cell_type": "markdown",
   "id": "nY_su15_FOpZ",
   "metadata": {
    "id": "nY_su15_FOpZ"
   },
   "source": [
    "# Flow\n",
    "1. Construct prompts using random\n",
    "2. Generate interior and exterior images\n",
    "2. Store the images in cloud storage\n",
    "3. Construct BQ schema and save all images"
   ]
  },
  {
   "cell_type": "markdown",
   "id": "wZEb6rEMJe19",
   "metadata": {
    "id": "wZEb6rEMJe19"
   },
   "source": [
    "# Variables"
   ]
  },
  {
   "cell_type": "code",
   "execution_count": 21,
   "id": "ZDMVgSwktKeh",
   "metadata": {
    "executionInfo": {
     "elapsed": 2,
     "status": "ok",
     "timestamp": 1716090016261,
     "user": {
      "displayName": "",
      "userId": ""
     },
     "user_tz": 420
    },
    "id": "ZDMVgSwktKeh",
    "tags": []
   },
   "outputs": [],
   "source": [
    "generation_config = {\n",
    "    \"max_output_tokens\": 8192,\n",
    "    \"temperature\": 1,\n",
    "    \"top_p\": 0.95\n",
    "}\n",
    "\n",
    "\n",
    "# Define lists of amenities and nearby neighborhoods\n",
    "amenities_list = [\n",
    "    \"Bathtub\", \"Hair dryer\", \"Cleaning products\", \"Shampoo\", \"Conditioner\", \"Body soap\", \"Hot water\", \"Shower gel\",\n",
    "    \"Free washer - In unit\", \"Free dryer - In unit\", \"Towels\", \"Bed sheets\", \"Soap\", \"Toilet paper\", \"Hangers\", \"Bed linens\",\n",
    "    \"Extra pillows and blankets\", \"Iron\", \"Clothing storage: closet and dresser\", \"Ethernet connection\", \"50 inch HDTV with Apple TV\",\n",
    "    \"DVD player\", \"Record player\", \"Sound system with Bluetooth and aux\", \"Books and reading material\", \"Pack 'n play/Travel crib\",\n",
    "    \"books and toys\", \"Board games\", \"Portable air conditioning\", \"Indoor fireplace\", \"Heating\",\n",
    "    \"Smoke alarm\", \"Carbon monoxide alarm\", \"Fire extinguisher\", \"First aid kit\", \"Wifi\", \"Dedicated workspace (in a room with a door)\",\n",
    "    \"Space where guests can cook their own meals\", \"Refrigerator\", \"Microwave\", \"Cooking basics (pots and pans, oil, salt and pepper)\",\n",
    "    \"Dishes and silverware (bowls, chopsticks, plates, cups, etc.)\", \"Freezer\", \"Dishwasher\", \"Gas stove\", \"Oven\", \"Hot water kettle\",\n",
    "    \"Coffee maker (Keurig and pour-over)\", \"Wine glasses\", \"Toaster\", \"Baking sheet\", \"Trash compactor\", \"Barbecue utensils (grill, charcoal, bamboo skewers/iron skewers, etc.)\",\n",
    "    \"Dining table\", \"Coffee\", \"Private entrance\", \"Separate street or building entrance\", \"Private patio or balcony\",\n",
    "    \"Private backyard (not fully fenced)\", \"Open space on the property (usually covered in grass)\", \"Fire pit\", \"Outdoor furniture\",\n",
    "    \"Hammock\", \"Outdoor dining area\", \"BBQ grill\", \"Free driveway parking on premises (4 spaces)\", \"Long term stays allowed (28 days or more)\",\n",
    "    \"Self check-in (keypad)\", \"1 queen bed\", \"2 single beds\"\n",
    "]\n",
    "\n",
    "nearby_neighborhood_list = [\n",
    "    \"Walking trails\", \"Lakes\", \"Shopping places\", \"Downtown\", \"Countryside\", \"Winery\", \"Hills\"\n",
    "]\n",
    "\n",
    "\n",
    "table_exists = False  # Global flag to track table existence\n",
    "dataset_exists = False  # Global flag to track bigquery dataset existence"
   ]
  },
  {
   "cell_type": "markdown",
   "id": "P_LCS91tJiwf",
   "metadata": {
    "id": "P_LCS91tJiwf"
   },
   "source": [
    "# Util Functions"
   ]
  },
  {
   "cell_type": "code",
   "execution_count": 22,
   "id": "relrqS9Ie7BvisbuVYMStrfi",
   "metadata": {
    "executionInfo": {
     "elapsed": 3,
     "status": "ok",
     "timestamp": 1716090016262,
     "user": {
      "displayName": "",
      "userId": ""
     },
     "user_tz": 420
    },
    "id": "relrqS9Ie7BvisbuVYMStrfi",
    "tags": []
   },
   "outputs": [],
   "source": [
    "# An axuillary function to display images in grid\n",
    "def display_images_in_grid(images):\n",
    "    \"\"\"Displays the provided images in a grid format. 4 images per row.\n",
    "\n",
    "    Args:\n",
    "        images: A list of PIL Image objects representing the images to display.\n",
    "    \"\"\"\n",
    "\n",
    "    # Determine the number of rows and columns for the grid layout.\n",
    "    nrows = math.ceil(len(images) / 4)  # Display at most 4 images per row\n",
    "    ncols = min(len(images) + 1, 4)  # Adjust columns based on the number of images\n",
    "\n",
    "    # Create a figure and axes for the grid layout.\n",
    "    fig, axes = plt.subplots(nrows=nrows, ncols=ncols, figsize=(12, 6))\n",
    "\n",
    "    for i, ax in enumerate(axes.flat):\n",
    "        if i < len(images):\n",
    "            # Display the image in the current axis.\n",
    "            ax.imshow(images[i]._pil_image)\n",
    "\n",
    "            # Adjust the axis aspect ratio to maintain image proportions.\n",
    "            ax.set_aspect(\"equal\")\n",
    "\n",
    "            # Disable axis ticks for a cleaner appearance.\n",
    "            ax.set_xticks([])\n",
    "            ax.set_yticks([])\n",
    "        else:\n",
    "            # Hide empty subplots to avoid displaying blank axes.\n",
    "            ax.axis(\"off\")\n",
    "\n",
    "    # Adjust the layout to minimize whitespace between subplots.\n",
    "    plt.tight_layout()\n",
    "\n",
    "    # Display the figure with the arranged images.\n",
    "    plt.show()\n",
    "\n",
    "def parse_prompt_json(json_data):\n",
    "    \"\"\"\n",
    "    Parses a JSON string containing prompt and negative_prompt.\n",
    "    \n",
    "    Args:\n",
    "      json_data: A JSON string representing the prompt data.\n",
    "    \n",
    "    Returns:\n",
    "      A dictionary containing the prompt and negative_prompt, or None if parsing fails.\n",
    "    \"\"\"\n",
    "    try:\n",
    "        data = json.loads(json_data)\n",
    "        return {\n",
    "            \"prompt\": data[\"prompt\"],\n",
    "            \"negative_prompt\": data[\"negative_prompt\"]\n",
    "        }\n",
    "    except (json.JSONDecodeError, KeyError):\n",
    "        return None"
   ]
  },
  {
   "cell_type": "markdown",
   "id": "tvgAFnh2JsNL",
   "metadata": {
    "id": "tvgAFnh2JsNL"
   },
   "source": [
    "# Generative Functions"
   ]
  },
  {
   "cell_type": "code",
   "execution_count": 23,
   "id": "U9mCdHvuLVwY",
   "metadata": {
    "executionInfo": {
     "elapsed": 3,
     "status": "ok",
     "timestamp": 1716090016262,
     "user": {
      "displayName": "",
      "userId": ""
     },
     "user_tz": 420
    },
    "id": "U9mCdHvuLVwY",
    "tags": []
   },
   "outputs": [],
   "source": [
    "def generatecatchytitle(title):\n",
    "    text1 = f\"\"\"Write a catchy Airbnb title of 10 words or less based on title: \\',{title},\\''.\n",
    "    Remember: Output only the title, nothing else. Use plain text with no formatting (no bold, italics, lists, etc.)\"\"\"\n",
    "\n",
    "    generation_config = {\n",
    "        \"max_output_tokens\": 2048,\n",
    "        \"temperature\": 1,\n",
    "        \"top_p\": 1,\n",
    "    }\n",
    "\n",
    "    safety_settings = {\n",
    "        generative_models.HarmCategory.HARM_CATEGORY_HATE_SPEECH: generative_models.HarmBlockThreshold.BLOCK_MEDIUM_AND_ABOVE,\n",
    "        generative_models.HarmCategory.HARM_CATEGORY_DANGEROUS_CONTENT: generative_models.HarmBlockThreshold.BLOCK_MEDIUM_AND_ABOVE,\n",
    "        generative_models.HarmCategory.HARM_CATEGORY_SEXUALLY_EXPLICIT: generative_models.HarmBlockThreshold.BLOCK_MEDIUM_AND_ABOVE,\n",
    "        generative_models.HarmCategory.HARM_CATEGORY_HARASSMENT: generative_models.HarmBlockThreshold.BLOCK_MEDIUM_AND_ABOVE,\n",
    "    }\n",
    "\n",
    "    vertexai.init(project=PROJECT_ID, location=VERTEX_LOCATION)\n",
    "    model = GenerativeModel(\n",
    "      \"gemini-1.0-pro-002\",\n",
    "    )\n",
    "    responses = model.generate_content(\n",
    "        [text1],\n",
    "        generation_config=generation_config,\n",
    "        safety_settings=safety_settings,\n",
    "        stream=True,\n",
    "    )\n",
    "\n",
    "    responsetext=\"\"\n",
    "    for response in responses:\n",
    "        responsetext+=response.text\n",
    "\n",
    "    return responsetext\n",
    "\n",
    "def generateImageUsingImage2(imagenprompt, negative_prompt):\n",
    "    vertexai.init(project=PROJECT_ID, location=VERTEX_LOCATION)\n",
    "    imagen_model = ImageGenerationModel.from_pretrained(\"imagen-3.0-fast-generate-preview-0611\")\n",
    "    response = imagen_model.generate_images(\n",
    "        prompt=imagenprompt,\n",
    "        negative_prompt=negative_prompt,\n",
    "        number_of_images=5,\n",
    "        add_watermark=True,\n",
    "        aspect_ratio=\"16:9\",\n",
    "        language=\"en\",\n",
    "        guidance_scale=7.5,\n",
    "        output_gcs_uri=f\"gs://{OUTPUT_IMAGE_PATH}/airbnbimages/\",\n",
    "        #safety_filter_level=\"block_some\",\n",
    "    )\n",
    "    return response\n",
    "\n",
    "def generate_listing_data(image_prompt):\n",
    "    \"\"\"\n",
    "    Generates listing data based on the image prompt.\n",
    "\n",
    "    Args:\n",
    "        image_prompt: A dictionary containing information about the image, including property type, style, location, etc.\n",
    "\n",
    "    Returns:\n",
    "        A dictionary containing listing data.\n",
    "    \"\"\"\n",
    "\n",
    "    listing_data = {\n",
    "        \"listing_id\": str(uuid.uuid4()),\n",
    "        \"title\": generatecatchytitle(f\"{image_prompt['property_type']} in {image_prompt['location']} ({image_prompt['style']})\"),\n",
    "        \"location\": image_prompt['location'],\n",
    "        \"guests\": random.randint(2, 8),\n",
    "        \"bedrooms\": random.randint(1, 4),\n",
    "        \"beds\": random.randint(1, 6),\n",
    "        \"baths\": random.randint(1, 3),\n",
    "        \"rating\": round(random.uniform(4.5, 5), 1),\n",
    "        \"reviews\": random.randint(5, 50),\n",
    "        \"host_name\": random.choice([\"John Smith\", \"Jane Doe\", \"Emily Brown\", \"David Wilson\"]),\n",
    "        \"host_type\": random.choice([\"Superhost\", \"Experienced Host\", \"New Host\"]),\n",
    "        \"price_per_night\": random.randint(50, 500),\n",
    "        \"check_in_date\": datetime.date.today() + datetime.timedelta(days=random.randint(1, 180)),\n",
    "        \"check_out_date\": datetime.date.today() + datetime.timedelta(days=random.randint(1, 180)),\n",
    "        \"amenities\": random.sample(amenities_list, random.randint(5, 10)),\n",
    "        \"description\": f\"This {image_prompt['property_type']} offers a {image_prompt['style']} experience in {image_prompt['location']}. Enjoy {image_prompt['amenity_description']} and more.\",\n",
    "        \"is_rare_find\": random.choice([True, False]),\n",
    "        \"nearby_neighbourhood\": random.sample(nearby_neighborhood_list, random.randint(2, 3))\n",
    "    }\n",
    "\n",
    "    return listing_data"
   ]
  },
  {
   "cell_type": "markdown",
   "id": "wG9zziU4J02q",
   "metadata": {
    "id": "wG9zziU4J02q"
   },
   "source": [
    "# BQ Function"
   ]
  },
  {
   "cell_type": "code",
   "execution_count": 24,
   "id": "qISPJs_7xp8q",
   "metadata": {
    "executionInfo": {
     "elapsed": 2,
     "status": "ok",
     "timestamp": 1716090016262,
     "user": {
      "displayName": "",
      "userId": ""
     },
     "user_tz": 420
    },
    "id": "qISPJs_7xp8q",
    "tags": []
   },
   "outputs": [],
   "source": [
    "def load_listing_data_to_bigquery(client, listing_data, project_id, dataset_id, table_id):\n",
    "    \"\"\"Loads listing data (with image URLs) into a BigQuery table,\n",
    "    handling missing columns gracefully.\"\"\"\n",
    "\n",
    "    client = bigquery.Client(project=project_id)\n",
    "    table_id = f\"{project_id}.{dataset_id}.{table_id}\"\n",
    "\n",
    "    # Get table schema from BigQuery\n",
    "    table = client.get_table(table_id)\n",
    "    bq_schema = table.schema\n",
    "\n",
    "    # Convert listing_data to DataFrame before filtering\n",
    "    df = pd.DataFrame([listing_data])\n",
    "\n",
    "    df['guests'] = pd.to_numeric(df['guests'])\n",
    "\n",
    "    # Convert date columns to datetime objects\n",
    "    df['check_in_date'] = pd.to_datetime(df['check_in_date'])\n",
    "    df['check_out_date'] = pd.to_datetime(df['check_out_date'])\n",
    "\n",
    "    # Explicitly convert datetime to timestamp\n",
    "    df['check_in_date'] = pd.to_datetime(df['check_in_date']).dt.to_pydatetime()\n",
    "    df['check_out_date'] = pd.to_datetime(df['check_out_date']).dt.to_pydatetime()\n",
    "\n",
    "\n",
    "    # Filter out columns not present in the DataFrame\n",
    "    columns_to_load = [field.name for field in bq_schema if field.name in df.columns]\n",
    "    df_filtered = df[columns_to_load]\n",
    "\n",
    "    # Load the filtered DataFrame into BigQuery\n",
    "    job_config = bigquery.LoadJobConfig(schema=bq_schema)\n",
    "    job = client.load_table_from_dataframe(df_filtered, table_id, job_config=job_config)\n",
    "    job.result()\n",
    "\n",
    "    if job.errors:\n",
    "        raise Exception(f\"BigQuery load job failed: {job.errors}\")\n",
    "    else:\n",
    "        print(f\"Loaded {job.output_rows} rows to {dataset_id}.{table_id}\")\n",
    "\n",
    "\n",
    "def create_bigquery_model(client, project_id, dataset_id, table_id, listing_data):\n",
    "    \"\"\"Creates a BigQuery table model based on listing data keys.\"\"\"\n",
    "    global table_exists, dataset_exists\n",
    "\n",
    "    if not dataset_exists:\n",
    "        dataset_ref = f\"{project_id}.{dataset_id}\"\n",
    "        dataset = bigquery.Dataset(dataset_ref)\n",
    "        dataset.location = \"US\"\n",
    "        try:\n",
    "            dataset = client.create_dataset(dataset, timeout=30)  # Make an API request.\n",
    "            print(f\"Created dataset {project_id}.{dataset_id}\")\n",
    "            dataset_exists = True\n",
    "        except Exception as e:\n",
    "            if e.code == 409:  # TableAlreadyExists error\n",
    "                print(f\"Dataset {dataset_id} already exists.\")\n",
    "                dataset_exists = True  # Set flag to True\n",
    "            else:\n",
    "                print(f\"An error occurred: {e}\")\n",
    "                raise\n",
    "\n",
    "    if not table_exists:\n",
    "        # Construct the full table ID\n",
    "        table_ref = f\"{project_id}.{dataset_id}.{table_id}\"\n",
    "        \n",
    "        # Define BigQuery schema dynamically based on listing_data_keys\n",
    "        schema = []\n",
    "        for key in list(listing_data.keys()):\n",
    "            field_type = bigquery.SqlTypeNames.STRING\n",
    "            if key == 'amenities' or key == 'nearby_neighbourhood':\n",
    "                mode = 'REPEATED'\n",
    "            else:\n",
    "                mode = 'NULLABLE'\n",
    "                \n",
    "        for key, value in listing_data.items():\n",
    "            mode= 'NULLABLE'\n",
    "            if isinstance(value, str):\n",
    "                field_type = bigquery.SqlTypeNames.STRING\n",
    "            elif isinstance(value, int):\n",
    "                field_type = bigquery.SqlTypeNames.INTEGER\n",
    "            elif isinstance(value, float):\n",
    "                field_type = bigquery.SqlTypeNames.FLOAT\n",
    "            elif isinstance(value, bool):\n",
    "                field_type = bigquery.SqlTypeNames.BOOLEAN\n",
    "            elif isinstance(value, datetime.datetime):  # Handle datetime objects as TIMESTAMP\n",
    "                field_type = bigquery.SqlTypeNames.TIMESTAMP\n",
    "            elif isinstance(value, datetime.date):  # Handle date objects as DATE\n",
    "                field_type = bigquery.SqlTypeNames.DATE\n",
    "            elif isinstance(value, list):  # Handle lists as ARRAY\n",
    "                field_type = bigquery.SqlTypeNames.STRING\n",
    "                mode= 'REPEATED'\n",
    "            elif isinstance(value, dict):  # Handle dicts as STRUCT\n",
    "                field_type = bigquery.SqlTypeNames.STRING\n",
    "                mode= 'REPEATED'\n",
    "                \n",
    "            schema.append(bigquery.SchemaField(key, field_type, mode=mode))\n",
    "        \n",
    "        print(\"Setting up table.....\")\n",
    "        \n",
    "        # Create the table\n",
    "        table = bigquery.Table(table_ref, schema=schema)\n",
    "\n",
    "        try:\n",
    "            client.create_table(table) # Make an API request.\n",
    "            print(f\"Created table {table_ref}\")\n",
    "            table_exists = True\n",
    "        except Exception as e:\n",
    "            if e.code == 409:  # TableAlreadyExists error\n",
    "                print(f\"Table {table_ref} already exists.\")\n",
    "                table_exists = True  # Set flag to True\n",
    "            else:\n",
    "                print(f\"An error occurred: {e}\")\n",
    "                raise"
   ]
  },
  {
   "cell_type": "markdown",
   "id": "nDqmPoL1J5Vg",
   "metadata": {
    "id": "nDqmPoL1J5Vg"
   },
   "source": [
    "# Prompt construction"
   ]
  },
  {
   "cell_type": "code",
   "execution_count": 25,
   "id": "e1VgmK3T6QYy",
   "metadata": {
    "executionInfo": {
     "elapsed": 2,
     "status": "ok",
     "timestamp": 1716090016262,
     "user": {
      "displayName": "",
      "userId": ""
     },
     "user_tz": 420
    },
    "id": "e1VgmK3T6QYy",
    "tags": []
   },
   "outputs": [],
   "source": [
    "def generate_image_prompts(n):\n",
    "    \"\"\"Generates a list of image prompts based on various property types, styles, locations, and amenities.\n",
    "\n",
    "     Args:\n",
    "       n: The number of image prompts to generate.\n",
    "\n",
    "     Returns:\n",
    "       A list of dictionaries, each containing an image prompt.\n",
    "    \"\"\"\n",
    "\n",
    "    property_types = [\n",
    "        \"Beach House\", \"Condo\", \"Forest Retreat\", \"Cabin\", \"Treehouse\", \"Lakefront\", \"Farmhouse\"\n",
    "    ]\n",
    "\n",
    "    styles = [\n",
    "        \"Coastal\", \"Nautical\", \"Minimalist\", \"Rustic\", \"Bohemian\", \"Luxury\", \"Contemporary\", \"Industrial\", \"Loft\", \"Cozy\", \"Scandinavian\", \"Adventure\", \"Eco-friendly\", \"Art Deco\", \"Vintage\", \"Farmhouse Chic\"\n",
    "    ]\n",
    "\n",
    "    locations = [\n",
    "        \"Malibu, California\", \"Charleston, South Carolina\", \"Miami Beach, Florida\", \"Chicago, Illinois\", \"Yellowstone National Park, Wyoming\",\n",
    "        \"Asheville, North Carolina\", \"New Orleans, Louisiana\", \"Austin, Texas\", \"New York City\"\n",
    "    ]\n",
    "\n",
    "    amenity_descriptions = [\n",
    "        \"a private balcony overlooking the Pacific Ocean, direct beach access, and a fire pit for evening gatherings.\",\n",
    "        \"a screened-in porch with a hammock, a spacious kitchen perfect for entertaining, and a backyard with a fire pit.\",\n",
    "        \"a private balcony with a stunning ocean view, a resort-style pool and spa, and a state-of-the-art fitness center.\",\n",
    "        \"high ceilings with exposed brick, floor-to-ceiling windows, and a private balcony overlooking the city.\",\n",
    "        \"a wood-burning fireplace, large windows for nature views, and a private deck with a hot tub.\",\n",
    "        \"a canopy view of the surrounding forest, a hammock for relaxing, and a private outdoor shower.\",\n",
    "        \"a rooftop bar with live music, a courtyard with lush greenery, and a spa offering unique treatments.\",\n",
    "        \"a large porch with rocking chairs, a garden for growing fresh produce, and a fire pit for stargazing.\",\n",
    "        \"a stunning view of the city skyline and a rooftop terrace with a pool\",\n",
    "    ]\n",
    "\n",
    "    prompts = []\n",
    "    for _ in range(n):\n",
    "        prompt = {\n",
    "          \"property_type\": random.choice(property_types),\n",
    "          \"style\": random.choice(styles),\n",
    "          \"location\": random.choice(locations),\n",
    "          \"amenity_description\": random.choice(amenity_descriptions)\n",
    "      }\n",
    "        prompts.append(prompt)\n",
    "\n",
    "    return prompts"
   ]
  },
  {
   "cell_type": "code",
   "execution_count": 26,
   "id": "216q39Zl-oMv",
   "metadata": {
    "executionInfo": {
     "elapsed": 213,
     "status": "ok",
     "timestamp": 1716090016473,
     "user": {
      "displayName": "",
      "userId": ""
     },
     "user_tz": 420
    },
    "id": "216q39Zl-oMv",
    "tags": []
   },
   "outputs": [],
   "source": [
    "def generate_image_prompts_str(listing_data, prompt):\n",
    "    \"\"\"Generates image prompts (aerial and interior) based on listing data.\"\"\"\n",
    "\n",
    "    # Convert the nearby_neighbourhood list to a comma-separated string\n",
    "    nearby_neighbourhood_str = \", \".join(listing_data[\"nearby_neighbourhood\"])\n",
    "\n",
    "    # Construct the prompts using listing_data\n",
    "    image_prompt_aerial = (\n",
    "        f\"This is a {prompt['style']} {prompt['property_type']} located in {listing_data['location']}, \"\n",
    "        f\"close to {nearby_neighbourhood_str}. Please generate a realistic, high-quality, 4K aerial photo of this \"\n",
    "        f\"{listing_data['bedrooms']}-bedroom, {listing_data['baths']}-bathroom property, capturing its surroundings \"\n",
    "        f\"and architectural details.\"\n",
    "    )\n",
    "\n",
    "    amenities_highlights = \", \".join(listing_data[\"amenities\"][:3])  # Mention a few key amenities\n",
    "\n",
    "    image_prompt_interior = (\n",
    "        f\"This is the interior of a {prompt['style']} {prompt['property_type']} with {listing_data['bedrooms']} bedrooms and \"\n",
    "        f\"{listing_data['baths']} bathrooms. The space includes amenities like {amenities_highlights} and more. \"\n",
    "        f\"Please generate realistic, high-quality, 4K images showcasing different rooms, decor, and the mentioned amenities.\"\n",
    "    )\n",
    "\n",
    "    return image_prompt_aerial, image_prompt_interior"
   ]
  },
  {
   "cell_type": "markdown",
   "id": "LHgztflMJ8Y8",
   "metadata": {
    "id": "LHgztflMJ8Y8"
   },
   "source": [
    "# Main Function"
   ]
  },
  {
   "cell_type": "code",
   "execution_count": 17,
   "id": "7a5ebc0f",
   "metadata": {
    "collapsed": false,
    "jupyter": {
     "outputs_hidden": false
    }
   },
   "outputs": [],
   "source": [
    "vertexai.init(project=PROJECT_ID, location=\"us-central1\")\n",
    "model = GenerativeModel(\"gemini-1.5-flash-001\",)\n",
    "\n",
    "def llm(context: str):\n",
    "    prompt = f\"\"\"Your task is to create a very small/brief description for aibnb (no more than 14 words) from the following context:\n",
    "\n",
    "    {context}\"\"\"\n",
    "\n",
    "    response = model.generate_content(\n",
    "        [prompt],\n",
    "    )\n",
    "\n",
    "    try: return response.text\n",
    "\n",
    "    except:\n",
    "        return \"Cozy apartment\""
   ]
  },
  {
   "cell_type": "code",
   "execution_count": 18,
   "id": "2vsSFJlayeRH",
   "metadata": {
    "colab": {
     "base_uri": "https://localhost:8080/"
    },
    "executionInfo": {
     "elapsed": 72826,
     "status": "ok",
     "timestamp": 1716090089086,
     "user": {
      "displayName": "",
      "userId": ""
     },
     "user_tz": 420
    },
    "id": "2vsSFJlayeRH",
    "outputId": "f872a266-c99e-4bb2-9a18-f6a73a7873ac",
    "scrolled": true,
    "tags": []
   },
   "outputs": [
    {
     "name": "stdout",
     "output_type": "stream",
     "text": [
      "Property Type: Farmhouse\n",
      "Style: Nautical\n",
      "Location: Miami Beach, Florida\n",
      "Amenity Description: high ceilings with exposed brick, floor-to-ceiling windows, and a private balcony overlooking the city.\n",
      "\n"
     ]
    },
    {
     "name": "stderr",
     "output_type": "stream",
     "text": [
      "I0000 00:00:1721428588.333762  183900 check_gcp_environment_no_op.cc:29] ALTS: Platforms other than Linux and Windows are not supported\n"
     ]
    },
    {
     "name": "stdout",
     "output_type": "stream",
     "text": [
      "{'listing_id': '2289d4f7-5ed6-4c37-9c13-0e8347d1206a', 'title': 'Nautical Oasis in Miami Beach Farmhouse 🌴⚓️\\n', 'location': 'Miami Beach, Florida', 'guests': 3, 'bedrooms': 1, 'beds': 6, 'baths': 3, 'rating': 4.8, 'reviews': 12, 'host_name': 'John Smith', 'host_type': 'Superhost', 'price_per_night': 471, 'check_in_date': datetime.date(2024, 8, 20), 'check_out_date': datetime.date(2024, 8, 26), 'amenities': ['Clothing storage: closet and dresser', 'Private backyard (not fully fenced)', 'Shampoo', 'Body soap', 'Dishes and silverware (bowls, chopsticks, plates, cups, etc.)', 'Hammock', 'Record player', 'Outdoor dining area', 'Cooking basics (pots and pans, oil, salt and pepper)'], 'description': 'This Farmhouse offers a Nautical experience in Miami Beach, Florida. Enjoy high ceilings with exposed brick, floor-to-ceiling windows, and a private balcony overlooking the city. and more.', 'is_rare_find': True, 'nearby_neighbourhood': ['Winery', 'Lakes', 'Shopping places']}\n"
     ]
    },
    {
     "name": "stderr",
     "output_type": "stream",
     "text": [
      "I0000 00:00:1721428589.238524  183900 check_gcp_environment_no_op.cc:29] ALTS: Platforms other than Linux and Windows are not supported\n",
      "I0000 00:00:1721428589.612548  183900 check_gcp_environment_no_op.cc:29] ALTS: Platforms other than Linux and Windows are not supported\n",
      "I0000 00:00:1721428589.613112  183900 check_gcp_environment_no_op.cc:29] ALTS: Platforms other than Linux and Windows are not supported\n"
     ]
    },
    {
     "name": "stdout",
     "output_type": "stream",
     "text": [
      "This is the interior of a Nautical Farmhouse with 1 bedrooms and 3 bathrooms. The space includes amenities like Clothing storage: closet and dresser, Private backyard (not fully fenced), Shampoo and more. Please generate realistic, high-quality, 4K images showcasing different rooms, decor, and the mentioned amenities.\n"
     ]
    },
    {
     "name": "stderr",
     "output_type": "stream",
     "text": [
      "I0000 00:00:1721428596.465710  183900 check_gcp_environment_no_op.cc:29] ALTS: Platforms other than Linux and Windows are not supported\n",
      "I0000 00:00:1721428596.830312  183900 check_gcp_environment_no_op.cc:29] ALTS: Platforms other than Linux and Windows are not supported\n",
      "I0000 00:00:1721428596.830688  183900 check_gcp_environment_no_op.cc:29] ALTS: Platforms other than Linux and Windows are not supported\n",
      "I0000 00:00:1721428602.384785  183900 check_gcp_environment_no_op.cc:29] ALTS: Platforms other than Linux and Windows are not supported\n",
      "I0000 00:00:1721428603.189509  183900 work_stealing_thread_pool.cc:320] WorkStealingThreadPoolImpl::PrepareFork\n",
      "/var/folders/lf/c1m1ymcd7zj_rmtrnsk0ttq400k47w/T/ipykernel_18962/3669078566.py:22: FutureWarning: The behavior of DatetimeProperties.to_pydatetime is deprecated, in a future version this will return a Series containing python datetime objects instead of an ndarray. To retain the old behavior, call `np.array` on the result\n",
      "  df['check_in_date'] = pd.to_datetime(df['check_in_date']).dt.to_pydatetime()\n",
      "/var/folders/lf/c1m1ymcd7zj_rmtrnsk0ttq400k47w/T/ipykernel_18962/3669078566.py:23: FutureWarning: The behavior of DatetimeProperties.to_pydatetime is deprecated, in a future version this will return a Series containing python datetime objects instead of an ndarray. To retain the old behavior, call `np.array` on the result\n",
      "  df['check_out_date'] = pd.to_datetime(df['check_out_date']).dt.to_pydatetime()\n"
     ]
    },
    {
     "name": "stdout",
     "output_type": "stream",
     "text": [
      "Loaded 1 rows to abnb_metadata.vtxdemos.abnb_metadata.sytheticdb\n"
     ]
    }
   ],
   "source": [
    "image_prompts = generate_image_prompts(NUMBER_OF_IMAGES_TO_GENERATE)\n",
    "client = bigquery.Client()\n",
    "\n",
    "for prompt in image_prompts:\n",
    "    print(f\"Property Type: {prompt['property_type']}\")\n",
    "    print(f\"Style: {prompt['style']}\")\n",
    "    print(f\"Location: {prompt['location']}\")\n",
    "    print(f\"Amenity Description: {prompt['amenity_description']}\\n\")\n",
    "    listing_data = generate_listing_data(prompt)  # Assuming this generates your initial data\n",
    "    print(listing_data)\n",
    "\n",
    "    image_prompt_aerial, image_prompt_interior = generate_image_prompts_str(listing_data, prompt)\n",
    "\n",
    "    try:\n",
    "        imageresponse = generateImageUsingImage2(image_prompt_aerial, \"cartoon, painting, bad image\")\n",
    "        if imageresponse is not None and imageresponse.images:\n",
    "            i = 0\n",
    "            for image in imageresponse.images:\n",
    "                image_url_key = f\"Img_exterior_url_{i}\"\n",
    "                listing_data[image_url_key] = str(image._gcs_uri)\n",
    "                i += 1\n",
    "\n",
    "    except Exception as e:\n",
    "        print(f\"Error generating or processing exterior images: {e}\")\n",
    "        print(\"Error: No exterior images were generated. Continuing to next...\")\n",
    "\n",
    "\n",
    "    # Interior Image Generation (similar logic)\n",
    "    print(image_prompt_interior)\n",
    "    try:\n",
    "        imageresponse = generateImageUsingImage2(image_prompt_interior, \"cartoon, painting, bad image\")\n",
    "        if imageresponse is not None and imageresponse.images:\n",
    "            #display_images_in_grid(imageresponse.images) #TODO: uncomment to see images\n",
    "            i = 0\n",
    "            for image in imageresponse.images:\n",
    "                image_url_key = f\"Img_interior_url_{i}\"\n",
    "                listing_data[image_url_key] = str(image._gcs_uri)\n",
    "                i += 1\n",
    "\n",
    "    except Exception as e:\n",
    "        print(f\"Error generating or processing interior images: {e}\")\n",
    "        print(\"Error: No images were generated. Continuing to next...\")\n",
    "\n",
    "\n",
    "    listing_data[\"b_desc\"] = llm(f\"Context: str({listing_data})\")\n",
    "\n",
    "    # Creates table only once if it doesn't exist.\n",
    "    create_bigquery_model(client, PROJECT_ID, BQ_DATASET_ID, BQ_TABLE_ID, listing_data)\n",
    "    try:\n",
    "        load_listing_data_to_bigquery(client, listing_data, PROJECT_ID, BQ_DATASET_ID, BQ_TABLE_ID)\n",
    "    except Exception as e:\n",
    "        print(f\"Error loading data to BQ. Possible reason is image satefy filters- {e}\")"
   ]
  },
  {
   "cell_type": "code",
   "execution_count": 44,
   "outputs": [
    {
     "data": {
      "text/plain": "dict_keys(['listing_id', 'title', 'location', 'guests', 'bedrooms', 'beds', 'baths', 'rating', 'reviews', 'host_name', 'host_type', 'price_per_night', 'check_in_date', 'check_out_date', 'amenities', 'description', 'is_rare_find', 'nearby_neighbourhood', 'Img_exterior_url_0', 'Img_exterior_url_1', 'Img_exterior_url_2', 'Img_exterior_url_3', 'Img_exterior_url_4', 'Img_interior_url_0', 'Img_interior_url_1', 'Img_interior_url_2', 'Img_interior_url_3', 'Img_interior_url_4', 'b_desc'])"
     },
     "execution_count": 44,
     "metadata": {},
     "output_type": "execute_result"
    }
   ],
   "source": [
    "listing_data.keys()"
   ],
   "metadata": {
    "collapsed": false
   }
  },
  {
   "cell_type": "markdown",
   "id": "7d1e20bb-5925-4c9b-a422-21db5e1b32bb",
   "metadata": {},
   "source": [
    "## Multimodal Embeddings (img_text_indexes)\n",
    "\n",
    "---\n",
    "* Using text or image as input/output for similarities\n",
    "* Using vertexai.vision_models"
   ]
  },
  {
   "cell_type": "code",
   "execution_count": 23,
   "id": "f82d75e6-c95a-402b-8bbf-3acdde40ec44",
   "metadata": {
    "tags": []
   },
   "outputs": [],
   "source": [
    "import base64\n",
    "import requests\n",
    "import vertexai\n",
    "from io import BytesIO\n",
    "import numpy as np\n",
    "import pandas as pd\n",
    "from PIL import Image as Img\n",
    "from google.cloud import storage, aiplatform\n",
    "import vertexai.generative_models as generative_models\n",
    "from vertexai.vision_models import MultiModalEmbeddingModel, Image\n",
    "from vertexai.generative_models import GenerativeModel, Part, FinishReason"
   ]
  },
  {
   "cell_type": "markdown",
   "id": "87ed77e7-e790-4481-9e8b-4ad5f601b39b",
   "metadata": {},
   "source": [
    "## Init"
   ]
  },
  {
   "cell_type": "code",
   "execution_count": 24,
   "id": "400a48c6-f63c-4e1e-85d1-529ffb67719f",
   "metadata": {
    "tags": []
   },
   "outputs": [],
   "source": [
    "storage_client = storage.Client()\n",
    "bq_client = bigquery.Client()\n",
    "mm = MultiModalEmbeddingModel.from_pretrained(\"multimodalembedding\")"
   ]
  },
  {
   "cell_type": "markdown",
   "id": "b1083b59-c5d4-4975-802b-abbd60055ff1",
   "metadata": {},
   "source": [
    "## Creating Embeddings\n",
    "---"
   ]
  },
  {
   "cell_type": "code",
   "execution_count": 25,
   "id": "ede3e655-8d59-4c7a-b013-79ab38ff0bd5",
   "metadata": {
    "tags": []
   },
   "outputs": [],
   "source": [
    "sql = f\"\"\"\n",
    "SELECT * FROM {PROJECT_ID}.{BQ_DATASET_ID}.{BQ_TABLE_ID}\n",
    "\"\"\"\n",
    "df = bq_client.query_and_wait(sql).to_dataframe()"
   ]
  },
  {
   "cell_type": "code",
   "execution_count": 26,
   "id": "3010f10f-b331-4db3-8c40-afe626143cad",
   "metadata": {
    "tags": []
   },
   "outputs": [
    {
     "data": {
      "text/html": [
       "<div>\n",
       "<style scoped>\n",
       "    .dataframe tbody tr th:only-of-type {\n",
       "        vertical-align: middle;\n",
       "    }\n",
       "\n",
       "    .dataframe tbody tr th {\n",
       "        vertical-align: top;\n",
       "    }\n",
       "\n",
       "    .dataframe thead th {\n",
       "        text-align: right;\n",
       "    }\n",
       "</style>\n",
       "<table border=\"1\" class=\"dataframe\">\n",
       "  <thead>\n",
       "    <tr style=\"text-align: right;\">\n",
       "      <th></th>\n",
       "      <th>listing_id</th>\n",
       "      <th>title</th>\n",
       "      <th>location</th>\n",
       "      <th>guests</th>\n",
       "      <th>bedrooms</th>\n",
       "      <th>beds</th>\n",
       "      <th>baths</th>\n",
       "      <th>rating</th>\n",
       "      <th>reviews</th>\n",
       "      <th>host_name</th>\n",
       "      <th>...</th>\n",
       "      <th>Img_exterior_url_0</th>\n",
       "      <th>Img_exterior_url_1</th>\n",
       "      <th>Img_exterior_url_2</th>\n",
       "      <th>Img_exterior_url_3</th>\n",
       "      <th>Img_exterior_url_4</th>\n",
       "      <th>Img_interior_url_0</th>\n",
       "      <th>Img_interior_url_1</th>\n",
       "      <th>Img_interior_url_2</th>\n",
       "      <th>Img_interior_url_3</th>\n",
       "      <th>Img_interior_url_4</th>\n",
       "    </tr>\n",
       "  </thead>\n",
       "  <tbody>\n",
       "    <tr>\n",
       "      <th>0</th>\n",
       "      <td>87f54048-8272-49a8-a37d-742cc8eadf78</td>\n",
       "      <td>✅ **Bohemian Treetop Hideaway in Chicago** \\n</td>\n",
       "      <td>Chicago, Illinois</td>\n",
       "      <td>3</td>\n",
       "      <td>3</td>\n",
       "      <td>3</td>\n",
       "      <td>2</td>\n",
       "      <td>4.6</td>\n",
       "      <td>27</td>\n",
       "      <td>David Wilson</td>\n",
       "      <td>...</td>\n",
       "      <td>gs://vtxdemos-abnb-images/airbnbimages/1720530...</td>\n",
       "      <td>gs://vtxdemos-abnb-images/airbnbimages/1720530...</td>\n",
       "      <td>gs://vtxdemos-abnb-images/airbnbimages/1720530...</td>\n",
       "      <td>gs://vtxdemos-abnb-images/airbnbimages/1720530...</td>\n",
       "      <td>gs://vtxdemos-abnb-images/airbnbimages/1720530...</td>\n",
       "      <td>gs://vtxdemos-abnb-images/airbnbimages/1720530...</td>\n",
       "      <td>gs://vtxdemos-abnb-images/airbnbimages/1720530...</td>\n",
       "      <td>gs://vtxdemos-abnb-images/airbnbimages/1720530...</td>\n",
       "      <td>gs://vtxdemos-abnb-images/airbnbimages/1720530...</td>\n",
       "      <td>gs://vtxdemos-abnb-images/airbnbimages/1720530...</td>\n",
       "    </tr>\n",
       "    <tr>\n",
       "      <th>1</th>\n",
       "      <td>29bb9fc2-5538-4490-a25b-2357e27428a3</td>\n",
       "      <td>Vintage Beach House in Charleston, SC\\n</td>\n",
       "      <td>Charleston, South Carolina</td>\n",
       "      <td>4</td>\n",
       "      <td>4</td>\n",
       "      <td>3</td>\n",
       "      <td>1</td>\n",
       "      <td>4.7</td>\n",
       "      <td>42</td>\n",
       "      <td>David Wilson</td>\n",
       "      <td>...</td>\n",
       "      <td>gs://vtxdemos-abnb-images/airbnbimages/1720530...</td>\n",
       "      <td>gs://vtxdemos-abnb-images/airbnbimages/1720530...</td>\n",
       "      <td>gs://vtxdemos-abnb-images/airbnbimages/1720530...</td>\n",
       "      <td>gs://vtxdemos-abnb-images/airbnbimages/1720530...</td>\n",
       "      <td>gs://vtxdemos-abnb-images/airbnbimages/1720530...</td>\n",
       "      <td>gs://vtxdemos-abnb-images/airbnbimages/1720530...</td>\n",
       "      <td>gs://vtxdemos-abnb-images/airbnbimages/1720530...</td>\n",
       "      <td>gs://vtxdemos-abnb-images/airbnbimages/1720530...</td>\n",
       "      <td>gs://vtxdemos-abnb-images/airbnbimages/1720530...</td>\n",
       "      <td>gs://vtxdemos-abnb-images/airbnbimages/1720530...</td>\n",
       "    </tr>\n",
       "    <tr>\n",
       "      <th>2</th>\n",
       "      <td>d36dae74-95f5-48a6-b11b-741511b5074b</td>\n",
       "      <td>New Orleans Bohemian Cabin Retreat 🌴</td>\n",
       "      <td>New Orleans, Louisiana</td>\n",
       "      <td>6</td>\n",
       "      <td>3</td>\n",
       "      <td>3</td>\n",
       "      <td>1</td>\n",
       "      <td>4.5</td>\n",
       "      <td>33</td>\n",
       "      <td>David Wilson</td>\n",
       "      <td>...</td>\n",
       "      <td>gs://vtxdemos-abnb-images/airbnbimages/1720530...</td>\n",
       "      <td>gs://vtxdemos-abnb-images/airbnbimages/1720530...</td>\n",
       "      <td>gs://vtxdemos-abnb-images/airbnbimages/1720530...</td>\n",
       "      <td>gs://vtxdemos-abnb-images/airbnbimages/1720530...</td>\n",
       "      <td>gs://vtxdemos-abnb-images/airbnbimages/1720530...</td>\n",
       "      <td>gs://vtxdemos-abnb-images/airbnbimages/1720530...</td>\n",
       "      <td>gs://vtxdemos-abnb-images/airbnbimages/1720530...</td>\n",
       "      <td>gs://vtxdemos-abnb-images/airbnbimages/1720530...</td>\n",
       "      <td>gs://vtxdemos-abnb-images/airbnbimages/1720530...</td>\n",
       "      <td>gs://vtxdemos-abnb-images/airbnbimages/1720530...</td>\n",
       "    </tr>\n",
       "    <tr>\n",
       "      <th>3</th>\n",
       "      <td>ba2c5e26-6350-4185-92e9-f70fa217893d</td>\n",
       "      <td>Art Deco Farmhouse Retreat - Asheville NC\\n</td>\n",
       "      <td>Asheville, North Carolina</td>\n",
       "      <td>8</td>\n",
       "      <td>3</td>\n",
       "      <td>5</td>\n",
       "      <td>2</td>\n",
       "      <td>4.5</td>\n",
       "      <td>34</td>\n",
       "      <td>Jane Doe</td>\n",
       "      <td>...</td>\n",
       "      <td>gs://vtxdemos-abnb-images/airbnbimages/1720530...</td>\n",
       "      <td>gs://vtxdemos-abnb-images/airbnbimages/1720530...</td>\n",
       "      <td>gs://vtxdemos-abnb-images/airbnbimages/1720530...</td>\n",
       "      <td>gs://vtxdemos-abnb-images/airbnbimages/1720530...</td>\n",
       "      <td>gs://vtxdemos-abnb-images/airbnbimages/1720530...</td>\n",
       "      <td>gs://vtxdemos-abnb-images/airbnbimages/1720530...</td>\n",
       "      <td>gs://vtxdemos-abnb-images/airbnbimages/1720530...</td>\n",
       "      <td>gs://vtxdemos-abnb-images/airbnbimages/1720530...</td>\n",
       "      <td>gs://vtxdemos-abnb-images/airbnbimages/1720530...</td>\n",
       "      <td>gs://vtxdemos-abnb-images/airbnbimages/1720530...</td>\n",
       "    </tr>\n",
       "    <tr>\n",
       "      <th>4</th>\n",
       "      <td>def1fdbf-5760-4cbe-984a-b93e1ecf8db1</td>\n",
       "      <td>Asheville Lakefront Oasis with Modern Style</td>\n",
       "      <td>Asheville, North Carolina</td>\n",
       "      <td>5</td>\n",
       "      <td>3</td>\n",
       "      <td>1</td>\n",
       "      <td>1</td>\n",
       "      <td>4.6</td>\n",
       "      <td>42</td>\n",
       "      <td>Jane Doe</td>\n",
       "      <td>...</td>\n",
       "      <td>gs://vtxdemos-abnb-images/airbnbimages/1720529...</td>\n",
       "      <td>gs://vtxdemos-abnb-images/airbnbimages/1720529...</td>\n",
       "      <td>gs://vtxdemos-abnb-images/airbnbimages/1720529...</td>\n",
       "      <td>gs://vtxdemos-abnb-images/airbnbimages/1720529...</td>\n",
       "      <td>gs://vtxdemos-abnb-images/airbnbimages/1720529...</td>\n",
       "      <td>gs://vtxdemos-abnb-images/airbnbimages/1720529...</td>\n",
       "      <td>gs://vtxdemos-abnb-images/airbnbimages/1720529...</td>\n",
       "      <td>gs://vtxdemos-abnb-images/airbnbimages/1720529...</td>\n",
       "      <td>gs://vtxdemos-abnb-images/airbnbimages/1720529...</td>\n",
       "      <td>gs://vtxdemos-abnb-images/airbnbimages/1720529...</td>\n",
       "    </tr>\n",
       "  </tbody>\n",
       "</table>\n",
       "<p>5 rows × 28 columns</p>\n",
       "</div>"
      ],
      "text/plain": [
       "                             listing_id  \\\n",
       "0  87f54048-8272-49a8-a37d-742cc8eadf78   \n",
       "1  29bb9fc2-5538-4490-a25b-2357e27428a3   \n",
       "2  d36dae74-95f5-48a6-b11b-741511b5074b   \n",
       "3  ba2c5e26-6350-4185-92e9-f70fa217893d   \n",
       "4  def1fdbf-5760-4cbe-984a-b93e1ecf8db1   \n",
       "\n",
       "                                           title                    location  \\\n",
       "0  ✅ **Bohemian Treetop Hideaway in Chicago** \\n           Chicago, Illinois   \n",
       "1        Vintage Beach House in Charleston, SC\\n  Charleston, South Carolina   \n",
       "2           New Orleans Bohemian Cabin Retreat 🌴      New Orleans, Louisiana   \n",
       "3    Art Deco Farmhouse Retreat - Asheville NC\\n   Asheville, North Carolina   \n",
       "4    Asheville Lakefront Oasis with Modern Style   Asheville, North Carolina   \n",
       "\n",
       "   guests  bedrooms  beds  baths  rating  reviews     host_name  ...  \\\n",
       "0       3         3     3      2     4.6       27  David Wilson  ...   \n",
       "1       4         4     3      1     4.7       42  David Wilson  ...   \n",
       "2       6         3     3      1     4.5       33  David Wilson  ...   \n",
       "3       8         3     5      2     4.5       34      Jane Doe  ...   \n",
       "4       5         3     1      1     4.6       42      Jane Doe  ...   \n",
       "\n",
       "                                  Img_exterior_url_0  \\\n",
       "0  gs://vtxdemos-abnb-images/airbnbimages/1720530...   \n",
       "1  gs://vtxdemos-abnb-images/airbnbimages/1720530...   \n",
       "2  gs://vtxdemos-abnb-images/airbnbimages/1720530...   \n",
       "3  gs://vtxdemos-abnb-images/airbnbimages/1720530...   \n",
       "4  gs://vtxdemos-abnb-images/airbnbimages/1720529...   \n",
       "\n",
       "                                  Img_exterior_url_1  \\\n",
       "0  gs://vtxdemos-abnb-images/airbnbimages/1720530...   \n",
       "1  gs://vtxdemos-abnb-images/airbnbimages/1720530...   \n",
       "2  gs://vtxdemos-abnb-images/airbnbimages/1720530...   \n",
       "3  gs://vtxdemos-abnb-images/airbnbimages/1720530...   \n",
       "4  gs://vtxdemos-abnb-images/airbnbimages/1720529...   \n",
       "\n",
       "                                  Img_exterior_url_2  \\\n",
       "0  gs://vtxdemos-abnb-images/airbnbimages/1720530...   \n",
       "1  gs://vtxdemos-abnb-images/airbnbimages/1720530...   \n",
       "2  gs://vtxdemos-abnb-images/airbnbimages/1720530...   \n",
       "3  gs://vtxdemos-abnb-images/airbnbimages/1720530...   \n",
       "4  gs://vtxdemos-abnb-images/airbnbimages/1720529...   \n",
       "\n",
       "                                  Img_exterior_url_3  \\\n",
       "0  gs://vtxdemos-abnb-images/airbnbimages/1720530...   \n",
       "1  gs://vtxdemos-abnb-images/airbnbimages/1720530...   \n",
       "2  gs://vtxdemos-abnb-images/airbnbimages/1720530...   \n",
       "3  gs://vtxdemos-abnb-images/airbnbimages/1720530...   \n",
       "4  gs://vtxdemos-abnb-images/airbnbimages/1720529...   \n",
       "\n",
       "                                  Img_exterior_url_4  \\\n",
       "0  gs://vtxdemos-abnb-images/airbnbimages/1720530...   \n",
       "1  gs://vtxdemos-abnb-images/airbnbimages/1720530...   \n",
       "2  gs://vtxdemos-abnb-images/airbnbimages/1720530...   \n",
       "3  gs://vtxdemos-abnb-images/airbnbimages/1720530...   \n",
       "4  gs://vtxdemos-abnb-images/airbnbimages/1720529...   \n",
       "\n",
       "                                  Img_interior_url_0  \\\n",
       "0  gs://vtxdemos-abnb-images/airbnbimages/1720530...   \n",
       "1  gs://vtxdemos-abnb-images/airbnbimages/1720530...   \n",
       "2  gs://vtxdemos-abnb-images/airbnbimages/1720530...   \n",
       "3  gs://vtxdemos-abnb-images/airbnbimages/1720530...   \n",
       "4  gs://vtxdemos-abnb-images/airbnbimages/1720529...   \n",
       "\n",
       "                                  Img_interior_url_1  \\\n",
       "0  gs://vtxdemos-abnb-images/airbnbimages/1720530...   \n",
       "1  gs://vtxdemos-abnb-images/airbnbimages/1720530...   \n",
       "2  gs://vtxdemos-abnb-images/airbnbimages/1720530...   \n",
       "3  gs://vtxdemos-abnb-images/airbnbimages/1720530...   \n",
       "4  gs://vtxdemos-abnb-images/airbnbimages/1720529...   \n",
       "\n",
       "                                  Img_interior_url_2  \\\n",
       "0  gs://vtxdemos-abnb-images/airbnbimages/1720530...   \n",
       "1  gs://vtxdemos-abnb-images/airbnbimages/1720530...   \n",
       "2  gs://vtxdemos-abnb-images/airbnbimages/1720530...   \n",
       "3  gs://vtxdemos-abnb-images/airbnbimages/1720530...   \n",
       "4  gs://vtxdemos-abnb-images/airbnbimages/1720529...   \n",
       "\n",
       "                                  Img_interior_url_3  \\\n",
       "0  gs://vtxdemos-abnb-images/airbnbimages/1720530...   \n",
       "1  gs://vtxdemos-abnb-images/airbnbimages/1720530...   \n",
       "2  gs://vtxdemos-abnb-images/airbnbimages/1720530...   \n",
       "3  gs://vtxdemos-abnb-images/airbnbimages/1720530...   \n",
       "4  gs://vtxdemos-abnb-images/airbnbimages/1720529...   \n",
       "\n",
       "                                  Img_interior_url_4  \n",
       "0  gs://vtxdemos-abnb-images/airbnbimages/1720530...  \n",
       "1  gs://vtxdemos-abnb-images/airbnbimages/1720530...  \n",
       "2  gs://vtxdemos-abnb-images/airbnbimages/1720530...  \n",
       "3  gs://vtxdemos-abnb-images/airbnbimages/1720530...  \n",
       "4  gs://vtxdemos-abnb-images/airbnbimages/1720529...  \n",
       "\n",
       "[5 rows x 28 columns]"
      ]
     },
     "execution_count": 26,
     "metadata": {},
     "output_type": "execute_result"
    }
   ],
   "source": [
    "df.head()"
   ]
  },
  {
   "cell_type": "code",
   "execution_count": 28,
   "id": "00636757-922e-4648-9a8c-070f3ab7ec0e",
   "metadata": {
    "tags": []
   },
   "outputs": [],
   "source": [
    "df[\"id\"] = df.index"
   ]
  },
  {
   "cell_type": "code",
   "execution_count": null,
   "id": "f8771309",
   "metadata": {
    "collapsed": false,
    "jupyter": {
     "outputs_hidden": false
    }
   },
   "outputs": [],
   "source": [
    "# Store the Entire DataFrame into GCS\n",
    "## The dataframe will be used later in the middleware\n",
    "df.to_csv(f\"gs://{OUTPUT_IMAGE_PATH}/dataset/data.csv\" , index=False)"
   ]
  },
  {
   "cell_type": "code",
   "execution_count": 29,
   "id": "1c1aed25-cb81-45cd-b95f-08919d3d6162",
   "metadata": {
    "scrolled": true,
    "tags": []
   },
   "outputs": [
    {
     "name": "stdout",
     "output_type": "stream",
     "text": [
      "Processing gs://vtxdemos-abnb-images/airbnbimages/1720530257628/sample_0.png\n",
      "Processing gs://vtxdemos-abnb-images/airbnbimages/1720530257628/sample_1.png\n",
      "Processing gs://vtxdemos-abnb-images/airbnbimages/1720530257628/sample_2.png\n",
      "Processing gs://vtxdemos-abnb-images/airbnbimages/1720530257628/sample_3.png\n",
      "Processing gs://vtxdemos-abnb-images/airbnbimages/1720530257628/sample_4.png\n",
      "Processing gs://vtxdemos-abnb-images/airbnbimages/1720530252640/sample_0.png\n",
      "Processing gs://vtxdemos-abnb-images/airbnbimages/1720530252640/sample_1.png\n",
      "Processing gs://vtxdemos-abnb-images/airbnbimages/1720530252640/sample_2.png\n",
      "Processing gs://vtxdemos-abnb-images/airbnbimages/1720530252640/sample_3.png\n",
      "Processing gs://vtxdemos-abnb-images/airbnbimages/1720530252640/sample_4.png\n",
      "Processing gs://vtxdemos-abnb-images/airbnbimages/1720530215026/sample_0.png\n",
      "Processing gs://vtxdemos-abnb-images/airbnbimages/1720530215026/sample_1.png\n",
      "Processing gs://vtxdemos-abnb-images/airbnbimages/1720530215026/sample_2.png\n",
      "Processing gs://vtxdemos-abnb-images/airbnbimages/1720530215026/sample_3.png\n",
      "Processing gs://vtxdemos-abnb-images/airbnbimages/1720530215026/sample_4.png\n",
      "Processing gs://vtxdemos-abnb-images/airbnbimages/1720530209975/sample_0.png\n",
      "Processing gs://vtxdemos-abnb-images/airbnbimages/1720530209975/sample_1.png\n",
      "Processing gs://vtxdemos-abnb-images/airbnbimages/1720530209975/sample_2.png\n",
      "Processing gs://vtxdemos-abnb-images/airbnbimages/1720530209975/sample_3.png\n",
      "Processing gs://vtxdemos-abnb-images/airbnbimages/1720530209975/sample_4.png\n",
      "Processing gs://vtxdemos-abnb-images/airbnbimages/1720530270909/sample_0.png\n",
      "Processing gs://vtxdemos-abnb-images/airbnbimages/1720530270909/sample_1.png\n",
      "Processing gs://vtxdemos-abnb-images/airbnbimages/1720530270909/sample_2.png\n",
      "Processing gs://vtxdemos-abnb-images/airbnbimages/1720530270909/sample_3.png\n",
      "Processing gs://vtxdemos-abnb-images/airbnbimages/1720530270909/sample_4.png\n",
      "Processing gs://vtxdemos-abnb-images/airbnbimages/1720530266737/sample_0.png\n",
      "Processing gs://vtxdemos-abnb-images/airbnbimages/1720530266737/sample_1.png\n",
      "Processing gs://vtxdemos-abnb-images/airbnbimages/1720530266737/sample_2.png\n",
      "Processing gs://vtxdemos-abnb-images/airbnbimages/1720530266737/sample_3.png\n",
      "Processing gs://vtxdemos-abnb-images/airbnbimages/1720530266737/sample_4.png\n",
      "Processing gs://vtxdemos-abnb-images/airbnbimages/1720530243643/sample_0.png\n",
      "Processing gs://vtxdemos-abnb-images/airbnbimages/1720530243643/sample_1.png\n",
      "Processing gs://vtxdemos-abnb-images/airbnbimages/1720530243643/sample_2.png\n",
      "Processing gs://vtxdemos-abnb-images/airbnbimages/1720530243643/sample_3.png\n",
      "Processing gs://vtxdemos-abnb-images/airbnbimages/1720530243643/sample_4.png\n",
      "Processing gs://vtxdemos-abnb-images/airbnbimages/1720530238555/sample_0.png\n",
      "Processing gs://vtxdemos-abnb-images/airbnbimages/1720530238555/sample_1.png\n",
      "Processing gs://vtxdemos-abnb-images/airbnbimages/1720530238555/sample_2.png\n",
      "Processing gs://vtxdemos-abnb-images/airbnbimages/1720530238555/sample_3.png\n",
      "Processing gs://vtxdemos-abnb-images/airbnbimages/1720530238555/sample_4.png\n",
      "Processing gs://vtxdemos-abnb-images/airbnbimages/1720529874213/sample_0.png\n",
      "Processing gs://vtxdemos-abnb-images/airbnbimages/1720529874213/sample_1.png\n",
      "Processing gs://vtxdemos-abnb-images/airbnbimages/1720529874213/sample_2.png\n",
      "Processing gs://vtxdemos-abnb-images/airbnbimages/1720529874213/sample_3.png\n",
      "Processing gs://vtxdemos-abnb-images/airbnbimages/1720529874213/sample_4.png\n",
      "Processing gs://vtxdemos-abnb-images/airbnbimages/1720529869271/sample_0.png\n",
      "Processing gs://vtxdemos-abnb-images/airbnbimages/1720529869271/sample_1.png\n",
      "Processing gs://vtxdemos-abnb-images/airbnbimages/1720529869271/sample_2.png\n",
      "Processing gs://vtxdemos-abnb-images/airbnbimages/1720529869271/sample_3.png\n",
      "Processing gs://vtxdemos-abnb-images/airbnbimages/1720529869271/sample_4.png\n",
      "Processing gs://vtxdemos-abnb-images/airbnbimages/1720530228783/sample_0.png\n",
      "Processing gs://vtxdemos-abnb-images/airbnbimages/1720530228783/sample_1.png\n",
      "Processing gs://vtxdemos-abnb-images/airbnbimages/1720530228783/sample_2.png\n",
      "Processing gs://vtxdemos-abnb-images/airbnbimages/1720530228783/sample_3.png\n",
      "Processing gs://vtxdemos-abnb-images/airbnbimages/1720530228783/sample_4.png\n",
      "Processing gs://vtxdemos-abnb-images/airbnbimages/1720530223135/sample_0.png\n",
      "Processing gs://vtxdemos-abnb-images/airbnbimages/1720530223135/sample_1.png\n",
      "Processing gs://vtxdemos-abnb-images/airbnbimages/1720530223135/sample_2.png\n",
      "Processing gs://vtxdemos-abnb-images/airbnbimages/1720530223135/sample_3.png\n",
      "Processing gs://vtxdemos-abnb-images/airbnbimages/1720530223135/sample_4.png\n"
     ]
    }
   ],
   "source": [
    "id_list = []\n",
    "embeddings = []\n",
    "\n",
    "for index, row in df.iterrows():\n",
    "    for im in [\"Img_interior_url_\", \"Img_exterior_url_\"]:\n",
    "        for i in range(5):\n",
    "            _img = row[f\"{im}{i}\"].replace(\"https://storage.googleapis.com/\", \"gs://\")\n",
    "            print(f\"Processing {_img}\")\n",
    "            e = mm.get_embeddings(\n",
    "                image=Image(\n",
    "                    gcs_uri=_img\n",
    "                ),\n",
    "            ).image_embedding\n",
    "            embeddings.append(e)\n",
    "            id_list.append(row[\"id\"])\n",
    "emb_df = pd.DataFrame({\"id\": id_list, \"embedding\": embeddings}) "
   ]
  },
  {
   "cell_type": "markdown",
   "id": "f3845aab-16bf-411a-b108-17bffb1162b9",
   "metadata": {},
   "source": [
    "## Vector Search (Managed Service)"
   ]
  },
  {
   "cell_type": "code",
   "execution_count": 52,
   "id": "c978f796-400b-4d16-a2ef-dd41e1c0612e",
   "metadata": {
    "tags": []
   },
   "outputs": [],
   "source": [
    "def preprocess(df, f_name):\n",
    "    df.to_pickle(\"text_data.pkl\")\n",
    "    data = df.to_json(orient='records', lines=True)\n",
    "    \n",
    "    with open('text_data.json', 'w') as f:\n",
    "        f.write(data)\n",
    "        \n",
    "    storage_client.bucket(OUTPUT_IMAGE_PATH).blob(f_name).upload_from_filename(\"text_data.json\")\n",
    "    return data"
   ]
  },
  {
   "cell_type": "code",
   "execution_count": 53,
   "id": "6dc64827-aecd-4913-97bc-a71ea8ddd87d",
   "metadata": {
    "tags": []
   },
   "outputs": [],
   "source": [
    "data_1 = preprocess(emb_df, \"abnb_text/text_data.json\") "
   ]
  },
  {
   "cell_type": "code",
   "execution_count": null,
   "id": "d50cbab3-baa9-43e0-abb9-6c8621cc6e93",
   "metadata": {
    "tags": []
   },
   "outputs": [],
   "source": [
    "abnb_index = aiplatform.MatchingEngineIndex.create_tree_ah_index(\n",
    "    display_name = f\"vs-abnb-index-text-1\",\n",
    "    contents_delta_uri = f\"gs://{OUTPUT_IMAGE_PATH}/abnb_text\",\n",
    "    dimensions = len(emb_df[\"embedding\"].iloc[0]),\n",
    "    approximate_neighbors_count = 15,\n",
    ")"
   ]
  },
  {
   "cell_type": "code",
   "execution_count": null,
   "id": "91a8c3ed-b768-4138-aba6-f83c54de06f8",
   "metadata": {},
   "outputs": [],
   "source": [
    " abnb_index_endpoint = aiplatform.MatchingEngineIndexEndpoint.create(\n",
    "    display_name = f\"vs-abnb-index-endpoint-text-1\",\n",
    "    public_endpoint_enabled = True\n",
    ")"
   ]
  },
  {
   "cell_type": "code",
   "execution_count": null,
   "id": "a07ae405-c2b9-4b96-98b5-ca1449f6a286",
   "metadata": {},
   "outputs": [],
   "source": [
    " abnb_index_endpoint.deploy_index(\n",
    "    index = abnb_index, deployed_index_id = \"vs_abnb_deployed_text_1\"\n",
    ")"
   ]
  },
  {
   "cell_type": "markdown",
   "id": "da7ef94d-5030-44e2-9cec-070304bee300",
   "metadata": {},
   "source": [
    "## Multimodal Embeddings (combined_indexes)\n",
    "\n",
    "---\n",
    "* Using text AND image as input/output for similarities."
   ]
  },
  {
   "cell_type": "code",
   "execution_count": 58,
   "id": "e3fba491-ab50-42af-ae24-7d5a4461f505",
   "metadata": {
    "tags": []
   },
   "outputs": [],
   "source": [
    "model = GenerativeModel(\"gemini-1.5-flash-001\",)\n",
    "mm = MultiModalEmbeddingModel.from_pretrained(\"multimodalembedding\")"
   ]
  },
  {
   "cell_type": "code",
   "execution_count": 59,
   "id": "f7917993-8d35-42aa-9d4f-99a0068e1102",
   "metadata": {
    "tags": []
   },
   "outputs": [],
   "source": [
    " generation_config = {\n",
    "    \"max_output_tokens\": 8192,\n",
    "    \"temperature\": 1,\n",
    "    \"top_p\": 0.95,\n",
    "}\n",
    "\n",
    "safety_settings = {\n",
    "    generative_models.HarmCategory.HARM_CATEGORY_HATE_SPEECH: generative_models.HarmBlockThreshold.BLOCK_MEDIUM_AND_ABOVE,\n",
    "    generative_models.HarmCategory.HARM_CATEGORY_DANGEROUS_CONTENT: generative_models.HarmBlockThreshold.BLOCK_MEDIUM_AND_ABOVE,\n",
    "    generative_models.HarmCategory.HARM_CATEGORY_SEXUALLY_EXPLICIT: generative_models.HarmBlockThreshold.BLOCK_MEDIUM_AND_ABOVE,\n",
    "    generative_models.HarmCategory.HARM_CATEGORY_HARASSMENT: generative_models.HarmBlockThreshold.BLOCK_MEDIUM_AND_ABOVE,\n",
    "}\n",
    "\n",
    "weight_image = 0.6\n",
    "weight_text = 0.4"
   ]
  },
  {
   "cell_type": "markdown",
   "id": "8e27723b-fcaa-46ae-ada1-5edd5fd4e7de",
   "metadata": {},
   "source": [
    "## Concatanate"
   ]
  },
  {
   "cell_type": "code",
   "execution_count": 62,
   "id": "c46d1f0d-ac51-4b01-96f7-1b89465c49ff",
   "metadata": {
    "scrolled": true,
    "tags": []
   },
   "outputs": [
    {
     "name": "stdout",
     "output_type": "stream",
     "text": [
      "This is a secluded, 4-bedroom retreat near the Austin Coast, perfect for 3 guests. Enjoy amenities like an indoor fireplace, a Keurig coffee maker, and a 50-inch HDTV. This rare find, hosted by David Wilson (New Host), offers a unique experience for $332 per night. Located near Lakes, Downtown, and Winery neighborhoods, this listing boasts a 4.5-star rating with 5 reviews. \n",
      "\n",
      "Processing gs://vtxdemos-abnb-images/airbnbimages/1720469250662/sample_0.png\n",
      "Processing gs://vtxdemos-abnb-images/airbnbimages/1720469250662/sample_1.png\n",
      "Processing gs://vtxdemos-abnb-images/airbnbimages/1720469250662/sample_2.png\n",
      "Processing gs://vtxdemos-abnb-images/airbnbimages/1720469250662/sample_3.png\n",
      "Processing gs://vtxdemos-abnb-images/airbnbimages/1720469250662/sample_4.png\n",
      "Processing gs://vtxdemos-abnb-images/airbnbimages/1720469246611/sample_0.png\n",
      "Processing gs://vtxdemos-abnb-images/airbnbimages/1720469246611/sample_1.png\n",
      "Processing gs://vtxdemos-abnb-images/airbnbimages/1720469246611/sample_2.png\n",
      "Processing gs://vtxdemos-abnb-images/airbnbimages/1720469246611/sample_3.png\n",
      "Processing gs://vtxdemos-abnb-images/airbnbimages/1720469246611/sample_4.png\n",
      "Charming Yellowstone farmhouse with nautical accents, perfect for a couple. Located in Yellowstone National Park, Wyoming.  Enjoy private patio, fire pit, and dedicated workspace.  Wifi, Bluetooth speaker, and coffee maker included.  Rated 4.9 stars with 41 reviews.  Hosted by Emily Brown, a new host.  Price per night is $84.  A rare find! \n",
      "\n",
      "Processing gs://vtxdemos-abnb-images/airbnbimages/1720469287577/sample_0.png\n",
      "Processing gs://vtxdemos-abnb-images/airbnbimages/1720469287577/sample_1.png\n",
      "Processing gs://vtxdemos-abnb-images/airbnbimages/1720469287577/sample_2.png\n",
      "Processing gs://vtxdemos-abnb-images/airbnbimages/1720469287577/sample_3.png\n",
      "Processing gs://vtxdemos-abnb-images/airbnbimages/1720469287577/sample_4.png\n",
      "Processing gs://vtxdemos-abnb-images/airbnbimages/1720469281928/sample_0.png\n",
      "Processing gs://vtxdemos-abnb-images/airbnbimages/1720469281928/sample_1.png\n",
      "Processing gs://vtxdemos-abnb-images/airbnbimages/1720469281928/sample_2.png\n",
      "Processing gs://vtxdemos-abnb-images/airbnbimages/1720469281928/sample_3.png\n",
      "Processing gs://vtxdemos-abnb-images/airbnbimages/1720469281928/sample_4.png\n",
      "Charming 4-bedroom farmhouse cabin in Chicago, perfect for 3 guests. Enjoy a cozy getaway with amenities like a dedicated workspace and a pack 'n play. Located near Lakes and Downtown, this rare find boasts a 4.8 rating with 23 reviews. Hosted by new host David Wilson, the price is $158 per night. \n",
      "\n",
      "Processing gs://vtxdemos-abnb-images/airbnbimages/1720469325912/sample_0.png\n",
      "Processing gs://vtxdemos-abnb-images/airbnbimages/1720469325912/sample_1.png\n",
      "Processing gs://vtxdemos-abnb-images/airbnbimages/1720469325912/sample_2.png\n",
      "Processing gs://vtxdemos-abnb-images/airbnbimages/1720469325912/sample_3.png\n",
      "Processing gs://vtxdemos-abnb-images/airbnbimages/1720469325912/sample_4.png\n",
      "Processing gs://vtxdemos-abnb-images/airbnbimages/1720469321849/sample_0.png\n",
      "Processing gs://vtxdemos-abnb-images/airbnbimages/1720469321849/sample_1.png\n",
      "Processing gs://vtxdemos-abnb-images/airbnbimages/1720469321849/sample_2.png\n",
      "Processing gs://vtxdemos-abnb-images/airbnbimages/1720469321849/sample_3.png\n",
      "Processing gs://vtxdemos-abnb-images/airbnbimages/1720469321849/sample_4.png\n",
      "Yellowstone Lakefront Adventure Awaits! 🏕️ - A 2-bedroom cabin in Yellowstone National Park, Wyoming, perfect for 2 guests. Enjoy a cozy stay with amenities like a gas stove, hot water kettle, fireplace, and private patio. Experienced host David Wilson offers a comfortable retreat for nature lovers. This rare find boasts a 4.6 rating with 39 reviews and costs $209 per night.  \n",
      "\n",
      "Processing gs://vtxdemos-abnb-images/airbnbimages/1720469262894/sample_0.png\n",
      "Processing gs://vtxdemos-abnb-images/airbnbimages/1720469262894/sample_1.png\n",
      "Processing gs://vtxdemos-abnb-images/airbnbimages/1720469262894/sample_2.png\n",
      "Processing gs://vtxdemos-abnb-images/airbnbimages/1720469262894/sample_3.png\n",
      "Processing gs://vtxdemos-abnb-images/airbnbimages/1720469262894/sample_4.png\n",
      "Processing gs://vtxdemos-abnb-images/airbnbimages/1720469257917/sample_0.png\n",
      "Processing gs://vtxdemos-abnb-images/airbnbimages/1720469257917/sample_1.png\n",
      "Processing gs://vtxdemos-abnb-images/airbnbimages/1720469257917/sample_2.png\n",
      "Processing gs://vtxdemos-abnb-images/airbnbimages/1720469257917/sample_3.png\n",
      "Processing gs://vtxdemos-abnb-images/airbnbimages/1720469257917/sample_4.png\n",
      "Bohemian Lakefront Retreat in Yellowstone National Park, Wyoming.  A rare find, this 3 bedroom retreat sleeps 2 guests.  Enjoy stunning lake views with amenities like a dishwasher, refrigerator, barbecue utensils, and books.  Rated 4.5 stars with 46 reviews.  Hosted by Jane Doe, a new host.  Price per night: $366.  Located near lakes and countryside. \n",
      "\n",
      "Processing gs://vtxdemos-abnb-images/airbnbimages/1720469338838/sample_0.png\n",
      "Processing gs://vtxdemos-abnb-images/airbnbimages/1720469338838/sample_1.png\n",
      "Processing gs://vtxdemos-abnb-images/airbnbimages/1720469338838/sample_2.png\n",
      "Processing gs://vtxdemos-abnb-images/airbnbimages/1720469338838/sample_3.png\n",
      "Processing gs://vtxdemos-abnb-images/airbnbimages/1720469338838/sample_4.png\n",
      "Processing gs://vtxdemos-abnb-images/airbnbimages/1720469334110/sample_0.png\n",
      "Processing gs://vtxdemos-abnb-images/airbnbimages/1720469334110/sample_1.png\n",
      "Processing gs://vtxdemos-abnb-images/airbnbimages/1720469334110/sample_2.png\n",
      "Processing gs://vtxdemos-abnb-images/airbnbimages/1720469334110/sample_3.png\n",
      "Processing gs://vtxdemos-abnb-images/airbnbimages/1720469334110/sample_4.png\n",
      "## NOLA Treehouse: Luxurious Stay in the Canopy 🌳\n",
      "\n",
      "Enjoy a unique stay in New Orleans at this 1-bedroom treehouse, perfect for up to 7 guests.  Experience a comfortable and luxurious stay with amenities like a 50 inch HDTV, private entrance, and extra pillows and blankets. This rare find is located near walking trails and a winery, offering a peaceful escape in the heart of the city.  Hosted by Emily Brown, a New Host, with a 4.6 rating based on 8 reviews.  Price per night: $55. \n",
      "\n",
      "Processing gs://vtxdemos-abnb-images/airbnbimages/1720469353188/sample_0.png\n",
      "Processing gs://vtxdemos-abnb-images/airbnbimages/1720469353188/sample_1.png\n",
      "Processing gs://vtxdemos-abnb-images/airbnbimages/1720469353188/sample_2.png\n",
      "Processing gs://vtxdemos-abnb-images/airbnbimages/1720469353188/sample_3.png\n",
      "Processing gs://vtxdemos-abnb-images/airbnbimages/1720469353188/sample_4.png\n",
      "Processing gs://vtxdemos-abnb-images/airbnbimages/1720469346554/sample_0.png\n",
      "Processing gs://vtxdemos-abnb-images/airbnbimages/1720469346554/sample_1.png\n",
      "Processing gs://vtxdemos-abnb-images/airbnbimages/1720469346554/sample_2.png\n",
      "Processing gs://vtxdemos-abnb-images/airbnbimages/1720469346554/sample_3.png\n",
      "Processing gs://vtxdemos-abnb-images/airbnbimages/1720469346554/sample_4.png\n",
      "Charming 2-bedroom vintage farmhouse in Austin, Texas, perfect for up to 7 guests.  Enjoy a 4.9-star rated stay with experienced host John Smith. Relax in the private backyard with a hammock and outdoor dining area. Amenities include a hair dryer and bed linens.  This rare find is located near lakes and walking trails.  Price: $210 per night. \n",
      "\n",
      "Processing gs://vtxdemos-abnb-images/airbnbimages/1720469314430/sample_0.png\n",
      "Processing gs://vtxdemos-abnb-images/airbnbimages/1720469314430/sample_1.png\n",
      "Processing gs://vtxdemos-abnb-images/airbnbimages/1720469314430/sample_2.png\n",
      "Processing gs://vtxdemos-abnb-images/airbnbimages/1720469314430/sample_3.png\n",
      "Processing gs://vtxdemos-abnb-images/airbnbimages/1720469314430/sample_4.png\n",
      "Processing gs://vtxdemos-abnb-images/airbnbimages/1720469310584/sample_0.png\n",
      "Processing gs://vtxdemos-abnb-images/airbnbimages/1720469310584/sample_1.png\n",
      "Processing gs://vtxdemos-abnb-images/airbnbimages/1720469310584/sample_2.png\n",
      "Processing gs://vtxdemos-abnb-images/airbnbimages/1720469310584/sample_3.png\n",
      "Processing gs://vtxdemos-abnb-images/airbnbimages/1720469310584/sample_4.png\n",
      "Charleston: Industrial Beach Oasis, a 1-bedroom Airbnb in South Carolina, comfortably accommodates 8 guests. This highly-rated (4.7 stars, 22 reviews) property boasts a unique industrial beach theme, offering amenities like a gas stove, dedicated workspace, outdoor furniture, and barbecue utensils.  John Smith, an experienced host, welcomes guests to this rare find, priced at $355 per night. The location offers easy access to nearby Countryside and Walking trails. \n",
      "\n",
      "Processing gs://vtxdemos-abnb-images/airbnbimages/1720469237339/sample_0.png\n",
      "Processing gs://vtxdemos-abnb-images/airbnbimages/1720469237339/sample_1.png\n",
      "Processing gs://vtxdemos-abnb-images/airbnbimages/1720469237339/sample_2.png\n",
      "Processing gs://vtxdemos-abnb-images/airbnbimages/1720469237339/sample_3.png\n",
      "Processing gs://vtxdemos-abnb-images/airbnbimages/1720469237339/sample_4.png\n",
      "Processing gs://vtxdemos-abnb-images/airbnbimages/1720469232821/sample_0.png\n",
      "Processing gs://vtxdemos-abnb-images/airbnbimages/1720469232821/sample_1.png\n",
      "Processing gs://vtxdemos-abnb-images/airbnbimages/1720469232821/sample_2.png\n",
      "Processing gs://vtxdemos-abnb-images/airbnbimages/1720469232821/sample_3.png\n",
      "Processing gs://vtxdemos-abnb-images/airbnbimages/1720469232821/sample_4.png\n",
      "Art Deco Treetop Getaway in Miami Beach, Florida. This 1 bedroom listing can accommodate 7 guests and features a private patio, barbecue utensils, free dryer, and more. Hosted by Jane Doe, a New Host, with a 4.7 rating from 20 reviews. Price per night is $483. Located near Winery and Lakes neighborhoods. \n",
      "\n",
      "Processing gs://vtxdemos-abnb-images/airbnbimages/1720469301738/sample_0.png\n",
      "Processing gs://vtxdemos-abnb-images/airbnbimages/1720469301738/sample_1.png\n",
      "Processing gs://vtxdemos-abnb-images/airbnbimages/1720469301738/sample_2.png\n",
      "Processing gs://vtxdemos-abnb-images/airbnbimages/1720469301738/sample_3.png\n",
      "Processing gs://vtxdemos-abnb-images/airbnbimages/1720469301738/sample_4.png\n",
      "Processing gs://vtxdemos-abnb-images/airbnbimages/1720469297625/sample_0.png\n",
      "Processing gs://vtxdemos-abnb-images/airbnbimages/1720469297625/sample_1.png\n",
      "Processing gs://vtxdemos-abnb-images/airbnbimages/1720469297625/sample_2.png\n",
      "Processing gs://vtxdemos-abnb-images/airbnbimages/1720469297625/sample_3.png\n",
      "Processing gs://vtxdemos-abnb-images/airbnbimages/1720469297625/sample_4.png\n",
      "Malibu Cabin Retreat offers ocean views and nature in a cozy 1-bedroom cabin, perfect for 3 guests. This highly rated (4.9 stars, 35 reviews) property is a rare find, hosted by experienced host John Smith. Amenities include a private backyard, board games, and a bathtub, while nearby attractions include countryside, walking trails, and a winery. Enjoy a relaxing getaway for $124 per night. \n",
      "\n",
      "Processing gs://vtxdemos-abnb-images/airbnbimages/1720469273889/sample_0.png\n",
      "Processing gs://vtxdemos-abnb-images/airbnbimages/1720469273889/sample_1.png\n",
      "Processing gs://vtxdemos-abnb-images/airbnbimages/1720469273889/sample_2.png\n",
      "Processing gs://vtxdemos-abnb-images/airbnbimages/1720469273889/sample_3.png\n",
      "Processing gs://vtxdemos-abnb-images/airbnbimages/1720469273889/sample_4.png\n",
      "Processing gs://vtxdemos-abnb-images/airbnbimages/1720469269922/sample_0.png\n",
      "Processing gs://vtxdemos-abnb-images/airbnbimages/1720469269922/sample_1.png\n",
      "Processing gs://vtxdemos-abnb-images/airbnbimages/1720469269922/sample_2.png\n",
      "Processing gs://vtxdemos-abnb-images/airbnbimages/1720469269922/sample_3.png\n",
      "Processing gs://vtxdemos-abnb-images/airbnbimages/1720469269922/sample_4.png\n"
     ]
    }
   ],
   "source": [
    "id_list = []\n",
    "context_list = []\n",
    "embeddings = []\n",
    "\n",
    "def llm(context: str):\n",
    "    prompt = f\"\"\"\n",
    "    Your task is to create a good description from the following context:\n",
    "    \n",
    "    <rules>\n",
    "    1. The output will be used to generate multimodal embeddings (MultiModalEmbeddingModel) from vertexai.vision_models, description should fit on it.\n",
    "    2. The end goal is to combine image and text embeddings, description should be according that.\n",
    "    3. The maximum number of characters is 1024 so keep it simply but do not forget relevant information remember point number 1 and 2.\n",
    "\n",
    "    </rules>\n",
    "    \n",
    "    <context>\n",
    "    {context}\n",
    "    \n",
    "    </context>\n",
    "    \n",
    "    Output description:\n",
    "    \"\"\"\n",
    "    \n",
    "    response = model.generate_content(\n",
    "      [prompt],\n",
    "      generation_config=generation_config,\n",
    "      safety_settings=safety_settings,\n",
    "    )\n",
    "    \n",
    "    try:\n",
    "        return response.text\n",
    "    except:\n",
    "        print(\"Error!\")\n",
    "        print(response)\n",
    "        return \"\"\n",
    "    \n",
    "def l2_normalize(vector):\n",
    "    \"\"\"Normalizes a vector to unit length using L2 normalization.\"\"\"\n",
    "    l2_norm = np.linalg.norm(vector)\n",
    "    if l2_norm == 0:\n",
    "        return vector  # Avoid division by zero\n",
    "    return vector / l2_norm\n",
    "        \n",
    "    \n",
    "for index, row in df.iterrows():\n",
    "    context = f'''\n",
    "    The title of the airbnb listing is {row[\"title\"]}, the location is {row[\"location\"]}, the number of permissible guests are {row[\"guests\"]},\n",
    "    the number of bedrooms are: {row[\"bedrooms\"]}, it has the following ratings: {row[\"rating\"]}, and count with {row[\"reviews\"]} reviews,\n",
    "    the hostname is {row[\"host_name\"]}, and the type of host is {row[\"host_type\"]}, price per night is {row[\"price_per_night\"]},\n",
    "    and if the following value is 1 it means that is a rare find {row[\"is_rare_find\"]}, amenities are: {row[\"amenities\"]}, and the closest neighbourhoods are:\n",
    "    {row[\"nearby_neighbourhood\"]}.\n",
    "    '''\n",
    "    context = llm(context)\n",
    "    print(context)\n",
    "    if context == \"\":\n",
    "        pass\n",
    "    else:\n",
    "        for im in [\"Img_interior_url_\", \"Img_exterior_url_\"]:\n",
    "            for i in range(5):\n",
    "                _img = row[f\"{im}{i}\"].replace(\"https://storage.googleapis.com/\", \"gs://\")\n",
    "                print(f\"Processing {_img}\")\n",
    "                e = mm.get_embeddings(\n",
    "                    image=Image(\n",
    "                        gcs_uri=_img\n",
    "                    ),\n",
    "                    contextual_text=context,\n",
    "                )\n",
    "                \n",
    "                normalized_text_embedding = l2_normalize(e.text_embedding)\n",
    "                normalized_image_embedding = l2_normalize(e.image_embedding)\n",
    "                we_ave =  (weight_image * normalized_image_embedding) + (weight_text * normalized_text_embedding)\n",
    "\n",
    "                embeddings.append(we_ave)\n",
    "                id_list.append(row[\"id\"])\n",
    "                context_list.append(context)"
   ]
  },
  {
   "cell_type": "code",
   "execution_count": 63,
   "id": "6675cd69-6d83-423d-bc54-633aed2ba54c",
   "metadata": {
    "tags": []
   },
   "outputs": [],
   "source": [
    "emb_df = pd.DataFrame({\"id\": id_list, \"context\": context_list, \"embedding\": embeddings}) "
   ]
  },
  {
   "cell_type": "markdown",
   "id": "ba2be99a-393b-43b0-b6d5-e585b914d7ee",
   "metadata": {},
   "source": [
    "## Vector Search (Managed Service)"
   ]
  },
  {
   "cell_type": "code",
   "execution_count": 64,
   "id": "6cda8c19-37c3-48cc-b59b-4e0c65d55f29",
   "metadata": {
    "tags": []
   },
   "outputs": [],
   "source": [
    "data_1 = preprocess(emb_df, \"abnb_image_text/image_text_data.json\") "
   ]
  },
  {
   "cell_type": "code",
   "execution_count": null,
   "id": "d2ae9fd6-405f-4b15-9583-81a0860e698e",
   "metadata": {},
   "outputs": [],
   "source": [
    " abnb_index = aiplatform.MatchingEngineIndex.create_tree_ah_index(\n",
    "    display_name = f\"vs-abnb-index-image-text-1\",\n",
    "    contents_delta_uri = \"gs://vtxdemos-vsearch-datasets/abnb_image_text\",\n",
    "    dimensions = len(emb_df[\"embedding\"].iloc[0]),\n",
    "    approximate_neighbors_count = 15,\n",
    ")"
   ]
  },
  {
   "cell_type": "code",
   "execution_count": null,
   "id": "cf007f30-c5ed-4d9f-b991-065b59f5741d",
   "metadata": {},
   "outputs": [],
   "source": [
    "abnb_index_endpoint = aiplatform.MatchingEngineIndexEndpoint.create(\n",
    "    display_name = f\"vs-abnb-index-endpoint-image-text-1\",\n",
    "    public_endpoint_enabled = True\n",
    ")"
   ]
  },
  {
   "cell_type": "code",
   "execution_count": null,
   "id": "da276194-8ac1-48d2-ac03-2d0ee57d6abf",
   "metadata": {},
   "outputs": [],
   "source": [
    "abnb_index_endpoint.deploy_index(\n",
    "    index = abnb_index, deployed_index_id = \"vs_abnb_deployed_image_text_1\"\n",
    ")"
   ]
  }
 ],
 "metadata": {
  "colab": {
   "name": "imagen-airbnb",
   "provenance": []
  },
  "environment": {
   "kernel": "conda-base-py",
   "name": "workbench-notebooks.m121",
   "type": "gcloud",
   "uri": "us-docker.pkg.dev/deeplearning-platform-release/gcr.io/workbench-notebooks:m121"
  },
  "kernelspec": {
   "display_name": "Python 3 (ipykernel)",
   "language": "python",
   "name": "python3"
  },
  "language_info": {
   "codemirror_mode": {
    "name": "ipython",
    "version": 3
   },
   "file_extension": ".py",
   "mimetype": "text/x-python",
   "name": "python",
   "nbconvert_exporter": "python",
   "pygments_lexer": "ipython3",
   "version": "3.11.6"
  }
 },
 "nbformat": 4,
 "nbformat_minor": 5
}
