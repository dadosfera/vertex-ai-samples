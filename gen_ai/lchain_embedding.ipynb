{
 "cells": [
  {
   "attachments": {},
   "cell_type": "markdown",
   "metadata": {},
   "source": [
    "![](load_qa_chain.png)"
   ]
  },
  {
   "cell_type": "code",
   "execution_count": 1,
   "metadata": {},
   "outputs": [],
   "source": [
    "PROJECT_ID = \"cloud-llm-preview1\"  # @param {type:\"string\"}\n",
    "LOCATION = \"us-central1\" # @param {type:\"string\"}\n",
    "\n",
    "import langchain\n",
    "from google.cloud import aiplatform\n",
    "import vertexai\n",
    "vertexai.init(project=PROJECT_ID, location=LOCATION)\n",
    "\n",
    "from genai import VertexLLM, VertexChat, VertexMultiTurnChat, VertexEmbeddings\n",
    "\n",
    "REQUESTS_PER_MINUTE = 100\n",
    "\n",
    "llm = VertexLLM(\n",
    "    model_name='text-bison@001',\n",
    "    max_output_tokens=256,\n",
    "    temperature=0.1,\n",
    "    top_p=0.8,\n",
    "    top_k=40,\n",
    "    verbose=True,\n",
    ")\n",
    "\n",
    "chat = VertexChat()\n",
    "\n",
    "mchat = VertexMultiTurnChat(max_output_tokens=1024)\n",
    "\n",
    "embedding = VertexEmbeddings(requests_per_minute=REQUESTS_PER_MINUTE)"
   ]
  },
  {
   "cell_type": "code",
   "execution_count": 2,
   "metadata": {},
   "outputs": [
    {
     "data": {
      "text/plain": [
       "VertexEmbeddings(model_name='textembedding-gecko@001', model=<class 'vertexai.language_models._language_models.TextEmbeddingModel'>, requests_per_minute=100)"
      ]
     },
     "execution_count": 2,
     "metadata": {},
     "output_type": "execute_result"
    }
   ],
   "source": [
    "embedding"
   ]
  },
  {
   "cell_type": "code",
   "execution_count": 3,
   "metadata": {},
   "outputs": [],
   "source": [
    "# Ingest PDF files\n",
    "from langchain.document_loaders import PyPDFLoader\n",
    "\n",
    "# Load GOOG's 10K annual report (92 pages).\n",
    "url = \"https://abc.xyz/investor/static/pdf/20230203_alphabet_10K.pdf\"\n",
    "loader = PyPDFLoader(url)\n",
    "documents = loader.load()"
   ]
  },
  {
   "cell_type": "code",
   "execution_count": 4,
   "metadata": {},
   "outputs": [
    {
     "name": "stdout",
     "output_type": "stream",
     "text": [
      "# of documents = 384\n"
     ]
    }
   ],
   "source": [
    "# split the documents into chunks\n",
    "from langchain.text_splitter import RecursiveCharacterTextSplitter\n",
    "\n",
    "text_splitter = RecursiveCharacterTextSplitter(chunk_size=1000, chunk_overlap=0)\n",
    "docs = text_splitter.split_documents(documents)\n",
    "print(f\"# of documents = {len(docs)}\")"
   ]
  },
  {
   "cell_type": "code",
   "execution_count": 5,
   "metadata": {},
   "outputs": [
    {
     "name": "stderr",
     "output_type": "stream",
     "text": [
      "Using embedded DuckDB without persistence: data will be transient\n"
     ]
    },
    {
     "name": "stdout",
     "output_type": "stream",
     "text": [
      "Waiting\n",
      ".............................................................................................................................................................................................."
     ]
    }
   ],
   "source": [
    "# Store docs in local vectorstore as index\n",
    "# it may take a while since API is rate limited\n",
    "from langchain.vectorstores import Chroma\n",
    "\n",
    "db = Chroma.from_documents(docs, embedding)"
   ]
  },
  {
   "cell_type": "code",
   "execution_count": 6,
   "metadata": {},
   "outputs": [],
   "source": [
    "# Expose index to the retriever\n",
    "retriever = db.as_retriever(\n",
    "    search_type=\"similarity\",\n",
    "    search_kwargs={\"k\":2})"
   ]
  },
  {
   "cell_type": "code",
   "execution_count": 7,
   "metadata": {},
   "outputs": [
    {
     "name": "stdout",
     "output_type": "stream",
     "text": [
      "Waiting\n",
      "{'query': \"What was Alphabet's net income in 2022?\", 'result': \"Alphabet's net income in 2022 was $59,972.\", 'source_documents': [Document(page_content='Alphabet Inc.\\nCONSOLIDATED STATEMENTS OF INCOME\\n(in millions, except per share amounts)\\n Year Ended December 31,\\n 2020 2021 2022\\nRevenues $ 182,527 $ 257,637 $ 282,836 \\nCosts and expenses:\\nCost of revenues  84,732  110,939  126,203 \\nResearch and development  27,573  31,562  39,500 \\nSales and marketing  17,946  22,912  26,567 \\nGeneral and administrative  11,052  13,510  15,724 \\nTotal costs and expenses  141,303  178,923  207,994 \\nIncome from operations  41,224  78,714  74,842 \\nOther income (expense), net  6,858  12,020  (3,514) \\nIncome before income taxes  48,082  90,734  71,328 \\nProvision for income taxes  7,813  14,701  11,356 \\nNet income $ 40,269 $ 76,033 $ 59,972 \\nBasic net income per share of Class A, Class B, and Class C stock $ 2.96 $ 5.69 $ 4.59 \\nDiluted net income per share of Class A, Class B, and Class C stock $ 2.93 $ 5.61 $ 4.56 \\nSee accompanying notes.Table of Contents Alphabet Inc.\\n48', metadata={'source': '/tmp/tmpqnhzq8ue', 'page': 48}), Document(page_content='Alphabet Inc.\\nCONSOLIDATED STATEMENTS OF CASH FLOWS\\n(in millions)\\n Year Ended December 31,\\n 2020 2021 2022\\nOperating activities\\nNet income $ 40,269 $ 76,033 $ 59,972 \\nAdjustments:\\nDepreciation and impairment of property and equipment  12,905  11,555  15,287 \\nAmortization and impairment of intangible assets  792  886  641 \\nStock-based compensation expense  12,991  15,376  19,362 \\nDeferred income taxes  1,390  1,808  (8,081) \\n(Gain) loss on debt and equity securities, net  (6,317)  (12,270)  5,519 \\nOther  1,267  (213)  1,030 \\nChanges in assets and liabilities, net of effects of acquisitions:\\nAccounts receivable, net  (6,524)  (9,095)  (2,317) \\nIncome taxes, net  1,209  (625)  584 \\nOther assets  (1,330)  (1,846)  (5,046) \\nAccounts payable  694  283  707 \\nAccrued expenses and other liabilities  5,504  7,304  3,915 \\nAccrued revenue share  1,639  1,682  (445) \\nDeferred revenue  635  774  367 \\nNet cash provided by operating activities  65,124  91,652  91,495 \\nInvesting activities', metadata={'source': '/tmp/tmpqnhzq8ue', 'page': 51})]}\n"
     ]
    }
   ],
   "source": [
    "# Create chain to answer questions\n",
    "from langchain.chains import RetrievalQA\n",
    "\n",
    "# Uses LLM to synthesize results from the search index.\n",
    "# We use Vertex PaLM Text API for LLM\n",
    "qa = RetrievalQA.from_chain_type(\n",
    "    llm=llm,\n",
    "    chain_type=\"stuff\",\n",
    "    retriever=retriever,\n",
    "    return_source_documents=True)\n",
    "\n",
    "query = \"What was Alphabet's net income in 2022?\"\n",
    "result = qa({\"query\": query})\n",
    "print(result)"
   ]
  },
  {
   "attachments": {},
   "cell_type": "markdown",
   "metadata": {},
   "source": [
    "![](alphabet_income.png)"
   ]
  },
  {
   "cell_type": "code",
   "execution_count": 8,
   "metadata": {},
   "outputs": [
    {
     "name": "stdout",
     "output_type": "stream",
     "text": [
      "Waiting\n",
      "{'query': 'How much office space reduction took place in 2023?', 'result': 'The office space reduction in 2023 was approximately $0.5 billion.', 'source_documents': [Document(page_content='incur employee severance and related charges of $1.9 billion  to $2.3 billion , the majority of which will be recognized in \\nthe first quarter of 2023.\\nIn addition, we are taking actions to optimize our global office space. As a result we expect to incur exit costs \\nrelating to office space reductions of approximately $0.5 billion  in the first quarter of 2023.  We may incur additional \\ncharges in the future as we further evaluate our real estate needs. Table of Contents Alphabet Inc.\\n83', metadata={'source': '/tmp/tmpqnhzq8ue', 'page': 83}), Document(page_content='Note 11  of the Notes to Consolidated Financial Statements included in Item 8 of this Annual Report on Form \\n10-K for additional information.\\n•Operating cash flow was $91.5 billion  for the year ended December 31, 2022.\\n•Capital expenditures, which primarily reflected in vestments in technical infrastructure , were $31.5 billion  for the \\nyear ended December 31, 2022.\\n•As of December 31, 2022 , we had  190,234  employees .\\nAddition ally, looking ahead to fiscal year 2023:\\n•In January 2023, we announced a reduction of our workforce of approximately 12,000  roles. We expect to \\nincur employee severance and related charges of $1.9 billion  to $2.3 billion , the majority of which will be \\nrecognized in the first quarter of 2023.\\nIn addition, we are taking actions to optimize our global office space. As a result we expect to incur exit costs \\nrelating to office space reductions of approximately $0.5 billion  in the first quarter of 2023. We may incur', metadata={'source': '/tmp/tmpqnhzq8ue', 'page': 31})]}\n"
     ]
    }
   ],
   "source": [
    "query = \"How much office space reduction took place in 2023?\"\n",
    "result = qa({\"query\": query})\n",
    "print(result)"
   ]
  },
  {
   "attachments": {},
   "cell_type": "markdown",
   "metadata": {},
   "source": [
    "![](red.png)"
   ]
  },
  {
   "cell_type": "markdown",
   "metadata": {},
   "source": []
  }
 ],
 "metadata": {
  "kernelspec": {
   "display_name": "env311",
   "language": "python",
   "name": "python3"
  },
  "language_info": {
   "codemirror_mode": {
    "name": "ipython",
    "version": 3
   },
   "file_extension": ".py",
   "mimetype": "text/x-python",
   "name": "python",
   "nbconvert_exporter": "python",
   "pygments_lexer": "ipython3",
   "version": "3.11.3"
  },
  "orig_nbformat": 4
 },
 "nbformat": 4,
 "nbformat_minor": 2
}
