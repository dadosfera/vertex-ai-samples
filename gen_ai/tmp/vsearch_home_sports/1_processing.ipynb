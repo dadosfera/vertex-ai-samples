{
 "cells": [
  {
   "cell_type": "code",
   "execution_count": 1,
   "id": "99bdb2b2-f9c6-4a54-b343-f4de78d63984",
   "metadata": {
    "tags": []
   },
   "outputs": [],
   "source": [
    "import io\n",
    "import vertexai\n",
    "import json\n",
    "import math\n",
    "import time\n",
    "import random\n",
    "import base64\n",
    "import pandas as pd\n",
    "from PIL import Image\n",
    "import vertexai.preview.generative_models as generative_models\n",
    "from vertexai.preview.vision_models import ImageGenerationModel\n",
    "from vertexai.preview.vision_models import ImageGenerationModel\n",
    "from vertexai.generative_models import GenerativeModel, Part, FinishReason"
   ]
  },
  {
   "cell_type": "code",
   "execution_count": 12,
   "id": "a4342adc-8a90-4a2e-ba3f-df1bfe46e0bb",
   "metadata": {
    "tags": []
   },
   "outputs": [],
   "source": [
    " # Variables\n",
    "PROJECT_ID = \"vtxdemos\" # @param {type:\"string\"}\n",
    "VERTEX_LOCATION = \"us-central1\" # @param {type:\"string\"}\n",
    "OUTPUT_IMAGE_PATH = \"vtxdemos-vsearch-airbnb\" # @param {type:\"string\"}"
   ]
  },
  {
   "cell_type": "code",
   "execution_count": 13,
   "id": "a16606a2-1a5a-457d-8847-12a14ffde651",
   "metadata": {
    "tags": []
   },
   "outputs": [],
   "source": [
    "vertexai.init(project=PROJECT_ID, location=VERTEX_LOCATION)\n",
    "imagen_model = ImageGenerationModel.from_pretrained(\"imagegeneration@006\")"
   ]
  },
  {
   "cell_type": "code",
   "execution_count": null,
   "id": "a4149c3a-658a-4763-82e4-32ae3d452017",
   "metadata": {},
   "outputs": [],
   "source": [
    "property_types = [\n",
    "  \"Beach House\", \"Condo\", \"Forest Retreat\", \"Cabin\", \"Treehouse\", \"Lakefront\", \"Farmhouse\"\n",
    "]\n",
    "\n",
    "styles = [\n",
    "  \"Coastal\", \"Nautical\", \"Minimalist\", \"Rustic\", \"Bohemian\", \"Luxury\", \"Contemporary\", \"Industrial\", \"Loft\", \"Cozy\", \"Scandinavian\", \"Adventure\", \"Eco-friendly\", \"Art Deco\", \"Vintage\", \"Farmhouse Chic\"\n",
    "]\n",
    "\n",
    "locations = [\n",
    "  \"Malibu, California\", \"Charleston, South Carolina\", \"Miami Beach, Florida\", \"Chicago, Illinois\", \"Yellowstone National Park, Wyoming\",\n",
    "  \"Asheville, North Carolina\", \"New Orleans, Louisiana\", \"Austin, Texas\", \"New York City\"\n",
    "]\n",
    "\n",
    "amenity_descriptions = [\n",
    "  \"a private balcony overlooking the Pacific Ocean, direct beach access, and a fire pit for evening gatherings.\",\n",
    "  \"a screened-in porch with a hammock, a spacious kitchen perfect for entertaining, and a backyard with a fire pit.\",\n",
    "  \"a private balcony with a stunning ocean view, a resort-style pool and spa, and a state-of-the-art fitness center.\",\n",
    "  \"high ceilings with exposed brick, floor-to-ceiling windows, and a private balcony overlooking the city.\",\n",
    "  \"a wood-burning fireplace, large windows for nature views, and a private deck with a hot tub.\",\n",
    "  \"a canopy view of the surrounding forest, a hammock for relaxing, and a private outdoor shower.\",\n",
    "  \"a rooftop bar with live music, a courtyard with lush greenery, and a spa offering unique treatments.\",\n",
    "  \"a large porch with rocking chairs, a garden for growing fresh produce, and a fire pit for stargazing.\",\n",
    "  \"a stunning view of the city skyline and a rooftop terrace with a pool\",\n",
    "]\n",
    "\n",
    "prompts = []\n",
    "for _ in range(n):\n",
    "    prompt = {\n",
    "        \"property_type\": random.choice(property_types),\n",
    "        \"style\": random.choice(styles),\n",
    "        \"location\": random.choice(locations),\n",
    "        \"amenity_description\": random.choice(amenity_descriptions)\n",
    "    }"
   ]
  },
  {
   "cell_type": "code",
   "execution_count": 30,
   "id": "a4300091-5e7e-457d-971b-bcb46ee84741",
   "metadata": {
    "tags": []
   },
   "outputs": [],
   "source": [
    "space = [\"living room\", \"bedroom\", \"kitchen\", \"bathroom\"]\n",
    "property_types = [\"beach house\", \"condo\", \"forest retreat\", \"cabin\", \"lakefront\", \"farmhouse\", \"art deco luxury apartment\"]\n",
    "face = [\"Facing the ocean\", \"Facing to new york High Line\", \"Facing common trees in Yosemite\", \"Facing nature red mapple, amazing for hiking\", \"Facing the seren shore of a Georgia lake\", \"Facing the loca foliage and oak trees\"]\n",
    "region = [\"Malibu\", \"New York\", \"California\", \"Delaware\", \"Georgia\", \"Pennsylvania\"]\n",
    "\n",
    "prompt = f\"a photo of a {space[0]}, cozy luxury, {property_types[5]}, {face[5]}, high detail, precise focusing, controlled lighting, taken by a professional photographer\""
   ]
  },
  {
   "cell_type": "code",
   "execution_count": 27,
   "id": "5bbb6048-1d98-4d89-94e9-5ab379538428",
   "metadata": {
    "tags": []
   },
   "outputs": [
    {
     "data": {
      "text/plain": [
       "6"
      ]
     },
     "execution_count": 27,
     "metadata": {},
     "output_type": "execute_result"
    }
   ],
   "source": [
    "len(face)"
   ]
  },
  {
   "cell_type": "code",
   "execution_count": 35,
   "id": "d4c27eb4-dc0f-4137-8bcb-092793c1e05c",
   "metadata": {
    "tags": []
   },
   "outputs": [],
   "source": [
    "prompt = \"\"\"/imagine prompt: A modern, open-concept kitchen in a forest cabin, featuring stainless steel appliances, sleek granite countertops, and custom wood cabinetry. A large island doubles as a breakfast bar, offering views of the surrounding wilderness. Fresh herbs grow in a windowsill planter, adding a touch of fragrance and color to the space.\"\"\"\n",
    "response = imagen_model.generate_images(\n",
    "    prompt=prompt,\n",
    "    #negative_prompt=negative_prompt,\n",
    "    number_of_images=1,\n",
    "    aspect_ratio=\"16:9\",\n",
    "    language=\"en\",\n",
    "    #guidance_scale=7.5,\n",
    "    output_gcs_uri=f\"gs://{OUTPUT_IMAGE_PATH}/airbnb_images_1/\",\n",
    ")"
   ]
  },
  {
   "cell_type": "code",
   "execution_count": 19,
   "id": "848cd0d0-2451-4609-8c4c-fc2404145653",
   "metadata": {
    "tags": []
   },
   "outputs": [
    {
     "name": "stdout",
     "output_type": "stream",
     "text": [
      "gs://vtxdemos-vsearch-airbnb/airbnb_images_1/1716899362424/sample_0.png\n"
     ]
    }
   ],
   "source": [
    "for i in response:\n",
    "    print(i._gcs_uri)"
   ]
  },
  {
   "cell_type": "code",
   "execution_count": 33,
   "id": "a1504d1f-95c5-4d7b-882a-1f71d6502f94",
   "metadata": {
    "tags": []
   },
   "outputs": [
    {
     "data": {
      "text/plain": [
       "'A 4k spa-like bathroom in a rustik cabin in California, with a deep soaking tub overlooking the forest through expansive windows. Natural light floods the space, highlighting the sleek lines of the rain shower and the stone accent wall. Fluffy towels and organic bath products add a touch of luxury to the serene ambiance.'"
      ]
     },
     "execution_count": 33,
     "metadata": {},
     "output_type": "execute_result"
    }
   ],
   "source": [
    "\"\"\"A 4k spa-like bathroom in a rustik cabin in California, with a deep soaking tub overlooking the forest through expansive windows. Natural light floods the space, highlighting the sleek lines of the rain shower and the stone accent wall. Fluffy towels and organic bath products add a touch of luxury to the serene ambiance.\"\"\""
   ]
  },
  {
   "cell_type": "code",
   "execution_count": 32,
   "id": "f40de940-e111-4e48-9859-5dbf5c954a4a",
   "metadata": {
    "tags": []
   },
   "outputs": [
    {
     "data": {
      "text/plain": [
       "'a photo of a living room, cozy luxury, farmhouse, Facing the loca foliage and oak trees, high detail, precise focusing, controlled lighting, taken by a professional photographer'"
      ]
     },
     "execution_count": 32,
     "metadata": {},
     "output_type": "execute_result"
    }
   ],
   "source": [
    "prompt"
   ]
  },
  {
   "cell_type": "code",
   "execution_count": null,
   "id": "8c681450-07ac-43c9-b4a9-6052589ab997",
   "metadata": {},
   "outputs": [],
   "source": []
  }
 ],
 "metadata": {
  "environment": {
   "kernel": "conda-base-py",
   "name": "workbench-notebooks.m121",
   "type": "gcloud",
   "uri": "us-docker.pkg.dev/deeplearning-platform-release/gcr.io/workbench-notebooks:m121"
  },
  "kernelspec": {
   "display_name": "Python 3 (ipykernel)",
   "language": "python",
   "name": "conda-base-py"
  },
  "language_info": {
   "codemirror_mode": {
    "name": "ipython",
    "version": 3
   },
   "file_extension": ".py",
   "mimetype": "text/x-python",
   "name": "python",
   "nbconvert_exporter": "python",
   "pygments_lexer": "ipython3",
   "version": "3.10.14"
  }
 },
 "nbformat": 4,
 "nbformat_minor": 5
}
