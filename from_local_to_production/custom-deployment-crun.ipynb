{
 "cells": [
  {
   "cell_type": "markdown",
   "id": "039138f6-d11d-4e80-b090-68b79e714231",
   "metadata": {},
   "source": [
    "## Training"
   ]
  },
  {
   "cell_type": "markdown",
   "id": "9c5a5689-3334-4df4-a488-d671d7abbb35",
   "metadata": {},
   "source": [
    "![](../images/ml-artifacts-1.jpg)"
   ]
  },
  {
   "cell_type": "code",
   "execution_count": 28,
   "id": "85d3f584-231b-4fe8-9f38-d58e955c06dd",
   "metadata": {},
   "outputs": [],
   "source": [
    "!rm -fr train\n",
    "!mkdir train"
   ]
  },
  {
   "cell_type": "code",
   "execution_count": 16,
   "id": "7e995d54-77cf-4a45-ace7-86aee8e51a06",
   "metadata": {
    "tags": []
   },
   "outputs": [
    {
     "name": "stderr",
     "output_type": "stream",
     "text": [
      "2023-02-02 13:27:03.937444: I tensorflow/core/platform/cpu_feature_guard.cc:193] This TensorFlow binary is optimized with oneAPI Deep Neural Network Library (oneDNN) to use the following CPU instructions in performance-critical operations:  AVX2 FMA\n",
      "To enable them in other operations, rebuild TensorFlow with the appropriate compiler flags.\n",
      "2023-02-02 13:27:05.128385: W tensorflow/compiler/xla/stream_executor/platform/default/dso_loader.cc:64] Could not load dynamic library 'libcudart.so.11.0'; dlerror: libcudart.so.11.0: cannot open shared object file: No such file or directory\n",
      "2023-02-02 13:27:05.128646: I tensorflow/compiler/xla/stream_executor/cuda/cudart_stub.cc:29] Ignore above cudart dlerror if you do not have a GPU set up on your machine.\n",
      "2023-02-02 13:27:08.410911: W tensorflow/compiler/xla/stream_executor/platform/default/dso_loader.cc:64] Could not load dynamic library 'libnvinfer.so.7'; dlerror: libnvinfer.so.7: cannot open shared object file: No such file or directory\n",
      "2023-02-02 13:27:08.411288: W tensorflow/compiler/xla/stream_executor/platform/default/dso_loader.cc:64] Could not load dynamic library 'libnvinfer_plugin.so.7'; dlerror: libnvinfer_plugin.so.7: cannot open shared object file: No such file or directory\n",
      "2023-02-02 13:27:08.411307: W tensorflow/compiler/tf2tensorrt/utils/py_utils.cc:38] TF-TRT Warning: Cannot dlopen some TensorRT libraries. If you would like to use Nvidia GPU with TensorRT, please make sure the missing libraries mentioned above are installed properly.\n"
     ]
    },
    {
     "name": "stdout",
     "output_type": "stream",
     "text": [
      "2.11.0\n"
     ]
    },
    {
     "name": "stderr",
     "output_type": "stream",
     "text": [
      "2023-02-02 13:27:11.288380: W tensorflow/compiler/xla/stream_executor/platform/default/dso_loader.cc:64] Could not load dynamic library 'libcuda.so.1'; dlerror: libcuda.so.1: cannot open shared object file: No such file or directory\n",
      "2023-02-02 13:27:11.288474: W tensorflow/compiler/xla/stream_executor/cuda/cuda_driver.cc:265] failed call to cuInit: UNKNOWN ERROR (303)\n",
      "2023-02-02 13:27:11.288577: I tensorflow/compiler/xla/stream_executor/cuda/cuda_diagnostics.cc:156] kernel driver does not appear to be running on this host (penguin): /proc/driver/nvidia/version does not exist\n",
      "2023-02-02 13:27:11.289846: I tensorflow/core/platform/cpu_feature_guard.cc:193] This TensorFlow binary is optimized with oneAPI Deep Neural Network Library (oneDNN) to use the following CPU instructions in performance-critical operations:  AVX2 FMA\n",
      "To enable them in other operations, rebuild TensorFlow with the appropriate compiler flags.\n"
     ]
    },
    {
     "name": "stdout",
     "output_type": "stream",
     "text": [
      "Model: \"sequential\"\n",
      "_________________________________________________________________\n",
      " Layer (type)                Output Shape              Param #   \n",
      "=================================================================\n",
      " dense (Dense)               (None, 64)                640       \n",
      "                                                                 \n",
      " dense_1 (Dense)             (None, 64)                4160      \n",
      "                                                                 \n",
      " dense_2 (Dense)             (None, 1)                 65        \n",
      "                                                                 \n",
      "=================================================================\n",
      "Total params: 4,865\n",
      "Trainable params: 4,865\n",
      "Non-trainable params: 0\n",
      "_________________________________________________________________\n",
      "Epoch 1/1000\n",
      "8/8 [==============================] - 1s 51ms/step - loss: 571.7780 - mae: 22.7181 - mse: 571.7780 - val_loss: 561.2507 - val_mae: 22.4582 - val_mse: 561.2507\n",
      "Epoch 2/1000\n",
      "8/8 [==============================] - 0s 13ms/step - loss: 519.0931 - mae: 21.5424 - mse: 519.0931 - val_loss: 509.2206 - val_mae: 21.2762 - val_mse: 509.2206\n",
      "Epoch 3/1000\n",
      "8/8 [==============================] - 0s 21ms/step - loss: 470.9451 - mae: 20.4140 - mse: 470.9451 - val_loss: 457.3851 - val_mae: 20.0411 - val_mse: 457.3851\n",
      "Epoch 4/1000\n",
      "8/8 [==============================] - 0s 26ms/step - loss: 420.5428 - mae: 19.1808 - mse: 420.5428 - val_loss: 400.6862 - val_mae: 18.6121 - val_mse: 400.6862\n",
      "Epoch 5/1000\n",
      "8/8 [==============================] - 0s 19ms/step - loss: 364.3068 - mae: 17.7314 - mse: 364.3068 - val_loss: 337.9453 - val_mae: 16.9327 - val_mse: 337.9453\n",
      "Epoch 6/1000\n",
      "8/8 [==============================] - 0s 16ms/step - loss: 304.6684 - mae: 16.0807 - mse: 304.6684 - val_loss: 273.8462 - val_mae: 15.0187 - val_mse: 273.8462\n",
      "Epoch 7/1000\n",
      "8/8 [==============================] - 0s 21ms/step - loss: 244.5997 - mae: 14.2022 - mse: 244.5997 - val_loss: 211.6737 - val_mae: 12.9488 - val_mse: 211.6737\n",
      "Epoch 8/1000\n",
      "8/8 [==============================] - 0s 13ms/step - loss: 187.8448 - mae: 12.2522 - mse: 187.8448 - val_loss: 155.8732 - val_mae: 10.9041 - val_mse: 155.8732\n",
      "Epoch 9/1000\n",
      "8/8 [==============================] - 0s 11ms/step - loss: 138.1080 - mae: 10.3109 - mse: 138.1080 - val_loss: 110.9070 - val_mae: 9.0691 - val_mse: 110.9070\n",
      "Epoch 10/1000\n",
      "8/8 [==============================] - 0s 14ms/step - loss: 97.0093 - mae: 8.4479 - mse: 97.0093 - val_loss: 74.8181 - val_mae: 7.3932 - val_mse: 74.8181\n",
      "Epoch 11/1000\n",
      "8/8 [==============================] - 0s 12ms/step - loss: 65.9524 - mae: 6.7033 - mse: 65.9524 - val_loss: 51.5729 - val_mae: 6.1277 - val_mse: 51.5729\n",
      "Epoch 12/1000\n",
      "8/8 [==============================] - 0s 13ms/step - loss: 45.2078 - mae: 5.4492 - mse: 45.2078 - val_loss: 38.3779 - val_mae: 5.3049 - val_mse: 38.3779\n",
      "Epoch 13/1000\n",
      "8/8 [==============================] - 0s 19ms/step - loss: 32.6295 - mae: 4.5815 - mse: 32.6295 - val_loss: 31.3907 - val_mae: 4.7084 - val_mse: 31.3907\n",
      "Epoch 14/1000\n",
      "8/8 [==============================] - 0s 20ms/step - loss: 25.3198 - mae: 3.9986 - mse: 25.3198 - val_loss: 27.5063 - val_mae: 4.3693 - val_mse: 27.5063\n",
      "Epoch 15/1000\n",
      "8/8 [==============================] - 0s 20ms/step - loss: 20.7565 - mae: 3.5639 - mse: 20.7565 - val_loss: 25.0560 - val_mae: 4.0677 - val_mse: 25.0560\n",
      "Epoch 16/1000\n",
      "8/8 [==============================] - 0s 21ms/step - loss: 17.6622 - mae: 3.2784 - mse: 17.6622 - val_loss: 22.5890 - val_mae: 3.8028 - val_mse: 22.5890\n",
      "Epoch 17/1000\n",
      "8/8 [==============================] - 0s 12ms/step - loss: 15.7028 - mae: 3.0444 - mse: 15.7028 - val_loss: 20.8980 - val_mae: 3.6697 - val_mse: 20.8980\n",
      "Epoch 18/1000\n",
      "8/8 [==============================] - 0s 15ms/step - loss: 14.0313 - mae: 2.8933 - mse: 14.0313 - val_loss: 18.8845 - val_mae: 3.4237 - val_mse: 18.8845\n",
      "Epoch 19/1000\n",
      "8/8 [==============================] - 0s 14ms/step - loss: 12.9190 - mae: 2.7402 - mse: 12.9190 - val_loss: 16.9414 - val_mae: 3.2363 - val_mse: 16.9414\n",
      "Epoch 20/1000\n",
      "8/8 [==============================] - 0s 19ms/step - loss: 11.9335 - mae: 2.5983 - mse: 11.9335 - val_loss: 15.4220 - val_mae: 3.0807 - val_mse: 15.4220\n",
      "Epoch 21/1000\n",
      "8/8 [==============================] - 0s 18ms/step - loss: 11.0150 - mae: 2.4695 - mse: 11.0150 - val_loss: 14.5603 - val_mae: 3.0758 - val_mse: 14.5603\n",
      "Epoch 22/1000\n",
      "8/8 [==============================] - 0s 22ms/step - loss: 10.5321 - mae: 2.3912 - mse: 10.5321 - val_loss: 13.8765 - val_mae: 2.7899 - val_mse: 13.8765\n",
      "Epoch 23/1000\n",
      "8/8 [==============================] - 0s 21ms/step - loss: 9.8140 - mae: 2.2854 - mse: 9.8140 - val_loss: 13.1379 - val_mae: 2.6850 - val_mse: 13.1379\n",
      "Epoch 24/1000\n",
      "8/8 [==============================] - 0s 17ms/step - loss: 9.5586 - mae: 2.2460 - mse: 9.5586 - val_loss: 12.1511 - val_mae: 2.6185 - val_mse: 12.1511\n",
      "Epoch 25/1000\n",
      "8/8 [==============================] - 0s 12ms/step - loss: 9.2503 - mae: 2.1858 - mse: 9.2503 - val_loss: 11.4580 - val_mae: 2.6295 - val_mse: 11.4580\n",
      "Epoch 26/1000\n",
      "8/8 [==============================] - 0s 15ms/step - loss: 8.8079 - mae: 2.1347 - mse: 8.8079 - val_loss: 11.0466 - val_mae: 2.5202 - val_mse: 11.0466\n",
      "Epoch 27/1000\n",
      "8/8 [==============================] - 0s 20ms/step - loss: 8.5305 - mae: 2.0971 - mse: 8.5305 - val_loss: 11.0026 - val_mae: 2.4116 - val_mse: 11.0026\n",
      "Epoch 28/1000\n",
      "8/8 [==============================] - 0s 16ms/step - loss: 8.5665 - mae: 2.0979 - mse: 8.5665 - val_loss: 10.5577 - val_mae: 2.4814 - val_mse: 10.5577\n",
      "Epoch 29/1000\n",
      "8/8 [==============================] - 0s 14ms/step - loss: 8.2427 - mae: 2.0344 - mse: 8.2427 - val_loss: 10.1658 - val_mae: 2.3725 - val_mse: 10.1658\n",
      "Epoch 30/1000\n",
      "8/8 [==============================] - 0s 18ms/step - loss: 7.9964 - mae: 1.9926 - mse: 7.9964 - val_loss: 9.9907 - val_mae: 2.3266 - val_mse: 9.9907\n",
      "Epoch 31/1000\n",
      "8/8 [==============================] - 0s 13ms/step - loss: 7.9884 - mae: 1.9950 - mse: 7.9884 - val_loss: 10.0024 - val_mae: 2.2980 - val_mse: 10.0024\n",
      "Epoch 32/1000\n",
      "8/8 [==============================] - 0s 16ms/step - loss: 8.0351 - mae: 2.0374 - mse: 8.0351 - val_loss: 9.8565 - val_mae: 2.3116 - val_mse: 9.8565\n",
      "Epoch 33/1000\n",
      "8/8 [==============================] - 0s 22ms/step - loss: 7.5745 - mae: 1.9483 - mse: 7.5745 - val_loss: 10.1409 - val_mae: 2.2638 - val_mse: 10.1409\n",
      "Epoch 34/1000\n",
      "8/8 [==============================] - 0s 21ms/step - loss: 7.5940 - mae: 1.9917 - mse: 7.5940 - val_loss: 9.4468 - val_mae: 2.2791 - val_mse: 9.4468\n",
      "Epoch 35/1000\n",
      "8/8 [==============================] - 0s 13ms/step - loss: 7.6467 - mae: 1.9520 - mse: 7.6467 - val_loss: 9.6295 - val_mae: 2.2406 - val_mse: 9.6295\n",
      "Epoch 36/1000\n",
      "8/8 [==============================] - 0s 18ms/step - loss: 7.5840 - mae: 1.9439 - mse: 7.5840 - val_loss: 10.1722 - val_mae: 2.2626 - val_mse: 10.1722\n",
      "Epoch 37/1000\n",
      "8/8 [==============================] - 0s 18ms/step - loss: 7.4558 - mae: 1.9659 - mse: 7.4558 - val_loss: 9.5111 - val_mae: 2.3522 - val_mse: 9.5111\n",
      "Epoch 38/1000\n",
      "8/8 [==============================] - 0s 10ms/step - loss: 7.2979 - mae: 1.9243 - mse: 7.2979 - val_loss: 9.3106 - val_mae: 2.2416 - val_mse: 9.3106\n",
      "Epoch 39/1000\n",
      "8/8 [==============================] - 0s 8ms/step - loss: 7.2590 - mae: 1.9174 - mse: 7.2590 - val_loss: 9.6059 - val_mae: 2.2531 - val_mse: 9.6059\n",
      "Epoch 40/1000\n",
      "8/8 [==============================] - 0s 9ms/step - loss: 7.2365 - mae: 1.8933 - mse: 7.2365 - val_loss: 9.4863 - val_mae: 2.2438 - val_mse: 9.4863\n",
      "Epoch 41/1000\n",
      "8/8 [==============================] - 0s 11ms/step - loss: 7.3183 - mae: 1.9137 - mse: 7.3183 - val_loss: 9.1658 - val_mae: 2.2274 - val_mse: 9.1658\n",
      "Epoch 42/1000\n",
      "8/8 [==============================] - 0s 8ms/step - loss: 7.2480 - mae: 1.9117 - mse: 7.2480 - val_loss: 8.9762 - val_mae: 2.2255 - val_mse: 8.9762\n",
      "Epoch 43/1000\n",
      "8/8 [==============================] - 0s 9ms/step - loss: 7.0375 - mae: 1.8817 - mse: 7.0375 - val_loss: 9.2425 - val_mae: 2.2092 - val_mse: 9.2425\n",
      "Epoch 44/1000\n",
      "8/8 [==============================] - 0s 10ms/step - loss: 6.9874 - mae: 1.9034 - mse: 6.9874 - val_loss: 9.1097 - val_mae: 2.2294 - val_mse: 9.1097\n",
      "Epoch 45/1000\n",
      "8/8 [==============================] - 0s 10ms/step - loss: 7.0490 - mae: 1.8925 - mse: 7.0490 - val_loss: 9.4767 - val_mae: 2.2257 - val_mse: 9.4767\n",
      "Epoch 46/1000\n",
      "8/8 [==============================] - 0s 10ms/step - loss: 6.8911 - mae: 1.8683 - mse: 6.8911 - val_loss: 9.0113 - val_mae: 2.2246 - val_mse: 9.0113\n",
      "Epoch 47/1000\n",
      "8/8 [==============================] - 0s 9ms/step - loss: 6.9418 - mae: 1.8776 - mse: 6.9418 - val_loss: 8.8785 - val_mae: 2.2209 - val_mse: 8.8785\n",
      "Epoch 48/1000\n",
      "8/8 [==============================] - 0s 8ms/step - loss: 7.2382 - mae: 1.9118 - mse: 7.2382 - val_loss: 8.8081 - val_mae: 2.2421 - val_mse: 8.8081\n",
      "Epoch 49/1000\n",
      "8/8 [==============================] - 0s 8ms/step - loss: 6.8332 - mae: 1.8628 - mse: 6.8332 - val_loss: 8.9016 - val_mae: 2.1890 - val_mse: 8.9016\n",
      "Epoch 50/1000\n",
      "8/8 [==============================] - 0s 9ms/step - loss: 6.8883 - mae: 1.8923 - mse: 6.8883 - val_loss: 8.8638 - val_mae: 2.2053 - val_mse: 8.8638\n",
      "Epoch 51/1000\n",
      "8/8 [==============================] - 0s 9ms/step - loss: 6.7714 - mae: 1.8564 - mse: 6.7714 - val_loss: 8.6526 - val_mae: 2.2074 - val_mse: 8.6526\n",
      "Epoch 52/1000\n",
      "8/8 [==============================] - 0s 10ms/step - loss: 6.7629 - mae: 1.8737 - mse: 6.7629 - val_loss: 8.7563 - val_mae: 2.2476 - val_mse: 8.7563\n",
      "Epoch 53/1000\n",
      "8/8 [==============================] - 0s 9ms/step - loss: 6.9163 - mae: 1.8684 - mse: 6.9163 - val_loss: 8.7300 - val_mae: 2.1869 - val_mse: 8.7300\n",
      "Epoch 54/1000\n",
      "8/8 [==============================] - 0s 10ms/step - loss: 6.7632 - mae: 1.8873 - mse: 6.7632 - val_loss: 8.8634 - val_mae: 2.1975 - val_mse: 8.8634\n",
      "Epoch 55/1000\n",
      "8/8 [==============================] - 0s 11ms/step - loss: 6.5783 - mae: 1.8359 - mse: 6.5783 - val_loss: 8.8776 - val_mae: 2.2426 - val_mse: 8.8776\n",
      "Epoch 56/1000\n",
      "8/8 [==============================] - 0s 9ms/step - loss: 6.5151 - mae: 1.8268 - mse: 6.5151 - val_loss: 9.0349 - val_mae: 2.2026 - val_mse: 9.0349\n",
      "Epoch 57/1000\n",
      "8/8 [==============================] - 0s 8ms/step - loss: 6.5888 - mae: 1.8630 - mse: 6.5888 - val_loss: 8.8113 - val_mae: 2.2722 - val_mse: 8.8113\n",
      "Epoch 58/1000\n",
      "8/8 [==============================] - 0s 9ms/step - loss: 6.8452 - mae: 1.8662 - mse: 6.8452 - val_loss: 8.6535 - val_mae: 2.2382 - val_mse: 8.6535\n",
      "Epoch 59/1000\n",
      "8/8 [==============================] - 0s 9ms/step - loss: 6.6141 - mae: 1.8201 - mse: 6.6141 - val_loss: 8.5559 - val_mae: 2.2011 - val_mse: 8.5559\n",
      "Epoch 60/1000\n",
      "8/8 [==============================] - 0s 9ms/step - loss: 6.5091 - mae: 1.8182 - mse: 6.5091 - val_loss: 8.4972 - val_mae: 2.1834 - val_mse: 8.4972\n",
      "Epoch 61/1000\n",
      "8/8 [==============================] - 0s 9ms/step - loss: 6.5693 - mae: 1.8136 - mse: 6.5693 - val_loss: 8.5172 - val_mae: 2.1659 - val_mse: 8.5172\n",
      "Epoch 62/1000\n",
      "8/8 [==============================] - 0s 10ms/step - loss: 6.5458 - mae: 1.8251 - mse: 6.5458 - val_loss: 8.5723 - val_mae: 2.1713 - val_mse: 8.5723\n",
      "Epoch 63/1000\n",
      "8/8 [==============================] - 0s 11ms/step - loss: 6.4803 - mae: 1.8113 - mse: 6.4803 - val_loss: 8.6510 - val_mae: 2.1626 - val_mse: 8.6510\n",
      "Epoch 64/1000\n",
      "8/8 [==============================] - 0s 20ms/step - loss: 6.4104 - mae: 1.8301 - mse: 6.4104 - val_loss: 8.4085 - val_mae: 2.1760 - val_mse: 8.4085\n",
      "Epoch 65/1000\n",
      "8/8 [==============================] - 0s 8ms/step - loss: 6.4579 - mae: 1.8013 - mse: 6.4579 - val_loss: 8.4160 - val_mae: 2.1712 - val_mse: 8.4160\n",
      "Epoch 66/1000\n",
      "8/8 [==============================] - 0s 19ms/step - loss: 6.3886 - mae: 1.8020 - mse: 6.3886 - val_loss: 8.5610 - val_mae: 2.1927 - val_mse: 8.5610\n",
      "Epoch 67/1000\n",
      "8/8 [==============================] - 0s 10ms/step - loss: 6.5296 - mae: 1.8297 - mse: 6.5296 - val_loss: 8.4604 - val_mae: 2.1857 - val_mse: 8.4604\n",
      "Epoch 68/1000\n",
      "8/8 [==============================] - 0s 10ms/step - loss: 6.3418 - mae: 1.8077 - mse: 6.3418 - val_loss: 8.4158 - val_mae: 2.1969 - val_mse: 8.4158\n",
      "Epoch 69/1000\n",
      "8/8 [==============================] - 0s 16ms/step - loss: 6.3797 - mae: 1.7903 - mse: 6.3797 - val_loss: 8.7075 - val_mae: 2.2603 - val_mse: 8.7075\n",
      "Epoch 70/1000\n",
      "8/8 [==============================] - 0s 9ms/step - loss: 6.6054 - mae: 1.8404 - mse: 6.6054 - val_loss: 8.4689 - val_mae: 2.1623 - val_mse: 8.4689\n",
      "Epoch 71/1000\n",
      "8/8 [==============================] - 0s 10ms/step - loss: 6.3236 - mae: 1.7957 - mse: 6.3236 - val_loss: 8.5984 - val_mae: 2.2419 - val_mse: 8.5984\n",
      "Epoch 72/1000\n",
      "8/8 [==============================] - 0s 14ms/step - loss: 6.3785 - mae: 1.7941 - mse: 6.3785 - val_loss: 8.3698 - val_mae: 2.1700 - val_mse: 8.3698\n",
      "Epoch 73/1000\n",
      "8/8 [==============================] - 0s 16ms/step - loss: 6.2934 - mae: 1.7777 - mse: 6.2934 - val_loss: 8.5329 - val_mae: 2.1257 - val_mse: 8.5329\n",
      "Epoch 74/1000\n",
      "8/8 [==============================] - 0s 13ms/step - loss: 6.4255 - mae: 1.8039 - mse: 6.4255 - val_loss: 8.4687 - val_mae: 2.1334 - val_mse: 8.4687\n",
      "Epoch 75/1000\n",
      "8/8 [==============================] - 0s 11ms/step - loss: 6.2682 - mae: 1.7920 - mse: 6.2682 - val_loss: 8.1910 - val_mae: 2.1860 - val_mse: 8.1910\n",
      "Epoch 76/1000\n",
      "8/8 [==============================] - 0s 10ms/step - loss: 6.4088 - mae: 1.7844 - mse: 6.4088 - val_loss: 8.5835 - val_mae: 2.1347 - val_mse: 8.5835\n",
      "Epoch 77/1000\n",
      "8/8 [==============================] - 0s 9ms/step - loss: 6.1914 - mae: 1.7758 - mse: 6.1914 - val_loss: 8.1824 - val_mae: 2.1644 - val_mse: 8.1824\n",
      "Epoch 78/1000\n",
      "8/8 [==============================] - 0s 11ms/step - loss: 6.2084 - mae: 1.7514 - mse: 6.2084 - val_loss: 8.2727 - val_mae: 2.1470 - val_mse: 8.2727\n",
      "Epoch 79/1000\n",
      "8/8 [==============================] - 0s 11ms/step - loss: 6.2025 - mae: 1.7687 - mse: 6.2025 - val_loss: 8.4308 - val_mae: 2.1296 - val_mse: 8.4308\n",
      "Epoch 80/1000\n",
      "8/8 [==============================] - 0s 17ms/step - loss: 6.2234 - mae: 1.7842 - mse: 6.2234 - val_loss: 8.1555 - val_mae: 2.1558 - val_mse: 8.1555\n",
      "Epoch 81/1000\n",
      "8/8 [==============================] - 0s 11ms/step - loss: 6.2184 - mae: 1.7468 - mse: 6.2184 - val_loss: 8.4408 - val_mae: 2.1213 - val_mse: 8.4408\n",
      "Epoch 82/1000\n",
      "8/8 [==============================] - 0s 15ms/step - loss: 6.1136 - mae: 1.7590 - mse: 6.1136 - val_loss: 8.6255 - val_mae: 2.1275 - val_mse: 8.6255\n",
      "Epoch 83/1000\n",
      "8/8 [==============================] - 0s 19ms/step - loss: 6.3044 - mae: 1.7821 - mse: 6.3044 - val_loss: 8.3277 - val_mae: 2.1125 - val_mse: 8.3277\n",
      "Epoch 84/1000\n",
      "8/8 [==============================] - 0s 10ms/step - loss: 6.1636 - mae: 1.7736 - mse: 6.1636 - val_loss: 8.2149 - val_mae: 2.2130 - val_mse: 8.2149\n",
      "Epoch 85/1000\n",
      "8/8 [==============================] - 0s 15ms/step - loss: 6.0932 - mae: 1.7501 - mse: 6.0932 - val_loss: 8.2147 - val_mae: 2.1761 - val_mse: 8.2147\n",
      "Epoch 86/1000\n",
      "8/8 [==============================] - 0s 9ms/step - loss: 6.1730 - mae: 1.7665 - mse: 6.1730 - val_loss: 8.1612 - val_mae: 2.1685 - val_mse: 8.1612\n",
      "Epoch 87/1000\n",
      "8/8 [==============================] - 0s 10ms/step - loss: 6.1161 - mae: 1.7563 - mse: 6.1161 - val_loss: 8.2958 - val_mae: 2.1683 - val_mse: 8.2958\n",
      "Epoch 88/1000\n",
      "8/8 [==============================] - 0s 13ms/step - loss: 5.9707 - mae: 1.7408 - mse: 5.9707 - val_loss: 8.2072 - val_mae: 2.2262 - val_mse: 8.2072\n",
      "Epoch 89/1000\n",
      "8/8 [==============================] - 0s 12ms/step - loss: 6.0608 - mae: 1.7326 - mse: 6.0608 - val_loss: 8.4731 - val_mae: 2.2907 - val_mse: 8.4731\n",
      "Epoch 90/1000\n",
      "8/8 [==============================] - 0s 11ms/step - loss: 6.2429 - mae: 1.7507 - mse: 6.2429 - val_loss: 8.1048 - val_mae: 2.1269 - val_mse: 8.1048\n",
      "Epoch 91/1000\n",
      "8/8 [==============================] - 0s 9ms/step - loss: 6.1405 - mae: 1.7712 - mse: 6.1405 - val_loss: 8.2319 - val_mae: 2.1892 - val_mse: 8.2319\n",
      "Epoch 92/1000\n",
      "8/8 [==============================] - 0s 21ms/step - loss: 6.2086 - mae: 1.7698 - mse: 6.2086 - val_loss: 8.1034 - val_mae: 2.1888 - val_mse: 8.1034\n",
      "Epoch 93/1000\n",
      "8/8 [==============================] - 0s 9ms/step - loss: 5.9643 - mae: 1.7392 - mse: 5.9643 - val_loss: 8.1718 - val_mae: 2.1651 - val_mse: 8.1718\n",
      "Epoch 94/1000\n",
      "8/8 [==============================] - 0s 9ms/step - loss: 5.9807 - mae: 1.7077 - mse: 5.9807 - val_loss: 8.1974 - val_mae: 2.1020 - val_mse: 8.1974\n",
      "Epoch 95/1000\n",
      "8/8 [==============================] - 0s 9ms/step - loss: 6.0705 - mae: 1.7550 - mse: 6.0705 - val_loss: 7.9732 - val_mae: 2.1678 - val_mse: 7.9732\n",
      "Epoch 96/1000\n",
      "8/8 [==============================] - 0s 13ms/step - loss: 5.9494 - mae: 1.7367 - mse: 5.9494 - val_loss: 8.2409 - val_mae: 2.1049 - val_mse: 8.2409\n",
      "Epoch 97/1000\n",
      "8/8 [==============================] - 0s 16ms/step - loss: 5.9927 - mae: 1.7438 - mse: 5.9927 - val_loss: 8.1515 - val_mae: 2.2200 - val_mse: 8.1515\n",
      "Epoch 98/1000\n",
      "8/8 [==============================] - 0s 9ms/step - loss: 6.0895 - mae: 1.7443 - mse: 6.0895 - val_loss: 8.2511 - val_mae: 2.1853 - val_mse: 8.2511\n",
      "Epoch 99/1000\n",
      "8/8 [==============================] - 0s 15ms/step - loss: 5.9807 - mae: 1.7289 - mse: 5.9807 - val_loss: 8.0964 - val_mae: 2.0905 - val_mse: 8.0964\n",
      "Epoch 100/1000\n",
      "8/8 [==============================] - 0s 13ms/step - loss: 5.8763 - mae: 1.7146 - mse: 5.8763 - val_loss: 8.5729 - val_mae: 2.0963 - val_mse: 8.5729\n",
      "Epoch 101/1000\n",
      "8/8 [==============================] - 0s 15ms/step - loss: 6.1132 - mae: 1.7566 - mse: 6.1132 - val_loss: 8.1090 - val_mae: 2.1095 - val_mse: 8.1090\n",
      "Epoch 102/1000\n",
      "8/8 [==============================] - 0s 16ms/step - loss: 6.0974 - mae: 1.7340 - mse: 6.0974 - val_loss: 8.2254 - val_mae: 2.1592 - val_mse: 8.2254\n",
      "Epoch 103/1000\n",
      "8/8 [==============================] - 0s 10ms/step - loss: 6.0573 - mae: 1.7341 - mse: 6.0573 - val_loss: 8.0177 - val_mae: 2.1572 - val_mse: 8.0177\n",
      "Epoch 104/1000\n",
      "8/8 [==============================] - 0s 13ms/step - loss: 5.9008 - mae: 1.7083 - mse: 5.9008 - val_loss: 8.0407 - val_mae: 2.1329 - val_mse: 8.0407\n",
      "Epoch 105/1000\n",
      "8/8 [==============================] - 0s 9ms/step - loss: 5.9510 - mae: 1.7377 - mse: 5.9510 - val_loss: 8.0824 - val_mae: 2.1816 - val_mse: 8.0824\n",
      "train/\n"
     ]
    },
    {
     "name": "stderr",
     "output_type": "stream",
     "text": [
      "WARNING:absl:Found untraced functions such as _update_step_xla while saving (showing 1 of 1). These functions will not be directly callable after loading.\n"
     ]
    },
    {
     "name": "stdout",
     "output_type": "stream",
     "text": [
      "INFO:tensorflow:Assets written to: train/assets\n"
     ]
    },
    {
     "name": "stderr",
     "output_type": "stream",
     "text": [
      "INFO:tensorflow:Assets written to: train/assets\n"
     ]
    }
   ],
   "source": [
    "import warnings\n",
    "import pandas as pd\n",
    "import tensorflow as tf\n",
    "\n",
    "warnings.filterwarnings('ignore')\n",
    "\n",
    "from tensorflow import keras\n",
    "from tensorflow.keras import layers\n",
    "\n",
    "print(tf.__version__)\n",
    "\n",
    "BUCKET = 'train/'\n",
    "\n",
    "# Extraction process\n",
    "dataset = pd.read_csv('https://storage.googleapis.com/jchavezar-public-datasets/auto-mpg.csv')\n",
    "dataset.tail()\n",
    "\n",
    "dataset.isna().sum()\n",
    "dataset = dataset.dropna()\n",
    "dataset['Origin'] = dataset['Origin'].map({1: 'USA', 2: 'Europe', 3: 'Japan'})\n",
    "dataset = pd.get_dummies(dataset, prefix='', prefix_sep='')\n",
    "dataset.tail()\n",
    "\n",
    "train_dataset = dataset.sample(frac=0.8, random_state=0)\n",
    "test_dataset = dataset.drop(train_dataset.index)\n",
    "\n",
    "train_stats = train_dataset.describe()\n",
    "train_stats.pop(\"MPG\")\n",
    "train_stats = train_stats.transpose()\n",
    "\n",
    "train_labels = train_dataset.pop('MPG')\n",
    "test_labels = test_dataset.pop('MPG')\n",
    "\n",
    "\n",
    "def norm(x):\n",
    "    return (x - train_stats['mean']) / train_stats['std']\n",
    "\n",
    "\n",
    "normed_train_data = norm(train_dataset)\n",
    "normed_test_data = norm(test_dataset)\n",
    "\n",
    "\n",
    "def build_model():\n",
    "    model_ai = keras.Sequential([\n",
    "        layers.Dense(64, activation='relu', input_shape=[len(train_dataset.keys())]),\n",
    "        layers.Dense(64, activation='relu'),\n",
    "        layers.Dense(1)\n",
    "    ])\n",
    "    optimizer = tf.keras.optimizers.RMSprop(0.001)\n",
    "    model_ai.compile(loss='mse',\n",
    "                     optimizer=optimizer,\n",
    "                     metrics=['mae', 'mse'])\n",
    "    return model_ai\n",
    "\n",
    "\n",
    "model = build_model()\n",
    "model.summary()\n",
    "EPOCHS = 1000\n",
    "\n",
    "# The patience parameter is the amount of epochs to check for improvement\n",
    "early_stop = keras.callbacks.EarlyStopping(monitor='val_loss', patience=10)\n",
    "early_history = model.fit(normed_train_data, train_labels,\n",
    "                          epochs=EPOCHS, validation_split=0.2,\n",
    "                          callbacks=[early_stop])\n",
    "\n",
    "# Export model and save to GCS\n",
    "print(BUCKET)\n",
    "model.save(BUCKET)"
   ]
  },
  {
   "cell_type": "markdown",
   "id": "029d5eba-9b37-409e-a3f4-389a9a415417",
   "metadata": {},
   "source": [
    "## Create Container Image and Save it on Google Registry"
   ]
  },
  {
   "cell_type": "markdown",
   "id": "58d2fa74-cb4d-4c90-a51a-ebae64589615",
   "metadata": {},
   "source": [
    "![](../images/ml-artifacts-2.jpg)"
   ]
  },
  {
   "cell_type": "code",
   "execution_count": 4,
   "id": "1c9b9d63-f612-4e5a-b934-dca09badd3e3",
   "metadata": {},
   "outputs": [],
   "source": [
    "!rm -fr app\n",
    "!mkdir app"
   ]
  },
  {
   "cell_type": "code",
   "execution_count": 13,
   "id": "571f5c24-d442-4606-9a1e-cd232abe0475",
   "metadata": {},
   "outputs": [
    {
     "name": "stdout",
     "output_type": "stream",
     "text": [
      "/home/atreides/predictions\n"
     ]
    }
   ],
   "source": [
    "!pwd"
   ]
  },
  {
   "cell_type": "code",
   "execution_count": 19,
   "id": "60f29925-e732-4e95-a1ca-c2e058337b79",
   "metadata": {},
   "outputs": [
    {
     "name": "stdout",
     "output_type": "stream",
     "text": [
      "Overwriting app/main.py\n"
     ]
    }
   ],
   "source": [
    "%%writefile app/main.py\n",
    "from fastapi import Request, FastAPI\n",
    "from tensorflow import keras\n",
    "import json\n",
    "import os\n",
    "\n",
    "app = FastAPI()\n",
    "\n",
    "model = keras.models.load_model('.')\n",
    "\n",
    "@app.get('/')\n",
    "def get_root():\n",
    "    return {'message': 'Welcome mpg API: miles per gallon prediction'}\n",
    "\n",
    "\n",
    "@app.get('/health_check')\n",
    "def health():\n",
    "    return 200\n",
    "\n",
    "\n",
    "if os.environ.get('AIP_PREDICT_ROUTE') is not None:\n",
    "    method = os.environ['AIP_PREDICT_ROUTE']\n",
    "else:\n",
    "    method = '/predict'\n",
    "\n",
    "print(method)\n",
    "@app.post(method)\n",
    "async def predict(request: Request):\n",
    "    print(\"----------------- PREDICTING -----------------\")\n",
    "    body = await request.json()\n",
    "    instances = body[\"instances\"]\n",
    "    outputs = model.predict(instances)\n",
    "    response = outputs.tolist()\n",
    "    print(\"----------------- OUTPUTS -----------------\")\n",
    "\n",
    "    return {\"predictions\": response}"
   ]
  },
  {
   "cell_type": "code",
   "execution_count": 9,
   "id": "d57f1acf-87f3-4713-8870-eb28df3a2811",
   "metadata": {},
   "outputs": [
    {
     "name": "stdout",
     "output_type": "stream",
     "text": [
      "Overwriting Dockerfile\n"
     ]
    }
   ],
   "source": [
    "%%writefile Dockerfile\n",
    "FROM tiangolo/uvicorn-gunicorn-fastapi:python3.7\n",
    "\n",
    "COPY train /app\n",
    "COPY app /app\n",
    "WORKDIR /app\n",
    "RUN pip install sklearn joblib pandas tensorflow\n",
    "CMD [\"uvicorn\", \"main:app\", \"--host\", \"0.0.0.0\", \"--port\", \"8080\"]\n",
    "\n",
    "EXPOSE 8080"
   ]
  },
  {
   "cell_type": "code",
   "execution_count": 10,
   "id": "13727e20-762a-49fb-b160-ed4b0e31a0d7",
   "metadata": {
    "scrolled": true,
    "tags": []
   },
   "outputs": [
    {
     "name": "stdout",
     "output_type": "stream",
     "text": [
      "Creating temporary tarball archive of 14 file(s) totalling 393.4 KiB before compression.\n",
      "Uploading tarball of [.] to [gs://jchavezar-demo_cloudbuild/source/1675355149.937054-03dbb02a05ba4e03b6de070722869b30.tgz]\n",
      "Created [https://cloudbuild.googleapis.com/v1/projects/jchavezar-demo/locations/global/builds/d2c8e558-5b0d-4e35-a51f-721e1d89948e].\n",
      "Logs are available at [ https://console.cloud.google.com/cloud-build/builds/d2c8e558-5b0d-4e35-a51f-721e1d89948e?project=569083142710 ].\n",
      "----------------------------- REMOTE BUILD OUTPUT ------------------------------\n",
      "starting build \"d2c8e558-5b0d-4e35-a51f-721e1d89948e\"\n",
      "\n",
      "FETCHSOURCE\n",
      "Fetching storage object: gs://jchavezar-demo_cloudbuild/source/1675355149.937054-03dbb02a05ba4e03b6de070722869b30.tgz#1675355150168811\n",
      "Copying gs://jchavezar-demo_cloudbuild/source/1675355149.937054-03dbb02a05ba4e03b6de070722869b30.tgz#1675355150168811...\n",
      "/ [1 files][205.0 KiB/205.0 KiB]                                                \n",
      "Operation completed over 1 objects/205.0 KiB.\n",
      "BUILD\n",
      "Already have image (with digest): gcr.io/cloud-builders/docker\n",
      "Sending build context to Docker daemon  419.3kB\n",
      "Step 1/7 : FROM tiangolo/uvicorn-gunicorn-fastapi:python3.7\n",
      "python3.7: Pulling from tiangolo/uvicorn-gunicorn-fastapi\n",
      "bbeef03cda1f: Already exists\n",
      "f049f75f014e: Already exists\n",
      "56261d0e6b05: Already exists\n",
      "9bd150679dbd: Already exists\n",
      "5b282ee9da04: Already exists\n",
      "03f027d5e312: Already exists\n",
      "0ea9f83baea6: Pulling fs layer\n",
      "c7aa48634589: Pulling fs layer\n",
      "0e6a1071cff6: Pulling fs layer\n",
      "cda96f6684fb: Pulling fs layer\n",
      "43abb64ffa5e: Pulling fs layer\n",
      "57185d57e74d: Pulling fs layer\n",
      "774a06429c8b: Pulling fs layer\n",
      "59041ebce779: Pulling fs layer\n",
      "b16f78273812: Pulling fs layer\n",
      "85a92ce532da: Pulling fs layer\n",
      "cda96f6684fb: Waiting\n",
      "43abb64ffa5e: Waiting\n",
      "57185d57e74d: Waiting\n",
      "774a06429c8b: Waiting\n",
      "59041ebce779: Waiting\n",
      "b16f78273812: Waiting\n",
      "65718fcc47ee: Pulling fs layer\n",
      "ad7b87e6b52e: Pulling fs layer\n",
      "bd673b9b9014: Pulling fs layer\n",
      "5dfc5da02c33: Pulling fs layer\n",
      "85a92ce532da: Waiting\n",
      "65718fcc47ee: Waiting\n",
      "ad7b87e6b52e: Waiting\n",
      "bd673b9b9014: Waiting\n",
      "5dfc5da02c33: Waiting\n",
      "c7aa48634589: Verifying Checksum\n",
      "c7aa48634589: Download complete\n",
      "0e6a1071cff6: Verifying Checksum\n",
      "0e6a1071cff6: Download complete\n",
      "cda96f6684fb: Verifying Checksum\n",
      "cda96f6684fb: Download complete\n",
      "0ea9f83baea6: Verifying Checksum\n",
      "0ea9f83baea6: Download complete\n",
      "57185d57e74d: Verifying Checksum\n",
      "57185d57e74d: Download complete\n",
      "43abb64ffa5e: Verifying Checksum\n",
      "43abb64ffa5e: Download complete\n",
      "774a06429c8b: Verifying Checksum\n",
      "774a06429c8b: Download complete\n",
      "59041ebce779: Verifying Checksum\n",
      "59041ebce779: Download complete\n",
      "b16f78273812: Verifying Checksum\n",
      "b16f78273812: Download complete\n",
      "85a92ce532da: Verifying Checksum\n",
      "85a92ce532da: Download complete\n",
      "65718fcc47ee: Download complete\n",
      "ad7b87e6b52e: Verifying Checksum\n",
      "ad7b87e6b52e: Download complete\n",
      "5dfc5da02c33: Download complete\n",
      "bd673b9b9014: Verifying Checksum\n",
      "bd673b9b9014: Download complete\n",
      "0ea9f83baea6: Pull complete\n",
      "c7aa48634589: Pull complete\n",
      "0e6a1071cff6: Pull complete\n",
      "cda96f6684fb: Pull complete\n",
      "43abb64ffa5e: Pull complete\n",
      "57185d57e74d: Pull complete\n",
      "774a06429c8b: Pull complete\n",
      "59041ebce779: Pull complete\n",
      "b16f78273812: Pull complete\n",
      "85a92ce532da: Pull complete\n",
      "65718fcc47ee: Pull complete\n",
      "ad7b87e6b52e: Pull complete\n",
      "bd673b9b9014: Pull complete\n",
      "5dfc5da02c33: Pull complete\n",
      "Digest: sha256:09bb4d9bc8f58ace504fbc8f3478d03459529ad099f626e9fde248084675d5b4\n",
      "Status: Downloaded newer image for tiangolo/uvicorn-gunicorn-fastapi:python3.7\n",
      " ---> fbed7ab11094\n",
      "Step 2/7 : COPY train /app\n",
      " ---> cd8be6dcba11\n",
      "Step 3/7 : COPY app /app\n",
      " ---> 3968b5a48054\n",
      "Step 4/7 : WORKDIR /app\n",
      " ---> Running in 37905d3eff6e\n",
      "Removing intermediate container 37905d3eff6e\n",
      " ---> a9558e94002c\n",
      "Step 5/7 : RUN pip install sklearn joblib pandas tensorflow\n",
      " ---> Running in 55cbfc91db33\n",
      "Collecting sklearn\n",
      "  Downloading sklearn-0.0.post1.tar.gz (3.6 kB)\n",
      "  Preparing metadata (setup.py): started\n",
      "  Preparing metadata (setup.py): finished with status 'done'\n",
      "Collecting joblib\n",
      "  Downloading joblib-1.2.0-py3-none-any.whl (297 kB)\n",
      "     ━━━━━━━━━━━━━━━━━━━━━━━━━━━━━━━━━━━━━━ 298.0/298.0 KB 24.8 MB/s eta 0:00:00\n",
      "Collecting pandas\n",
      "  Downloading pandas-1.3.5-cp37-cp37m-manylinux_2_17_x86_64.manylinux2014_x86_64.whl (11.3 MB)\n",
      "     ━━━━━━━━━━━━━━━━━━━━━━━━━━━━━━━━━━━━━━━━ 11.3/11.3 MB 45.6 MB/s eta 0:00:00\n",
      "Collecting tensorflow\n",
      "  Downloading tensorflow-2.11.0-cp37-cp37m-manylinux_2_17_x86_64.manylinux2014_x86_64.whl (588.3 MB)\n",
      "     ━━━━━━━━━━━━━━━━━━━━━━━━━━━━━━━━━━━━━━━ 588.3/588.3 MB 2.1 MB/s eta 0:00:00\n",
      "Collecting python-dateutil>=2.7.3\n",
      "  Downloading python_dateutil-2.8.2-py2.py3-none-any.whl (247 kB)\n",
      "     ━━━━━━━━━━━━━━━━━━━━━━━━━━━━━━━━━━━━━━ 247.7/247.7 KB 27.5 MB/s eta 0:00:00\n",
      "Collecting pytz>=2017.3\n",
      "  Downloading pytz-2022.7.1-py2.py3-none-any.whl (499 kB)\n",
      "     ━━━━━━━━━━━━━━━━━━━━━━━━━━━━━━━━━━━━━━ 499.4/499.4 KB 44.8 MB/s eta 0:00:00\n",
      "Collecting numpy>=1.17.3\n",
      "  Downloading numpy-1.21.6-cp37-cp37m-manylinux_2_12_x86_64.manylinux2010_x86_64.whl (15.7 MB)\n",
      "     ━━━━━━━━━━━━━━━━━━━━━━━━━━━━━━━━━━━━━━━━ 15.7/15.7 MB 40.4 MB/s eta 0:00:00\n",
      "Collecting libclang>=13.0.0\n",
      "  Downloading libclang-15.0.6.1-py2.py3-none-manylinux2010_x86_64.whl (21.5 MB)\n",
      "     ━━━━━━━━━━━━━━━━━━━━━━━━━━━━━━━━━━━━━━━━ 21.5/21.5 MB 38.9 MB/s eta 0:00:00\n",
      "Requirement already satisfied: six>=1.12.0 in /usr/local/lib/python3.7/site-packages (from tensorflow) (1.16.0)\n",
      "Collecting tensorboard<2.12,>=2.11\n",
      "  Downloading tensorboard-2.11.2-py3-none-any.whl (6.0 MB)\n",
      "     ━━━━━━━━━━━━━━━━━━━━━━━━━━━━━━━━━━━━━━━━ 6.0/6.0 MB 59.3 MB/s eta 0:00:00\n",
      "Collecting packaging\n",
      "  Downloading packaging-23.0-py3-none-any.whl (42 kB)\n",
      "     ━━━━━━━━━━━━━━━━━━━━━━━━━━━━━━━━━━━━━━━━ 42.7/42.7 KB 6.0 MB/s eta 0:00:00\n",
      "Collecting termcolor>=1.1.0\n",
      "  Downloading termcolor-2.2.0-py3-none-any.whl (6.6 kB)\n",
      "Collecting absl-py>=1.0.0\n",
      "  Downloading absl_py-1.4.0-py3-none-any.whl (126 kB)\n",
      "     ━━━━━━━━━━━━━━━━━━━━━━━━━━━━━━━━━━━━━━ 126.5/126.5 KB 15.1 MB/s eta 0:00:00\n",
      "Collecting gast<=0.4.0,>=0.2.1\n",
      "  Downloading gast-0.4.0-py3-none-any.whl (9.8 kB)\n",
      "Collecting protobuf<3.20,>=3.9.2\n",
      "  Downloading protobuf-3.19.6-cp37-cp37m-manylinux_2_17_x86_64.manylinux2014_x86_64.whl (1.1 MB)\n",
      "     ━━━━━━━━━━━━━━━━━━━━━━━━━━━━━━━━━━━━━━━━ 1.1/1.1 MB 65.2 MB/s eta 0:00:00\n",
      "Collecting tensorflow-estimator<2.12,>=2.11.0\n",
      "  Downloading tensorflow_estimator-2.11.0-py2.py3-none-any.whl (439 kB)\n",
      "     ━━━━━━━━━━━━━━━━━━━━━━━━━━━━━━━━━━━━━━ 439.2/439.2 KB 42.7 MB/s eta 0:00:00\n",
      "Collecting h5py>=2.9.0\n",
      "  Downloading h5py-3.8.0-cp37-cp37m-manylinux_2_17_x86_64.manylinux2014_x86_64.whl (4.3 MB)\n",
      "     ━━━━━━━━━━━━━━━━━━━━━━━━━━━━━━━━━━━━━━━━ 4.3/4.3 MB 72.5 MB/s eta 0:00:00\n",
      "Collecting opt-einsum>=2.3.2\n",
      "  Downloading opt_einsum-3.3.0-py3-none-any.whl (65 kB)\n",
      "     ━━━━━━━━━━━━━━━━━━━━━━━━━━━━━━━━━━━━━━━━ 65.5/65.5 KB 10.9 MB/s eta 0:00:00\n",
      "Requirement already satisfied: setuptools in /usr/local/lib/python3.7/site-packages (from tensorflow) (57.5.0)\n",
      "Collecting grpcio<2.0,>=1.24.3\n",
      "  Downloading grpcio-1.51.1-cp37-cp37m-manylinux_2_17_x86_64.manylinux2014_x86_64.whl (4.8 MB)\n",
      "     ━━━━━━━━━━━━━━━━━━━━━━━━━━━━━━━━━━━━━━━━ 4.8/4.8 MB 53.9 MB/s eta 0:00:00\n",
      "Collecting keras<2.12,>=2.11.0\n",
      "  Downloading keras-2.11.0-py2.py3-none-any.whl (1.7 MB)\n",
      "     ━━━━━━━━━━━━━━━━━━━━━━━━━━━━━━━━━━━━━━━━ 1.7/1.7 MB 69.8 MB/s eta 0:00:00\n",
      "Collecting tensorflow-io-gcs-filesystem>=0.23.1\n",
      "  Downloading tensorflow_io_gcs_filesystem-0.30.0-cp37-cp37m-manylinux_2_12_x86_64.manylinux2010_x86_64.whl (2.4 MB)\n",
      "     ━━━━━━━━━━━━━━━━━━━━━━━━━━━━━━━━━━━━━━━━ 2.4/2.4 MB 80.8 MB/s eta 0:00:00\n",
      "Collecting astunparse>=1.6.0\n",
      "  Downloading astunparse-1.6.3-py2.py3-none-any.whl (12 kB)\n",
      "Collecting google-pasta>=0.1.1\n",
      "  Downloading google_pasta-0.2.0-py3-none-any.whl (57 kB)\n",
      "     ━━━━━━━━━━━━━━━━━━━━━━━━━━━━━━━━━━━━━━━━ 57.5/57.5 KB 9.4 MB/s eta 0:00:00\n",
      "Requirement already satisfied: typing-extensions>=3.6.6 in /usr/local/lib/python3.7/site-packages (from tensorflow) (4.4.0)\n",
      "Collecting wrapt>=1.11.0\n",
      "  Downloading wrapt-1.14.1-cp37-cp37m-manylinux_2_5_x86_64.manylinux1_x86_64.manylinux_2_17_x86_64.manylinux2014_x86_64.whl (75 kB)\n",
      "     ━━━━━━━━━━━━━━━━━━━━━━━━━━━━━━━━━━━━━━━━ 75.2/75.2 KB 11.6 MB/s eta 0:00:00\n",
      "Collecting flatbuffers>=2.0\n",
      "  Downloading flatbuffers-23.1.21-py2.py3-none-any.whl (26 kB)\n",
      "Requirement already satisfied: wheel<1.0,>=0.23.0 in /usr/local/lib/python3.7/site-packages (from astunparse>=1.6.0->tensorflow) (0.38.4)\n",
      "Collecting tensorboard-data-server<0.7.0,>=0.6.0\n",
      "  Downloading tensorboard_data_server-0.6.1-py3-none-manylinux2010_x86_64.whl (4.9 MB)\n",
      "     ━━━━━━━━━━━━━━━━━━━━━━━━━━━━━━━━━━━━━━━━ 4.9/4.9 MB 47.8 MB/s eta 0:00:00\n",
      "Collecting google-auth<3,>=1.6.3\n",
      "  Downloading google_auth-2.16.0-py2.py3-none-any.whl (177 kB)\n",
      "     ━━━━━━━━━━━━━━━━━━━━━━━━━━━━━━━━━━━━━━ 177.8/177.8 KB 25.2 MB/s eta 0:00:00\n",
      "Collecting tensorboard-plugin-wit>=1.6.0\n",
      "  Downloading tensorboard_plugin_wit-1.8.1-py3-none-any.whl (781 kB)\n",
      "     ━━━━━━━━━━━━━━━━━━━━━━━━━━━━━━━━━━━━━━ 781.3/781.3 KB 56.7 MB/s eta 0:00:00\n",
      "Collecting markdown>=2.6.8\n",
      "  Downloading Markdown-3.4.1-py3-none-any.whl (93 kB)\n",
      "     ━━━━━━━━━━━━━━━━━━━━━━━━━━━━━━━━━━━━━━━━ 93.3/93.3 KB 14.3 MB/s eta 0:00:00\n",
      "Collecting werkzeug>=1.0.1\n",
      "  Downloading Werkzeug-2.2.2-py3-none-any.whl (232 kB)\n",
      "     ━━━━━━━━━━━━━━━━━━━━━━━━━━━━━━━━━━━━━━ 232.7/232.7 KB 30.8 MB/s eta 0:00:00\n",
      "Collecting requests<3,>=2.21.0\n",
      "  Downloading requests-2.28.2-py3-none-any.whl (62 kB)\n",
      "     ━━━━━━━━━━━━━━━━━━━━━━━━━━━━━━━━━━━━━━━━ 62.8/62.8 KB 9.1 MB/s eta 0:00:00\n",
      "Collecting google-auth-oauthlib<0.5,>=0.4.1\n",
      "  Downloading google_auth_oauthlib-0.4.6-py2.py3-none-any.whl (18 kB)\n",
      "Collecting rsa<5,>=3.1.4\n",
      "  Downloading rsa-4.9-py3-none-any.whl (34 kB)\n",
      "Collecting cachetools<6.0,>=2.0.0\n",
      "  Downloading cachetools-5.3.0-py3-none-any.whl (9.3 kB)\n",
      "Collecting pyasn1-modules>=0.2.1\n",
      "  Downloading pyasn1_modules-0.2.8-py2.py3-none-any.whl (155 kB)\n",
      "     ━━━━━━━━━━━━━━━━━━━━━━━━━━━━━━━━━━━━━━ 155.3/155.3 KB 24.9 MB/s eta 0:00:00\n",
      "Collecting requests-oauthlib>=0.7.0\n",
      "  Downloading requests_oauthlib-1.3.1-py2.py3-none-any.whl (23 kB)\n",
      "Requirement already satisfied: importlib-metadata>=4.4 in /usr/local/lib/python3.7/site-packages (from markdown>=2.6.8->tensorboard<2.12,>=2.11->tensorflow) (6.0.0)\n",
      "Collecting charset-normalizer<4,>=2\n",
      "  Downloading charset_normalizer-3.0.1-cp37-cp37m-manylinux_2_17_x86_64.manylinux2014_x86_64.whl (170 kB)\n",
      "     ━━━━━━━━━━━━━━━━━━━━━━━━━━━━━━━━━━━━━━ 170.5/170.5 KB 22.7 MB/s eta 0:00:00\n",
      "Requirement already satisfied: certifi>=2017.4.17 in /usr/local/lib/python3.7/site-packages (from requests<3,>=2.21.0->tensorboard<2.12,>=2.11->tensorflow) (2022.12.7)\n",
      "Collecting urllib3<1.27,>=1.21.1\n",
      "  Downloading urllib3-1.26.14-py2.py3-none-any.whl (140 kB)\n",
      "     ━━━━━━━━━━━━━━━━━━━━━━━━━━━━━━━━━━━━━━ 140.6/140.6 KB 20.3 MB/s eta 0:00:00\n",
      "Requirement already satisfied: idna<4,>=2.5 in /usr/local/lib/python3.7/site-packages (from requests<3,>=2.21.0->tensorboard<2.12,>=2.11->tensorflow) (3.4)\n",
      "Requirement already satisfied: MarkupSafe>=2.1.1 in /usr/local/lib/python3.7/site-packages (from werkzeug>=1.0.1->tensorboard<2.12,>=2.11->tensorflow) (2.1.2)\n",
      "Requirement already satisfied: zipp>=0.5 in /usr/local/lib/python3.7/site-packages (from importlib-metadata>=4.4->markdown>=2.6.8->tensorboard<2.12,>=2.11->tensorflow) (3.11.0)\n",
      "Collecting pyasn1<0.5.0,>=0.4.6\n",
      "  Downloading pyasn1-0.4.8-py2.py3-none-any.whl (77 kB)\n",
      "     ━━━━━━━━━━━━━━━━━━━━━━━━━━━━━━━━━━━━━━━━ 77.1/77.1 KB 10.6 MB/s eta 0:00:00\n",
      "Collecting oauthlib>=3.0.0\n",
      "  Downloading oauthlib-3.2.2-py3-none-any.whl (151 kB)\n",
      "     ━━━━━━━━━━━━━━━━━━━━━━━━━━━━━━━━━━━━━━ 151.7/151.7 KB 22.5 MB/s eta 0:00:00\n",
      "Building wheels for collected packages: sklearn\n",
      "  Building wheel for sklearn (setup.py): started\n",
      "  Building wheel for sklearn (setup.py): finished with status 'done'\n",
      "  Created wheel for sklearn: filename=sklearn-0.0.post1-py3-none-any.whl size=2344 sha256=8e1ebc2bab3a6a7236ea75c8dfc771b1e720d30a855aaf5eef405bd0d1bab316\n",
      "  Stored in directory: /root/.cache/pip/wheels/42/56/cc/4a8bf86613aafd5b7f1b310477667c1fca5c51c3ae4124a003\n",
      "Successfully built sklearn\n",
      "Installing collected packages: tensorboard-plugin-wit, sklearn, pytz, pyasn1, libclang, flatbuffers, charset-normalizer, wrapt, werkzeug, urllib3, termcolor, tensorflow-io-gcs-filesystem, tensorflow-estimator, tensorboard-data-server, rsa, python-dateutil, pyasn1-modules, protobuf, packaging, oauthlib, numpy, keras, joblib, grpcio, google-pasta, gast, cachetools, astunparse, absl-py, requests, pandas, opt-einsum, markdown, h5py, google-auth, requests-oauthlib, google-auth-oauthlib, tensorboard, tensorflow\n",
      "Successfully installed absl-py-1.4.0 astunparse-1.6.3 cachetools-5.3.0 charset-normalizer-3.0.1 flatbuffers-23.1.21 gast-0.4.0 google-auth-2.16.0 google-auth-oauthlib-0.4.6 google-pasta-0.2.0 grpcio-1.51.1 h5py-3.8.0 joblib-1.2.0 keras-2.11.0 libclang-15.0.6.1 markdown-3.4.1 numpy-1.21.6 oauthlib-3.2.2 opt-einsum-3.3.0 packaging-23.0 pandas-1.3.5 protobuf-3.19.6 pyasn1-0.4.8 pyasn1-modules-0.2.8 python-dateutil-2.8.2 pytz-2022.7.1 requests-2.28.2 requests-oauthlib-1.3.1 rsa-4.9 sklearn-0.0.post1 tensorboard-2.11.2 tensorboard-data-server-0.6.1 tensorboard-plugin-wit-1.8.1 tensorflow-2.11.0 tensorflow-estimator-2.11.0 tensorflow-io-gcs-filesystem-0.30.0 termcolor-2.2.0 urllib3-1.26.14 werkzeug-2.2.2 wrapt-1.14.1\n",
      "\u001b[91mWARNING: Running pip as the 'root' user can result in broken permissions and conflicting behaviour with the system package manager. It is recommended to use a virtual environment instead: https://pip.pypa.io/warnings/venv\n",
      "\u001b[0m\u001b[91mWARNING: You are using pip version 22.0.4; however, version 23.0 is available.\n",
      "You should consider upgrading via the '/usr/local/bin/python -m pip install --upgrade pip' command.\n",
      "\u001b[0mRemoving intermediate container 55cbfc91db33\n",
      " ---> 59b6b2cb34c7\n",
      "Step 6/7 : CMD [\"uvicorn\", \"main:app\", \"--host\", \"0.0.0.0\", \"--port\", \"8080\"]\n",
      " ---> Running in 75a3dce69887\n",
      "Removing intermediate container 75a3dce69887\n",
      " ---> 076c89b317ef\n",
      "Step 7/7 : EXPOSE 8080\n",
      " ---> Running in bca7ba31c219\n",
      "Removing intermediate container bca7ba31c219\n",
      " ---> 990d15f6a4c2\n",
      "Successfully built 990d15f6a4c2\n",
      "Successfully tagged gcr.io/jchavezar-demo/custom-local-train:v1\n",
      "PUSH\n",
      "Pushing gcr.io/jchavezar-demo/custom-local-train:v1\n",
      "The push refers to repository [gcr.io/jchavezar-demo/custom-local-train]\n",
      "dfb4f575105c: Preparing\n",
      "be7ea46f110b: Preparing\n",
      "04077d040adb: Preparing\n",
      "3298ab272306: Preparing\n",
      "840df0887020: Preparing\n",
      "771ec8aea97d: Preparing\n",
      "eac3ce7d25fc: Preparing\n",
      "eb1c527cf1b8: Preparing\n",
      "c388e0d26c73: Preparing\n",
      "7a723605e383: Preparing\n",
      "da7863621d1e: Preparing\n",
      "603e0e93b469: Preparing\n",
      "575d29c2fa08: Preparing\n",
      "971add86a133: Preparing\n",
      "77a1684595a2: Preparing\n",
      "cb98838708ff: Preparing\n",
      "3138b3135f78: Preparing\n",
      "dc6462f7bb8b: Preparing\n",
      "a4db1a405763: Preparing\n",
      "9f4f964da727: Preparing\n",
      "49b333f7bad4: Preparing\n",
      "a463dbda4664: Preparing\n",
      "a9099c3159f5: Preparing\n",
      "575d29c2fa08: Waiting\n",
      "971add86a133: Waiting\n",
      "77a1684595a2: Waiting\n",
      "cb98838708ff: Waiting\n",
      "3138b3135f78: Waiting\n",
      "dc6462f7bb8b: Waiting\n",
      "a4db1a405763: Waiting\n",
      "9f4f964da727: Waiting\n",
      "49b333f7bad4: Waiting\n",
      "a463dbda4664: Waiting\n",
      "771ec8aea97d: Waiting\n",
      "eac3ce7d25fc: Waiting\n",
      "eb1c527cf1b8: Waiting\n",
      "c388e0d26c73: Waiting\n",
      "7a723605e383: Waiting\n",
      "da7863621d1e: Waiting\n",
      "603e0e93b469: Waiting\n",
      "a9099c3159f5: Waiting\n",
      "840df0887020: Layer already exists\n",
      "3298ab272306: Layer already exists\n",
      "eac3ce7d25fc: Layer already exists\n",
      "771ec8aea97d: Layer already exists\n",
      "c388e0d26c73: Layer already exists\n",
      "eb1c527cf1b8: Layer already exists\n",
      "7a723605e383: Layer already exists\n",
      "da7863621d1e: Layer already exists\n",
      "603e0e93b469: Layer already exists\n",
      "575d29c2fa08: Layer already exists\n",
      "77a1684595a2: Layer already exists\n",
      "971add86a133: Layer already exists\n",
      "cb98838708ff: Layer already exists\n",
      "3138b3135f78: Layer already exists\n",
      "dc6462f7bb8b: Layer already exists\n",
      "a4db1a405763: Layer already exists\n",
      "9f4f964da727: Layer already exists\n",
      "49b333f7bad4: Layer already exists\n",
      "a9099c3159f5: Layer already exists\n",
      "a463dbda4664: Layer already exists\n",
      "04077d040adb: Pushed\n",
      "be7ea46f110b: Pushed\n",
      "dfb4f575105c: Pushed\n",
      "v1: digest: sha256:46ebb038de71aad3504488a3dd9b8d55e2877527b7b3ae3c7ce55a5ad07ee70b size: 5135\n",
      "DONE\n",
      "--------------------------------------------------------------------------------\n",
      "ID                                    CREATE_TIME                DURATION  SOURCE                                                                                        IMAGES                                       STATUS\n",
      "d2c8e558-5b0d-4e35-a51f-721e1d89948e  2023-02-02T16:25:50+00:00  4M22S     gs://jchavezar-demo_cloudbuild/source/1675355149.937054-03dbb02a05ba4e03b6de070722869b30.tgz  gcr.io/jchavezar-demo/custom-local-train:v1  SUCCESS\n"
     ]
    }
   ],
   "source": [
    "!gcloud builds submit -t gcr.io/jchavezar-demo/custom-local-train:v1 ."
   ]
  },
  {
   "cell_type": "markdown",
   "id": "772d1f79-8f3a-44ab-bcd8-7973628446f1",
   "metadata": {},
   "source": [
    "## Upload Image to Model Registry"
   ]
  },
  {
   "cell_type": "code",
   "execution_count": 17,
   "id": "b84f4a9d-7359-4f28-903f-acfd1df751d2",
   "metadata": {},
   "outputs": [
    {
     "name": "stdout",
     "output_type": "stream",
     "text": [
      "Creating Model\n"
     ]
    },
    {
     "name": "stderr",
     "output_type": "stream",
     "text": [
      "INFO:google.cloud.aiplatform.models:Creating Model\n"
     ]
    },
    {
     "name": "stdout",
     "output_type": "stream",
     "text": [
      "Create Model backing LRO: projects/569083142710/locations/us-central1/models/8478890514664390656/operations/5970245678083866624\n"
     ]
    },
    {
     "name": "stderr",
     "output_type": "stream",
     "text": [
      "INFO:google.cloud.aiplatform.models:Create Model backing LRO: projects/569083142710/locations/us-central1/models/8478890514664390656/operations/5970245678083866624\n"
     ]
    },
    {
     "name": "stdout",
     "output_type": "stream",
     "text": [
      "Model created. Resource name: projects/569083142710/locations/us-central1/models/8478890514664390656@1\n"
     ]
    },
    {
     "name": "stderr",
     "output_type": "stream",
     "text": [
      "INFO:google.cloud.aiplatform.models:Model created. Resource name: projects/569083142710/locations/us-central1/models/8478890514664390656@1\n"
     ]
    },
    {
     "name": "stdout",
     "output_type": "stream",
     "text": [
      "To use this Model in another session:\n"
     ]
    },
    {
     "name": "stderr",
     "output_type": "stream",
     "text": [
      "INFO:google.cloud.aiplatform.models:To use this Model in another session:\n"
     ]
    },
    {
     "name": "stdout",
     "output_type": "stream",
     "text": [
      "model = aiplatform.Model('projects/569083142710/locations/us-central1/models/8478890514664390656@1')\n"
     ]
    },
    {
     "name": "stderr",
     "output_type": "stream",
     "text": [
      "INFO:google.cloud.aiplatform.models:model = aiplatform.Model('projects/569083142710/locations/us-central1/models/8478890514664390656@1')\n"
     ]
    }
   ],
   "source": [
    "from google.cloud import aiplatform as aip\n",
    "\n",
    "my_model = aip.Model.upload(\n",
    "    display_name=\"my-model-latest\", \n",
    "    serving_container_ports=[8080],\n",
    "    serving_container_health_route=\"/health_check\",\n",
    "    serving_container_image_uri=\"gcr.io/jchavezar-demo/custom-local-train:v1\")"
   ]
  },
  {
   "cell_type": "markdown",
   "id": "9fbfdec9-6c46-4552-9e54-90cd9c374fdb",
   "metadata": {
    "tags": []
   },
   "source": [
    "## Deploy on Vertex Endpoints"
   ]
  },
  {
   "cell_type": "markdown",
   "id": "e6236ebb-1ba5-472f-81ea-3c15eda667a4",
   "metadata": {},
   "source": [
    "![](images/ml-artifacts-3.jpg)"
   ]
  },
  {
   "cell_type": "code",
   "execution_count": 18,
   "id": "e2fdb9e7-6353-48db-b958-8bb319f96231",
   "metadata": {},
   "outputs": [
    {
     "name": "stdout",
     "output_type": "stream",
     "text": [
      "Creating Endpoint\n"
     ]
    },
    {
     "name": "stderr",
     "output_type": "stream",
     "text": [
      "INFO:google.cloud.aiplatform.models:Creating Endpoint\n"
     ]
    },
    {
     "name": "stdout",
     "output_type": "stream",
     "text": [
      "Create Endpoint backing LRO: projects/569083142710/locations/us-central1/endpoints/6297919041017217024/operations/284451148528615424\n"
     ]
    },
    {
     "name": "stderr",
     "output_type": "stream",
     "text": [
      "INFO:google.cloud.aiplatform.models:Create Endpoint backing LRO: projects/569083142710/locations/us-central1/endpoints/6297919041017217024/operations/284451148528615424\n"
     ]
    },
    {
     "name": "stdout",
     "output_type": "stream",
     "text": [
      "Endpoint created. Resource name: projects/569083142710/locations/us-central1/endpoints/6297919041017217024\n"
     ]
    },
    {
     "name": "stderr",
     "output_type": "stream",
     "text": [
      "INFO:google.cloud.aiplatform.models:Endpoint created. Resource name: projects/569083142710/locations/us-central1/endpoints/6297919041017217024\n"
     ]
    },
    {
     "name": "stdout",
     "output_type": "stream",
     "text": [
      "To use this Endpoint in another session:\n"
     ]
    },
    {
     "name": "stderr",
     "output_type": "stream",
     "text": [
      "INFO:google.cloud.aiplatform.models:To use this Endpoint in another session:\n"
     ]
    },
    {
     "name": "stdout",
     "output_type": "stream",
     "text": [
      "endpoint = aiplatform.Endpoint('projects/569083142710/locations/us-central1/endpoints/6297919041017217024')\n"
     ]
    },
    {
     "name": "stderr",
     "output_type": "stream",
     "text": [
      "INFO:google.cloud.aiplatform.models:endpoint = aiplatform.Endpoint('projects/569083142710/locations/us-central1/endpoints/6297919041017217024')\n"
     ]
    },
    {
     "name": "stdout",
     "output_type": "stream",
     "text": [
      "Deploying model to Endpoint : projects/569083142710/locations/us-central1/endpoints/6297919041017217024\n"
     ]
    },
    {
     "name": "stderr",
     "output_type": "stream",
     "text": [
      "INFO:google.cloud.aiplatform.models:Deploying model to Endpoint : projects/569083142710/locations/us-central1/endpoints/6297919041017217024\n"
     ]
    },
    {
     "name": "stdout",
     "output_type": "stream",
     "text": [
      "Deploy Endpoint model backing LRO: projects/569083142710/locations/us-central1/endpoints/6297919041017217024/operations/1498171248104964096\n"
     ]
    },
    {
     "name": "stderr",
     "output_type": "stream",
     "text": [
      "INFO:google.cloud.aiplatform.models:Deploy Endpoint model backing LRO: projects/569083142710/locations/us-central1/endpoints/6297919041017217024/operations/1498171248104964096\n"
     ]
    },
    {
     "name": "stdout",
     "output_type": "stream",
     "text": [
      "Endpoint model deployed. Resource name: projects/569083142710/locations/us-central1/endpoints/6297919041017217024\n"
     ]
    },
    {
     "name": "stderr",
     "output_type": "stream",
     "text": [
      "INFO:google.cloud.aiplatform.models:Endpoint model deployed. Resource name: projects/569083142710/locations/us-central1/endpoints/6297919041017217024\n"
     ]
    },
    {
     "data": {
      "text/plain": [
       "<google.cloud.aiplatform.models.Endpoint object at 0x7d52a49f5a60> \n",
       "resource name: projects/569083142710/locations/us-central1/endpoints/6297919041017217024"
      ]
     },
     "execution_count": 18,
     "metadata": {},
     "output_type": "execute_result"
    }
   ],
   "source": [
    "my_model.deploy(\n",
    "    deployed_model_display_name='local-model',\n",
    "    machine_type='n1-standard-4'\n",
    ")"
   ]
  },
  {
   "cell_type": "code",
   "execution_count": null,
   "id": "ddcefe53-50fb-4399-b849-9e24b9642f02",
   "metadata": {},
   "outputs": [],
   "source": []
  }
 ],
 "metadata": {
  "kernelspec": {
   "display_name": "tensorflow",
   "language": "python",
   "name": "tensorflow"
  },
  "language_info": {
   "codemirror_mode": {
    "name": "ipython",
    "version": 3
   },
   "file_extension": ".py",
   "mimetype": "text/x-python",
   "name": "python",
   "nbconvert_exporter": "python",
   "pygments_lexer": "ipython3",
   "version": "3.9.0"
  }
 },
 "nbformat": 4,
 "nbformat_minor": 5
}
