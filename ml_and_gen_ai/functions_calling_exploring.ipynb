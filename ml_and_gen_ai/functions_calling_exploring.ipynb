{
 "cells": [
  {
   "cell_type": "code",
   "execution_count": 2,
   "metadata": {
    "collapsed": true
   },
   "outputs": [],
   "source": [
    "import pickle\n",
    "import vertexai\n",
    "from vertexai.generative_models import (\n",
    "    GenerationConfig,\n",
    "    FunctionDeclaration,\n",
    "    GenerativeModel,\n",
    "    Part,\n",
    "    Tool,\n",
    ")\n",
    "from google.cloud import storage"
   ]
  },
  {
   "cell_type": "code",
   "execution_count": 3,
   "outputs": [],
   "source": [
    "project_id = \"jesusarguelles-sandbox\"\n",
    "location = \"us-central1\""
   ],
   "metadata": {
    "collapsed": false
   }
  },
  {
   "cell_type": "code",
   "execution_count": 4,
   "outputs": [],
   "source": [
    "vertexai.init(project=project_id, location=location)\n",
    "get_product_sku = \"get_product_sku\"\n",
    "bucket = storage.Client(project=\"jesusarguelles-sandbox\").bucket(\"jesusarguelles-datasets-public\")\n",
    "blob = bucket.blob(\"money_laundering_detection/model.pkl\")\n",
    "\n",
    "with blob.open(\"rb\") as f:\n",
    "    api_model = pickle.load(f)\n",
    "f.close()\n",
    "\n",
    "blob = bucket.blob(\"money_laundering_detection/label_encoder.pkl\")\n",
    "\n",
    "with blob.open(\"rb\") as f:\n",
    "    label_mappings = pickle.load(f)"
   ],
   "metadata": {
    "collapsed": false
   }
  },
  {
   "cell_type": "code",
   "execution_count": 5,
   "outputs": [],
   "source": [
    "# Functions\n",
    "\n",
    "get_laundering_prediction = FunctionDeclaration(\n",
    "    name=\"get_laundering_prediction\",\n",
    "    description=\"Get if the money is laundered\",\n",
    "    # Function parameters are specified in OpenAPI JSON schema format\n",
    "    parameters={\n",
    "        \"type\": \"object\",\n",
    "        \"properties\": {\n",
    "            \"segment\": {\"type\": \"integer\", \"description\": \"The segment number\"},\n",
    "            \"step\": {\"type\": \"integer\", \"description\": \"The number of step\"},\n",
    "            \"trans_type\": {\"type\": \"object\", \"description\": \"Transaction Type\"},\n",
    "            \"amount\": {\"type\": \"number\", \"description\": \"The amount of the transaction\", \"format\": \"float\"},\n",
    "            \"nameOrig\": {\"type\": \"object\", \"description\": \"The id, or name of the transfer origin\"},\n",
    "            \"oldbalanceOrg\": {\"type\": \"number\", \"description\": \"The old balance organization number, oldbalancerOrg\", \"format\": \"float\"},\n",
    "            \"nameDest\": {\"type\": \"object\", \"description\": \"Name or id of the transfer destination\"},\n",
    "            \"oldbalanceDest\": {\"type\": \"number\", \"description\": \"old balance destination\", \"format\": \"float\"},\n",
    "            \"accountType\": {\"type\": \"object\", \"description\": \"The account type\"}\n",
    "        },\n",
    "    },\n",
    ")\n",
    "\n",
    "retail_tool = Tool(\n",
    "    function_declarations=[\n",
    "        get_laundering_prediction,\n",
    "    ],\n",
    ")"
   ],
   "metadata": {
    "collapsed": false
   }
  },
  {
   "cell_type": "code",
   "execution_count": 10,
   "outputs": [
    {
     "name": "stdout",
     "output_type": "stream",
     "text": [
      "get_laundering_prediction\n",
      "['trans_type', 'nameOrig', 'nameDest', 'accountType']\n",
      "   segment  step  trans_type    amount  nameOrig  oldbalanceOrg  nameDest  \\\n",
      "0      0.0   2.0           5  18627.02     40991       18627.02      2718   \n",
      "\n",
      "   oldbalanceDest  accountType  \n",
      "0             0.0            1  \n",
      "The model predicts that the money was laundered.\n",
      "The model predicts that the money was laundered.\n"
     ]
    }
   ],
   "source": [
    "import pandas as pd\n",
    "import vertexai.preview.generative_models as generative_models\n",
    "\n",
    "safety_settings = {\n",
    "    generative_models.HarmCategory.HARM_CATEGORY_HATE_SPEECH: generative_models.HarmBlockThreshold.BLOCK_NONE,\n",
    "    generative_models.HarmCategory.HARM_CATEGORY_DANGEROUS_CONTENT: generative_models.HarmBlockThreshold.BLOCK_NONE,\n",
    "    generative_models.HarmCategory.HARM_CATEGORY_SEXUALLY_EXPLICIT: generative_models.HarmBlockThreshold.BLOCK_NONE,\n",
    "    generative_models.HarmCategory.HARM_CATEGORY_HARASSMENT: generative_models.HarmBlockThreshold.BLOCK_NONE,\n",
    "}\n",
    "\n",
    "\n",
    "textsi_1 = \"\"\"Given the following Context respond as follows:\n",
    "- Available tools: get_laundering_prediction\n",
    "\n",
    "    segment: 0,\n",
    "    step: 2,\n",
    "    trans_type: WIRE_OUT,\n",
    "    amount: 18627.02,\n",
    "    nameOrig: C1375503918,\n",
    "    oldbalanceOrg: 18627.02,\n",
    "    nameDest: C234430897,\n",
    "    oldbalanceDest: 0.0,\n",
    "    accountType: FOREIGN\n",
    "1 as laundered, 0 as not.\"\"\"\n",
    "\n",
    "model = GenerativeModel(\n",
    "    model_name=\"gemini-1.0-pro-002\",\n",
    "    system_instruction=[textsi_1],\n",
    "    generation_config=GenerationConfig(temperature=0),\n",
    "    safety_settings=safety_settings,\n",
    "    tools=[retail_tool],\n",
    ")\n",
    "\n",
    "# Start a chat session\n",
    "chat = model.start_chat()\n",
    "\n",
    "# Send a prompt for the first conversation turn that should invoke the get_product_sku function\n",
    "\n",
    "def get_laundering_prediction(\n",
    "        segment,\n",
    "        step,\n",
    "        trans_type,\n",
    "        amount,\n",
    "        nameOrig,\n",
    "        oldbalanceOrg,\n",
    "        nameDest,\n",
    "        oldbalanceDest,\n",
    "        accountType\n",
    "):\n",
    "    predict = {\n",
    "        \"segment\": [segment],\n",
    "        \"step\": [step],\n",
    "        \"trans_type\": [trans_type],\n",
    "        \"amount\": [amount],\n",
    "        \"nameOrig\": [nameOrig],\n",
    "        \"oldbalanceOrg\": [oldbalanceOrg],\n",
    "        \"nameDest\": [nameDest],\n",
    "        \"oldbalanceDest\": [oldbalanceDest],\n",
    "        \"accountType\": [accountType]\n",
    "    }\n",
    "    to_predict_df = pd.DataFrame(predict)\n",
    "    cat_feat = [i for i in to_predict_df.columns if to_predict_df[i].dtypes == 'O']\n",
    "    print(cat_feat)\n",
    "\n",
    "    for i in cat_feat:\n",
    "        to_predict_df[i] = to_predict_df[i].map(label_mappings[i])\n",
    "    print(to_predict_df)\n",
    "    re = str(api_model.predict(to_predict_df)[0])\n",
    "    return {\"is_laundered\": re}\n",
    "# Check the function name that the model responded with, and make an API call to an external system\n",
    "\n",
    "prompt = \"\"\"\n",
    "can you tell me if the model was laundered?\n",
    "\"\"\"\n",
    "response = chat.send_message(prompt)\n",
    "\n",
    "try:\n",
    "    function_call = response.candidates[0].function_calls[0]\n",
    "    print(function_call.name)\n",
    "    if function_call.name == \"get_laundering_prediction\":\n",
    "\n",
    "        segment = function_call.args[\"segment\"]\n",
    "        step = function_call.args[\"step\"]\n",
    "        trans_type = function_call.args[\"trans_type\"]\n",
    "        amount = function_call.args[\"amount\"]\n",
    "        nameOrig = function_call.args[\"nameOrig\"]\n",
    "        oldbalanceOrg = function_call.args[\"oldbalanceOrg\"]\n",
    "        nameDest = function_call.args[\"nameDest\"]\n",
    "        oldbalanceDest = function_call.args[\"oldbalanceDest\"]\n",
    "        accountType = function_call.args[\"accountType\"]\n",
    "        api_response = get_laundering_prediction(\n",
    "            segment,\n",
    "            step,\n",
    "            trans_type,\n",
    "            amount,\n",
    "            nameOrig,\n",
    "            oldbalanceOrg,\n",
    "            nameDest,\n",
    "            oldbalanceDest,\n",
    "            accountType\n",
    "        )\n",
    "\n",
    "    re = chat.send_message(\n",
    "        Part.from_function_response(\n",
    "            name=\"get_laundering_prediction\",\n",
    "            response={\n",
    "                \"content\": api_response,\n",
    "            },\n",
    "        ),\n",
    "    )\n",
    "    re = re.text\n",
    "    print(re)\n",
    "except:\n",
    "    try:\n",
    "        re = response.candidates[0].content.parts[0].text\n",
    "    except:\n",
    "        re = \"no response\"\n",
    "# # Extract the text from the model response\n",
    "print(re)"
   ],
   "metadata": {
    "collapsed": false
   }
  },
  {
   "cell_type": "code",
   "execution_count": 7,
   "outputs": [
    {
     "name": "stdout",
     "output_type": "stream",
     "text": [
      "['trans_type', 'nameOrig', 'nameDest', 'accountType']\n"
     ]
    }
   ],
   "source": [
    "\"\"\"\n",
    "    segment: 0,\n",
    "    step: 2,\n",
    "    trans_type: WIRE_OUT,\n",
    "    amount: 18627.02,\n",
    "    nameOrig: C1375503918,\n",
    "    oldbalanceOrg: 18627.02,\n",
    "    nameDest: C234430897,\n",
    "    oldbalanceDest: 0.0,\n",
    "    accountType: FOREIGN\n",
    "\"\"\"\n",
    "\n",
    "d = {\n",
    "    \"segement\": [0],\n",
    "    \"step\": [2],\n",
    "    \"trans_type\": [\"WIRE_OUT\"],\n",
    "    \"amount\": [18627.02],\n",
    "    \"nameOrig\": [\"C1375503918\"],\n",
    "    \"oldbalanceOrg\": [18627.02],\n",
    "    \"nameDest\": [\"C234430897\"],\n",
    "    \"oldbalanceDest\": [0.0],\n",
    "    \"accountType\": [\"FOREIGN\"]\n",
    "}\n",
    "to_predict_df = pd.DataFrame(d)\n",
    "cat_feat = [i for i in to_predict_df.columns if to_predict_df[i].dtypes == 'O']\n",
    "print(cat_feat)"
   ],
   "metadata": {
    "collapsed": false
   }
  },
  {
   "cell_type": "code",
   "execution_count": 24,
   "outputs": [
    {
     "data": {
      "text/plain": "dict_keys(['trans_type', 'nameOrig', 'nameDest', 'accountType'])"
     },
     "execution_count": 24,
     "metadata": {},
     "output_type": "execute_result"
    }
   ],
   "source": [
    "label_mappings.keys()"
   ],
   "metadata": {
    "collapsed": false
   }
  },
  {
   "cell_type": "code",
   "execution_count": 23,
   "outputs": [
    {
     "ename": "KeyError",
     "evalue": "'oldbalanceOrg'",
     "output_type": "error",
     "traceback": [
      "\u001B[0;31m---------------------------------------------------------------------------\u001B[0m",
      "\u001B[0;31mKeyError\u001B[0m                                  Traceback (most recent call last)",
      "Cell \u001B[0;32mIn[23], line 1\u001B[0m\n\u001B[0;32m----> 1\u001B[0m \u001B[43mlabel_mappings\u001B[49m\u001B[43m[\u001B[49m\u001B[38;5;124;43m\"\u001B[39;49m\u001B[38;5;124;43moldbalanceOrg\u001B[39;49m\u001B[38;5;124;43m\"\u001B[39;49m\u001B[43m]\u001B[49m\n",
      "\u001B[0;31mKeyError\u001B[0m: 'oldbalanceOrg'"
     ]
    }
   ],
   "source": [
    "label_mappings[\"oldbalanceOrg\"]"
   ],
   "metadata": {
    "collapsed": false
   }
  },
  {
   "cell_type": "code",
   "execution_count": null,
   "outputs": [],
   "source": [],
   "metadata": {
    "collapsed": false
   }
  }
 ],
 "metadata": {
  "kernelspec": {
   "display_name": "Python 3",
   "language": "python",
   "name": "python3"
  },
  "language_info": {
   "codemirror_mode": {
    "name": "ipython",
    "version": 2
   },
   "file_extension": ".py",
   "mimetype": "text/x-python",
   "name": "python",
   "nbconvert_exporter": "python",
   "pygments_lexer": "ipython2",
   "version": "2.7.6"
  }
 },
 "nbformat": 4,
 "nbformat_minor": 0
}
